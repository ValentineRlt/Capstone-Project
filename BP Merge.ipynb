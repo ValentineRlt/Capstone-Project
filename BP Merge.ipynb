{
 "cells": [
  {
   "cell_type": "markdown",
   "metadata": {},
   "source": [
    "# World Bank Data Cleaner"
   ]
  },
  {
   "cell_type": "code",
   "execution_count": 2,
   "metadata": {
    "ExecuteTime": {
     "end_time": "2020-05-30T17:51:52.273394Z",
     "start_time": "2020-05-30T17:51:50.902257Z"
    }
   },
   "outputs": [],
   "source": [
    "import pandas as pd\n",
    "import numpy as np\n",
    "import seaborn as sns"
   ]
  },
  {
   "cell_type": "markdown",
   "metadata": {
    "heading_collapsed": true
   },
   "source": [
    "## WB Data converter:  "
   ]
  },
  {
   "cell_type": "markdown",
   "metadata": {
    "hidden": true
   },
   "source": [
    "Uploading the first WB feature's csv: "
   ]
  },
  {
   "cell_type": "code",
   "execution_count": 37,
   "metadata": {
    "ExecuteTime": {
     "end_time": "2020-05-19T19:25:23.962668Z",
     "start_time": "2020-05-19T19:25:23.825533Z"
    },
    "hidden": true
   },
   "outputs": [
    {
     "data": {
      "text/html": [
       "<div>\n",
       "<style scoped>\n",
       "    .dataframe tbody tr th:only-of-type {\n",
       "        vertical-align: middle;\n",
       "    }\n",
       "\n",
       "    .dataframe tbody tr th {\n",
       "        vertical-align: top;\n",
       "    }\n",
       "\n",
       "    .dataframe thead th {\n",
       "        text-align: right;\n",
       "    }\n",
       "</style>\n",
       "<table border=\"1\" class=\"dataframe\">\n",
       "  <thead>\n",
       "    <tr style=\"text-align: right;\">\n",
       "      <th></th>\n",
       "      <th>Data Source</th>\n",
       "      <th>World Development Indicators</th>\n",
       "      <th>Unnamed: 2</th>\n",
       "      <th>Unnamed: 3</th>\n",
       "      <th>Unnamed: 4</th>\n",
       "      <th>Unnamed: 5</th>\n",
       "      <th>Unnamed: 6</th>\n",
       "      <th>Unnamed: 7</th>\n",
       "      <th>Unnamed: 8</th>\n",
       "      <th>Unnamed: 9</th>\n",
       "      <th>...</th>\n",
       "      <th>Unnamed: 55</th>\n",
       "      <th>Unnamed: 56</th>\n",
       "      <th>Unnamed: 57</th>\n",
       "      <th>Unnamed: 58</th>\n",
       "      <th>Unnamed: 59</th>\n",
       "      <th>Unnamed: 60</th>\n",
       "      <th>Unnamed: 61</th>\n",
       "      <th>Unnamed: 62</th>\n",
       "      <th>Unnamed: 63</th>\n",
       "      <th>Unnamed: 64</th>\n",
       "    </tr>\n",
       "  </thead>\n",
       "  <tbody>\n",
       "    <tr>\n",
       "      <td>0</td>\n",
       "      <td>NaN</td>\n",
       "      <td>NaN</td>\n",
       "      <td>NaN</td>\n",
       "      <td>NaN</td>\n",
       "      <td>NaN</td>\n",
       "      <td>NaN</td>\n",
       "      <td>NaN</td>\n",
       "      <td>NaN</td>\n",
       "      <td>NaN</td>\n",
       "      <td>NaN</td>\n",
       "      <td>...</td>\n",
       "      <td>NaN</td>\n",
       "      <td>NaN</td>\n",
       "      <td>NaN</td>\n",
       "      <td>NaN</td>\n",
       "      <td>NaN</td>\n",
       "      <td>NaN</td>\n",
       "      <td>NaN</td>\n",
       "      <td>NaN</td>\n",
       "      <td>NaN</td>\n",
       "      <td>NaN</td>\n",
       "    </tr>\n",
       "    <tr>\n",
       "      <td>1</td>\n",
       "      <td>Last Updated Date</td>\n",
       "      <td>2020-04-09</td>\n",
       "      <td>NaN</td>\n",
       "      <td>NaN</td>\n",
       "      <td>NaN</td>\n",
       "      <td>NaN</td>\n",
       "      <td>NaN</td>\n",
       "      <td>NaN</td>\n",
       "      <td>NaN</td>\n",
       "      <td>NaN</td>\n",
       "      <td>...</td>\n",
       "      <td>NaN</td>\n",
       "      <td>NaN</td>\n",
       "      <td>NaN</td>\n",
       "      <td>NaN</td>\n",
       "      <td>NaN</td>\n",
       "      <td>NaN</td>\n",
       "      <td>NaN</td>\n",
       "      <td>NaN</td>\n",
       "      <td>NaN</td>\n",
       "      <td>NaN</td>\n",
       "    </tr>\n",
       "    <tr>\n",
       "      <td>2</td>\n",
       "      <td>NaN</td>\n",
       "      <td>NaN</td>\n",
       "      <td>NaN</td>\n",
       "      <td>NaN</td>\n",
       "      <td>NaN</td>\n",
       "      <td>NaN</td>\n",
       "      <td>NaN</td>\n",
       "      <td>NaN</td>\n",
       "      <td>NaN</td>\n",
       "      <td>NaN</td>\n",
       "      <td>...</td>\n",
       "      <td>NaN</td>\n",
       "      <td>NaN</td>\n",
       "      <td>NaN</td>\n",
       "      <td>NaN</td>\n",
       "      <td>NaN</td>\n",
       "      <td>NaN</td>\n",
       "      <td>NaN</td>\n",
       "      <td>NaN</td>\n",
       "      <td>NaN</td>\n",
       "      <td>NaN</td>\n",
       "    </tr>\n",
       "    <tr>\n",
       "      <td>3</td>\n",
       "      <td>Country Name</td>\n",
       "      <td>Country Code</td>\n",
       "      <td>Indicator Name</td>\n",
       "      <td>Indicator Code</td>\n",
       "      <td>1960.0</td>\n",
       "      <td>1961.0</td>\n",
       "      <td>1962.0</td>\n",
       "      <td>1963.0</td>\n",
       "      <td>1964.0</td>\n",
       "      <td>1965.0</td>\n",
       "      <td>...</td>\n",
       "      <td>2011.000000</td>\n",
       "      <td>2012.000000</td>\n",
       "      <td>2013.000000</td>\n",
       "      <td>2014.000000</td>\n",
       "      <td>2015.000000</td>\n",
       "      <td>2016.000000</td>\n",
       "      <td>2017.000000</td>\n",
       "      <td>2018.0</td>\n",
       "      <td>2019.0</td>\n",
       "      <td>NaN</td>\n",
       "    </tr>\n",
       "    <tr>\n",
       "      <td>4</td>\n",
       "      <td>Aruba</td>\n",
       "      <td>ABW</td>\n",
       "      <td>GDP growth (annual %)</td>\n",
       "      <td>NY.GDP.MKTP.KD.ZG</td>\n",
       "      <td>NaN</td>\n",
       "      <td>NaN</td>\n",
       "      <td>NaN</td>\n",
       "      <td>NaN</td>\n",
       "      <td>NaN</td>\n",
       "      <td>NaN</td>\n",
       "      <td>...</td>\n",
       "      <td>3.446055</td>\n",
       "      <td>-1.369863</td>\n",
       "      <td>4.198232</td>\n",
       "      <td>0.848228</td>\n",
       "      <td>-0.450586</td>\n",
       "      <td>-0.211225</td>\n",
       "      <td>1.330511</td>\n",
       "      <td>NaN</td>\n",
       "      <td>NaN</td>\n",
       "      <td>NaN</td>\n",
       "    </tr>\n",
       "  </tbody>\n",
       "</table>\n",
       "<p>5 rows × 65 columns</p>\n",
       "</div>"
      ],
      "text/plain": [
       "         Data Source World Development Indicators             Unnamed: 2  \\\n",
       "0                NaN                          NaN                    NaN   \n",
       "1  Last Updated Date                   2020-04-09                    NaN   \n",
       "2                NaN                          NaN                    NaN   \n",
       "3       Country Name                 Country Code         Indicator Name   \n",
       "4              Aruba                          ABW  GDP growth (annual %)   \n",
       "\n",
       "          Unnamed: 3  Unnamed: 4  Unnamed: 5  Unnamed: 6  Unnamed: 7  \\\n",
       "0                NaN         NaN         NaN         NaN         NaN   \n",
       "1                NaN         NaN         NaN         NaN         NaN   \n",
       "2                NaN         NaN         NaN         NaN         NaN   \n",
       "3     Indicator Code      1960.0      1961.0      1962.0      1963.0   \n",
       "4  NY.GDP.MKTP.KD.ZG         NaN         NaN         NaN         NaN   \n",
       "\n",
       "   Unnamed: 8  Unnamed: 9  ...  Unnamed: 55  Unnamed: 56  Unnamed: 57  \\\n",
       "0         NaN         NaN  ...          NaN          NaN          NaN   \n",
       "1         NaN         NaN  ...          NaN          NaN          NaN   \n",
       "2         NaN         NaN  ...          NaN          NaN          NaN   \n",
       "3      1964.0      1965.0  ...  2011.000000  2012.000000  2013.000000   \n",
       "4         NaN         NaN  ...     3.446055    -1.369863     4.198232   \n",
       "\n",
       "   Unnamed: 58  Unnamed: 59  Unnamed: 60  Unnamed: 61  Unnamed: 62  \\\n",
       "0          NaN          NaN          NaN          NaN          NaN   \n",
       "1          NaN          NaN          NaN          NaN          NaN   \n",
       "2          NaN          NaN          NaN          NaN          NaN   \n",
       "3  2014.000000  2015.000000  2016.000000  2017.000000       2018.0   \n",
       "4     0.848228    -0.450586    -0.211225     1.330511          NaN   \n",
       "\n",
       "   Unnamed: 63  Unnamed: 64  \n",
       "0          NaN          NaN  \n",
       "1          NaN          NaN  \n",
       "2          NaN          NaN  \n",
       "3       2019.0          NaN  \n",
       "4          NaN          NaN  \n",
       "\n",
       "[5 rows x 65 columns]"
      ]
     },
     "execution_count": 37,
     "metadata": {},
     "output_type": "execute_result"
    }
   ],
   "source": [
    "gdp_g = pd.read_csv('/Users/valentinereltien/Desktop/IRENA/GDP_growth.csv')\n",
    "gdp_g.head()"
   ]
  },
  {
   "cell_type": "markdown",
   "metadata": {
    "hidden": true
   },
   "source": [
    "Devising a custom cleaning function to then be applied to all WB features: after checking, they share nearly the same format so they can be adapted in a similar way."
   ]
  },
  {
   "cell_type": "markdown",
   "metadata": {
    "hidden": true
   },
   "source": [
    "After first inspection, I realise the below countries need renaming to match IRENA's notations:"
   ]
  },
  {
   "cell_type": "code",
   "execution_count": null,
   "metadata": {
    "ExecuteTime": {
     "end_time": "2020-04-28T19:19:24.253853Z",
     "start_time": "2020-04-28T19:19:24.246361Z"
    },
    "hidden": true
   },
   "outputs": [],
   "source": [
    "countries = {'United States' : 'USA', 'United Kingdom' : 'UK', 'Korea, Rep.': 'Korea DPR'}"
   ]
  },
  {
   "cell_type": "code",
   "execution_count": 2,
   "metadata": {
    "ExecuteTime": {
     "end_time": "2020-05-02T11:16:33.288116Z",
     "start_time": "2020-05-02T11:16:33.277841Z"
    },
    "hidden": true
   },
   "outputs": [],
   "source": [
    "def country_conv(x):\n",
    "    countries = {'United States' : 'USA', 'United Kingdom' : 'UK', 'Korea, Rep.': 'Korea DPR'}\n",
    "    for i, c in countries.items():\n",
    "        if x == i:\n",
    "            return c\n",
    "        else:\n",
    "            pass"
   ]
  },
  {
   "cell_type": "code",
   "execution_count": 2,
   "metadata": {
    "ExecuteTime": {
     "end_time": "2020-05-18T16:08:11.762102Z",
     "start_time": "2020-05-18T16:08:11.736199Z"
    },
    "hidden": true
   },
   "outputs": [],
   "source": [
    "#NE to clean DataFrames extracted from the WB. Below, I test the required steps to build a function from: \n",
    "#Drop 1st 3 rows & last column, turn years into integers, rename columns headers, pivot, sort & rename & drop \n",
    "#g, \n",
    "def country_conv(x):\n",
    "    countries = {'United States' : 'USA', 'United Kingdom' : 'UK', 'Korea, Rep.': 'Korea DPR'}\n",
    "    for i, c in countries.items():\n",
    "        if x == i:\n",
    "            return c\n",
    "        else:\n",
    "            pass\n",
    "\n",
    "def wb_cleaner(df):\n",
    "    df = df.iloc[3:, :-1]\n",
    "    df.drop('Unnamed: 3', axis=1, inplace=True)\n",
    "    df.iloc[0,3:] = pd.to_datetime(df.iloc[0,3:].apply(lambda x: int(x)), format = '%Y')\n",
    "    df.rename(columns = df.iloc[0], inplace=True)\n",
    "    \n",
    "    df = df.melt(id_vars=list(df.columns[:3]),\n",
    "            var_name='Date',\n",
    "            value_name ='Value')\n",
    "    \n",
    "    df.sort_values(by = ['Country Name', 'Date'], inplace=True)\n",
    "    measure = df['Indicator Name'][1]\n",
    "    df.rename(columns = {'Country Name': 'Country', 'Value' : measure}, inplace=True)\n",
    "    df.drop(['Country Code', 'Indicator Name'], axis =1, inplace=True)\n",
    "    df = df.dropna()\n",
    "    return df"
   ]
  },
  {
   "cell_type": "markdown",
   "metadata": {},
   "source": [
    "## Converting WB Data:  "
   ]
  },
  {
   "cell_type": "markdown",
   "metadata": {},
   "source": [
    "Below, I process every new feature's csv into an adequate format, mergeable with the master frame (IRENA's)"
   ]
  },
  {
   "cell_type": "markdown",
   "metadata": {
    "ExecuteTime": {
     "end_time": "2020-05-30T17:53:49.382072Z",
     "start_time": "2020-05-30T17:53:49.375322Z"
    }
   },
   "source": [
    "Natural Resource Rent:"
   ]
  },
  {
   "cell_type": "code",
   "execution_count": 1,
   "metadata": {
    "ExecuteTime": {
     "end_time": "2020-05-30T17:51:47.506306Z",
     "start_time": "2020-05-30T17:51:47.390244Z"
    }
   },
   "outputs": [
    {
     "ename": "NameError",
     "evalue": "name 'pd' is not defined",
     "output_type": "error",
     "traceback": [
      "\u001b[0;31m---------------------------------------------------------------------------\u001b[0m",
      "\u001b[0;31mNameError\u001b[0m                                 Traceback (most recent call last)",
      "\u001b[0;32m<ipython-input-1-3e7165475cee>\u001b[0m in \u001b[0;36m<module>\u001b[0;34m\u001b[0m\n\u001b[0;32m----> 1\u001b[0;31m \u001b[0mnat_rent\u001b[0m \u001b[0;34m=\u001b[0m \u001b[0mpd\u001b[0m\u001b[0;34m.\u001b[0m\u001b[0mread_csv\u001b[0m\u001b[0;34m(\u001b[0m\u001b[0;34m'/Users/valentinereltien/Desktop/NatRent.csv'\u001b[0m\u001b[0;34m)\u001b[0m\u001b[0;34m\u001b[0m\u001b[0;34m\u001b[0m\u001b[0m\n\u001b[0m",
      "\u001b[0;31mNameError\u001b[0m: name 'pd' is not defined"
     ]
    }
   ],
   "source": [
    "nat_rent = pd.read_csv('/Users/valentinereltien/Desktop/NatRent.csv')"
   ]
  },
  {
   "cell_type": "code",
   "execution_count": 32,
   "metadata": {
    "ExecuteTime": {
     "end_time": "2020-05-19T15:08:49.007587Z",
     "start_time": "2020-05-19T15:08:48.761864Z"
    }
   },
   "outputs": [],
   "source": [
    "NtlRent = wb_cleaner(nat_rent)"
   ]
  },
  {
   "cell_type": "markdown",
   "metadata": {},
   "source": [
    "Total Area covered by Forest:"
   ]
  },
  {
   "cell_type": "code",
   "execution_count": 33,
   "metadata": {
    "ExecuteTime": {
     "end_time": "2020-05-19T15:08:49.068104Z",
     "start_time": "2020-05-19T15:08:49.019770Z"
    }
   },
   "outputs": [],
   "source": [
    "forest_area = pd.read_csv('/Users/valentinereltien/Desktop/ForestArea.csv')"
   ]
  },
  {
   "cell_type": "code",
   "execution_count": 34,
   "metadata": {
    "ExecuteTime": {
     "end_time": "2020-05-19T15:08:49.640048Z",
     "start_time": "2020-05-19T15:08:49.416119Z"
    }
   },
   "outputs": [],
   "source": [
    "ForestA = wb_cleaner(forest_area)"
   ]
  },
  {
   "cell_type": "code",
   "execution_count": 35,
   "metadata": {
    "ExecuteTime": {
     "end_time": "2020-05-19T15:08:51.192267Z",
     "start_time": "2020-05-19T15:08:51.183420Z"
    }
   },
   "outputs": [
    {
     "data": {
      "text/plain": [
       "((6917, 3), (10606, 3))"
      ]
     },
     "execution_count": 35,
     "metadata": {},
     "output_type": "execute_result"
    }
   ],
   "source": [
    "ForestA.shape, NtlRent.shape"
   ]
  },
  {
   "cell_type": "markdown",
   "metadata": {},
   "source": [
    "The two above features were added upon the second running of this model. I therefore merged only the two of these as they were then added to the already completed masterframe used in the first round. I include basic cleaning: reducing the years to observations post 2000 and transform the date to a datetime format, in accordance with IRENA's. I conclude by saving the feature to an independent csv file, in case I needed to use it separately. "
   ]
  },
  {
   "cell_type": "code",
   "execution_count": 25,
   "metadata": {
    "ExecuteTime": {
     "end_time": "2020-05-18T16:40:46.138640Z",
     "start_time": "2020-05-18T16:40:46.122736Z"
    }
   },
   "outputs": [],
   "source": [
    "envt_merged = pd.DataFrame()"
   ]
  },
  {
   "cell_type": "code",
   "execution_count": 26,
   "metadata": {
    "ExecuteTime": {
     "end_time": "2020-05-18T16:40:55.285200Z",
     "start_time": "2020-05-18T16:40:55.253914Z"
    }
   },
   "outputs": [],
   "source": [
    "envt_merged = pd.merge(ForestA, NtlRent, on = ['Country', 'Date'], how= 'left')"
   ]
  },
  {
   "cell_type": "code",
   "execution_count": 27,
   "metadata": {
    "ExecuteTime": {
     "end_time": "2020-05-18T16:40:59.807825Z",
     "start_time": "2020-05-18T16:40:59.712655Z"
    }
   },
   "outputs": [
    {
     "data": {
      "text/plain": [
       "0       1990\n",
       "1       1991\n",
       "2       1992\n",
       "3       1993\n",
       "4       1994\n",
       "        ... \n",
       "6912    2012\n",
       "6913    2013\n",
       "6914    2014\n",
       "6915    2015\n",
       "6916    2016\n",
       "Name: Date, Length: 6917, dtype: int64"
      ]
     },
     "execution_count": 27,
     "metadata": {},
     "output_type": "execute_result"
    }
   ],
   "source": [
    "pd.to_datetime(envt_merged.Date, format = '%Y').dt.year"
   ]
  },
  {
   "cell_type": "code",
   "execution_count": 28,
   "metadata": {
    "ExecuteTime": {
     "end_time": "2020-05-18T16:41:01.266997Z",
     "start_time": "2020-05-18T16:41:01.247978Z"
    }
   },
   "outputs": [],
   "source": [
    "envt_merged.Date = pd.to_datetime(envt_merged.Date, format = '%Y').dt.year"
   ]
  },
  {
   "cell_type": "code",
   "execution_count": 29,
   "metadata": {
    "ExecuteTime": {
     "end_time": "2020-05-18T16:41:09.469136Z",
     "start_time": "2020-05-18T16:41:09.447580Z"
    }
   },
   "outputs": [],
   "source": [
    "envmt = envt_merged[envt_merged.Date >= 2000]"
   ]
  },
  {
   "cell_type": "code",
   "execution_count": 36,
   "metadata": {
    "ExecuteTime": {
     "end_time": "2020-05-19T15:09:10.069611Z",
     "start_time": "2020-05-19T15:09:10.060744Z"
    }
   },
   "outputs": [
    {
     "data": {
      "text/plain": [
       "(4354, 4)"
      ]
     },
     "execution_count": 36,
     "metadata": {},
     "output_type": "execute_result"
    }
   ],
   "source": [
    "envmt.shape"
   ]
  },
  {
   "cell_type": "code",
   "execution_count": 30,
   "metadata": {
    "ExecuteTime": {
     "end_time": "2020-05-18T16:41:11.229768Z",
     "start_time": "2020-05-18T16:41:11.157409Z"
    }
   },
   "outputs": [],
   "source": [
    "envmt.to_csv('Add_envt.csv', index=False)"
   ]
  },
  {
   "cell_type": "markdown",
   "metadata": {},
   "source": [
    "Adding Net National Adjusted savings: "
   ]
  },
  {
   "cell_type": "code",
   "execution_count": 6,
   "metadata": {
    "ExecuteTime": {
     "end_time": "2020-05-18T16:12:21.358962Z",
     "start_time": "2020-05-18T16:12:21.340350Z"
    }
   },
   "outputs": [],
   "source": [
    "adjsavs_usd = pd.read_csv('/Users/valentinereltien/Desktop/IRENA/adjusted_sav_CL.csv')"
   ]
  },
  {
   "cell_type": "code",
   "execution_count": 5,
   "metadata": {
    "ExecuteTime": {
     "end_time": "2020-05-02T11:32:03.148285Z",
     "start_time": "2020-05-02T11:32:02.924191Z"
    }
   },
   "outputs": [],
   "source": [
    "Adjsav_usd = wb_cleaner(adjsavs_usd)"
   ]
  },
  {
   "cell_type": "code",
   "execution_count": 8,
   "metadata": {
    "ExecuteTime": {
     "end_time": "2020-05-02T11:35:59.195002Z",
     "start_time": "2020-05-02T11:35:59.109027Z"
    }
   },
   "outputs": [],
   "source": [
    "Adjsav_usd.to_csv('                                            ', index=False)"
   ]
  },
  {
   "cell_type": "code",
   "execution_count": null,
   "metadata": {
    "ExecuteTime": {
     "end_time": "2020-04-27T16:49:46.468826Z",
     "start_time": "2020-04-27T16:49:46.321792Z"
    }
   },
   "outputs": [],
   "source": [
    "gdp.to_csv('GDP.csv', index=False)"
   ]
  },
  {
   "cell_type": "markdown",
   "metadata": {},
   "source": [
    "Merging first two features together, first two bricks of the aimed-for WB master dataframe: merging all features together before a final merge onto IRENA's: "
   ]
  },
  {
   "cell_type": "code",
   "execution_count": null,
   "metadata": {
    "ExecuteTime": {
     "end_time": "2020-04-27T16:50:09.883440Z",
     "start_time": "2020-04-27T16:50:09.867341Z"
    }
   },
   "outputs": [],
   "source": [
    "master_lefted = pd.merge(gdp, adj_savings, on = ['Country', 'Date'], how = 'left')"
   ]
  },
  {
   "cell_type": "markdown",
   "metadata": {},
   "source": [
    "Done with adjusted savings:  "
   ]
  },
  {
   "cell_type": "code",
   "execution_count": null,
   "metadata": {
    "ExecuteTime": {
     "end_time": "2020-04-27T16:49:49.833379Z",
     "start_time": "2020-04-27T16:49:49.817413Z"
    }
   },
   "outputs": [],
   "source": [
    "adj_sav = pd.read_csv('/Users/valentinereltien/Desktop/WBank/WB_GDP/Adjusted_savings.csv')"
   ]
  },
  {
   "cell_type": "code",
   "execution_count": null,
   "metadata": {
    "ExecuteTime": {
     "end_time": "2020-04-27T16:49:50.176414Z",
     "start_time": "2020-04-27T16:49:50.034975Z"
    }
   },
   "outputs": [],
   "source": [
    "adj_savings = wb_cleaner(adj_sav)"
   ]
  },
  {
   "cell_type": "code",
   "execution_count": null,
   "metadata": {
    "ExecuteTime": {
     "end_time": "2020-04-27T16:49:51.748587Z",
     "start_time": "2020-04-27T16:49:51.649865Z"
    }
   },
   "outputs": [],
   "source": [
    "adj_savings.to_csv('adjusted_sav_CL.csv', index=False)"
   ]
  },
  {
   "cell_type": "markdown",
   "metadata": {},
   "source": [
    "Adding, cleaning & merging GNP feature:"
   ]
  },
  {
   "cell_type": "code",
   "execution_count": null,
   "metadata": {
    "ExecuteTime": {
     "end_time": "2020-04-27T16:50:13.345059Z",
     "start_time": "2020-04-27T16:50:13.329248Z"
    }
   },
   "outputs": [],
   "source": [
    "gnp = pd.read_csv('/Users/valentinereltien/Desktop/WBank/GNP.csv')"
   ]
  },
  {
   "cell_type": "code",
   "execution_count": null,
   "metadata": {
    "ExecuteTime": {
     "end_time": "2020-04-27T16:50:13.817124Z",
     "start_time": "2020-04-27T16:50:13.664120Z"
    }
   },
   "outputs": [],
   "source": [
    "gnp = wb_cleaner(gnp)"
   ]
  },
  {
   "cell_type": "code",
   "execution_count": null,
   "metadata": {
    "ExecuteTime": {
     "end_time": "2020-04-27T16:50:15.025603Z",
     "start_time": "2020-04-27T16:50:14.930228Z"
    }
   },
   "outputs": [],
   "source": [
    "gnp.to_csv('GNP_Cl.csv', index=False)"
   ]
  },
  {
   "cell_type": "code",
   "execution_count": null,
   "metadata": {
    "ExecuteTime": {
     "end_time": "2020-04-27T16:50:20.314526Z",
     "start_time": "2020-04-27T16:50:20.296715Z"
    }
   },
   "outputs": [],
   "source": [
    "master_lefted = pd.merge(master_lefted, gnp, on = ['Country', 'Date'], how = 'left')"
   ]
  },
  {
   "cell_type": "markdown",
   "metadata": {},
   "source": [
    "Adjusted National Savings including Energy Depletion:"
   ]
  },
  {
   "cell_type": "code",
   "execution_count": null,
   "metadata": {
    "ExecuteTime": {
     "end_time": "2020-04-27T16:50:21.114895Z",
     "start_time": "2020-04-27T16:50:21.098660Z"
    }
   },
   "outputs": [],
   "source": [
    "nrj_dep = pd.read_csv('/Users/valentinereltien/Desktop/WBank/Energy_depletion.csv')"
   ]
  },
  {
   "cell_type": "code",
   "execution_count": null,
   "metadata": {
    "ExecuteTime": {
     "end_time": "2020-04-27T16:50:21.481633Z",
     "start_time": "2020-04-27T16:50:21.332789Z"
    }
   },
   "outputs": [],
   "source": [
    "nrj_dep = wb_cleaner(nrj_dep)"
   ]
  },
  {
   "cell_type": "code",
   "execution_count": null,
   "metadata": {
    "ExecuteTime": {
     "end_time": "2020-04-27T16:50:23.203769Z",
     "start_time": "2020-04-27T16:50:23.074190Z"
    }
   },
   "outputs": [],
   "source": [
    "nrj_dep.to_csv('energy_dep.csv', index=False)"
   ]
  },
  {
   "cell_type": "code",
   "execution_count": null,
   "metadata": {
    "ExecuteTime": {
     "end_time": "2020-04-27T16:50:25.346634Z",
     "start_time": "2020-04-27T16:50:25.324785Z"
    }
   },
   "outputs": [],
   "source": [
    "WB_lefted = pd.merge(master_lefted, nrj_dep, on = ['Country', 'Date'], how = 'left')"
   ]
  },
  {
   "cell_type": "markdown",
   "metadata": {},
   "source": [
    "Adjusted National Savings including CO2 damage:"
   ]
  },
  {
   "cell_type": "code",
   "execution_count": 39,
   "metadata": {
    "ExecuteTime": {
     "end_time": "2020-04-29T13:20:42.577819Z",
     "start_time": "2020-04-29T13:20:42.557263Z"
    }
   },
   "outputs": [],
   "source": [
    "CO2_dmg = pd.read_csv('/Users/valentinereltien/Desktop/WBank/CO2_dam.csv')"
   ]
  },
  {
   "cell_type": "code",
   "execution_count": 40,
   "metadata": {
    "ExecuteTime": {
     "end_time": "2020-04-29T13:20:46.478558Z",
     "start_time": "2020-04-29T13:20:46.330310Z"
    }
   },
   "outputs": [],
   "source": [
    "CO2 = wb_cleaner(CO2_dmg)"
   ]
  },
  {
   "cell_type": "code",
   "execution_count": 41,
   "metadata": {
    "ExecuteTime": {
     "end_time": "2020-04-29T13:20:53.170010Z",
     "start_time": "2020-04-29T13:20:53.142272Z"
    }
   },
   "outputs": [
    {
     "data": {
      "text/html": [
       "<div>\n",
       "<style scoped>\n",
       "    .dataframe tbody tr th:only-of-type {\n",
       "        vertical-align: middle;\n",
       "    }\n",
       "\n",
       "    .dataframe tbody tr th {\n",
       "        vertical-align: top;\n",
       "    }\n",
       "\n",
       "    .dataframe thead th {\n",
       "        text-align: right;\n",
       "    }\n",
       "</style>\n",
       "<table border=\"1\" class=\"dataframe\">\n",
       "  <thead>\n",
       "    <tr style=\"text-align: right;\">\n",
       "      <th></th>\n",
       "      <th>Country</th>\n",
       "      <th>Date</th>\n",
       "      <th>Adjusted savings: carbon dioxide damage (current US$)</th>\n",
       "    </tr>\n",
       "  </thead>\n",
       "  <tbody>\n",
       "    <tr>\n",
       "      <td>2652</td>\n",
       "      <td>Afghanistan</td>\n",
       "      <td>1970-01-01</td>\n",
       "      <td>2.77456e+06</td>\n",
       "    </tr>\n",
       "    <tr>\n",
       "      <td>2917</td>\n",
       "      <td>Afghanistan</td>\n",
       "      <td>1971-01-01</td>\n",
       "      <td>3.39641e+06</td>\n",
       "    </tr>\n",
       "    <tr>\n",
       "      <td>3182</td>\n",
       "      <td>Afghanistan</td>\n",
       "      <td>1972-01-01</td>\n",
       "      <td>2.93962e+06</td>\n",
       "    </tr>\n",
       "    <tr>\n",
       "      <td>3447</td>\n",
       "      <td>Afghanistan</td>\n",
       "      <td>1973-01-01</td>\n",
       "      <td>3.42623e+06</td>\n",
       "    </tr>\n",
       "    <tr>\n",
       "      <td>3712</td>\n",
       "      <td>Afghanistan</td>\n",
       "      <td>1974-01-01</td>\n",
       "      <td>4.50012e+06</td>\n",
       "    </tr>\n",
       "  </tbody>\n",
       "</table>\n",
       "</div>"
      ],
      "text/plain": [
       "          Country       Date  \\\n",
       "2652  Afghanistan 1970-01-01   \n",
       "2917  Afghanistan 1971-01-01   \n",
       "3182  Afghanistan 1972-01-01   \n",
       "3447  Afghanistan 1973-01-01   \n",
       "3712  Afghanistan 1974-01-01   \n",
       "\n",
       "     Adjusted savings: carbon dioxide damage (current US$)  \n",
       "2652                                        2.77456e+06     \n",
       "2917                                        3.39641e+06     \n",
       "3182                                        2.93962e+06     \n",
       "3447                                        3.42623e+06     \n",
       "3712                                        4.50012e+06     "
      ]
     },
     "execution_count": 41,
     "metadata": {},
     "output_type": "execute_result"
    }
   ],
   "source": [
    "CO2.head()"
   ]
  },
  {
   "cell_type": "code",
   "execution_count": null,
   "metadata": {
    "ExecuteTime": {
     "end_time": "2020-04-27T16:50:30.016382Z",
     "start_time": "2020-04-27T16:50:29.994783Z"
    }
   },
   "outputs": [],
   "source": [
    "WB_lefted = pd.merge(WB_lefted, CO2, on = ['Country', 'Date'], how = 'left')"
   ]
  },
  {
   "cell_type": "code",
   "execution_count": 42,
   "metadata": {
    "ExecuteTime": {
     "end_time": "2020-04-29T13:21:00.449417Z",
     "start_time": "2020-04-29T13:21:00.310584Z"
    }
   },
   "outputs": [],
   "source": [
    "CO2.to_csv('CO2_wb.csv', index=False)"
   ]
  },
  {
   "cell_type": "markdown",
   "metadata": {},
   "source": [
    "Adjusted National Savings including Particulate Emission:"
   ]
  },
  {
   "cell_type": "code",
   "execution_count": null,
   "metadata": {
    "ExecuteTime": {
     "end_time": "2020-04-27T16:50:32.018372Z",
     "start_time": "2020-04-27T16:50:32.001366Z"
    }
   },
   "outputs": [],
   "source": [
    "pt_ems = pd.read_csv('/Users/valentinereltien/Desktop/WBank/Particulate_ems.csv')"
   ]
  },
  {
   "cell_type": "code",
   "execution_count": null,
   "metadata": {
    "ExecuteTime": {
     "end_time": "2020-04-27T16:50:32.628536Z",
     "start_time": "2020-04-27T16:50:32.483671Z"
    }
   },
   "outputs": [],
   "source": [
    "pt_ems = wb_cleaner(pt_ems)"
   ]
  },
  {
   "cell_type": "code",
   "execution_count": null,
   "metadata": {
    "ExecuteTime": {
     "end_time": "2020-04-27T16:50:33.779852Z",
     "start_time": "2020-04-27T16:50:33.668074Z"
    }
   },
   "outputs": [],
   "source": [
    "pt_ems.to_csv('Ptc_em.csv', index=False)"
   ]
  },
  {
   "cell_type": "code",
   "execution_count": null,
   "metadata": {
    "ExecuteTime": {
     "end_time": "2020-04-27T16:50:36.070463Z",
     "start_time": "2020-04-27T16:50:36.041545Z"
    }
   },
   "outputs": [],
   "source": [
    "WB_lefted = pd.merge(WB_lefted, pt_ems, on = ['Country', 'Date'], how = 'left')"
   ]
  },
  {
   "cell_type": "code",
   "execution_count": null,
   "metadata": {
    "ExecuteTime": {
     "end_time": "2020-04-27T16:50:39.084164Z",
     "start_time": "2020-04-27T16:50:39.067005Z"
    }
   },
   "outputs": [],
   "source": [
    "WB_lefted.head()"
   ]
  },
  {
   "cell_type": "code",
   "execution_count": null,
   "metadata": {
    "ExecuteTime": {
     "end_time": "2020-04-27T16:51:24.343973Z",
     "start_time": "2020-04-27T16:51:24.125453Z"
    }
   },
   "outputs": [],
   "source": [
    "WB_lefted.to_csv('WB_indicators_2.csv', index=False)"
   ]
  },
  {
   "cell_type": "code",
   "execution_count": null,
   "metadata": {
    "ExecuteTime": {
     "end_time": "2020-04-28T19:06:01.497027Z",
     "start_time": "2020-04-28T19:06:01.404699Z"
    }
   },
   "outputs": [],
   "source": [
    "WB = pd.read_csv('/Users/valentinereltien/Desktop/IRENA/WB_indicators_2.csv')\n",
    "WB.head()"
   ]
  },
  {
   "cell_type": "markdown",
   "metadata": {},
   "source": [
    "Attempt at adding Private Investment, I eventually retract it as it contains too few observations: "
   ]
  },
  {
   "cell_type": "code",
   "execution_count": null,
   "metadata": {
    "ExecuteTime": {
     "end_time": "2020-04-28T19:07:54.239001Z",
     "start_time": "2020-04-28T19:07:54.191787Z"
    }
   },
   "outputs": [],
   "source": [
    "private_inv = pd.read_csv('/Users/valentinereltien/Desktop/WBank/WB_privateinv.csv')\n",
    "private_inv.head()"
   ]
  },
  {
   "cell_type": "code",
   "execution_count": null,
   "metadata": {
    "ExecuteTime": {
     "end_time": "2020-04-28T19:19:33.084567Z",
     "start_time": "2020-04-28T19:19:32.944093Z"
    }
   },
   "outputs": [],
   "source": [
    "pvinv = wb_cleaner(private_inv)"
   ]
  },
  {
   "cell_type": "code",
   "execution_count": null,
   "metadata": {
    "ExecuteTime": {
     "end_time": "2020-04-28T19:20:10.700711Z",
     "start_time": "2020-04-28T19:20:10.673298Z"
    }
   },
   "outputs": [],
   "source": [
    "pvinv.to_csv('WB_PrvREinv.csv', index=False)"
   ]
  },
  {
   "cell_type": "markdown",
   "metadata": {},
   "source": [
    "Adding, cleaning & merging the Unemployment Rate: "
   ]
  },
  {
   "cell_type": "code",
   "execution_count": 26,
   "metadata": {
    "ExecuteTime": {
     "end_time": "2020-04-29T13:17:34.116340Z",
     "start_time": "2020-04-29T13:17:34.095606Z"
    }
   },
   "outputs": [],
   "source": [
    "unemp = pd.read_csv('/Users/valentinereltien/Desktop/WBank/WB_unemp.csv')"
   ]
  },
  {
   "cell_type": "code",
   "execution_count": 28,
   "metadata": {
    "ExecuteTime": {
     "end_time": "2020-04-29T13:17:51.408228Z",
     "start_time": "2020-04-29T13:17:51.229207Z"
    }
   },
   "outputs": [],
   "source": [
    "unemp = wb_cleaner(unemp)"
   ]
  },
  {
   "cell_type": "code",
   "execution_count": 29,
   "metadata": {
    "ExecuteTime": {
     "end_time": "2020-04-29T13:17:57.330885Z",
     "start_time": "2020-04-29T13:17:57.214808Z"
    }
   },
   "outputs": [],
   "source": [
    "unemp.to_csv('WB_unemp_cl.csv', index=False)"
   ]
  },
  {
   "cell_type": "markdown",
   "metadata": {},
   "source": [
    "After re-opening this notebook, I reloading each individual feature to merge them together in a single loop, ensuring the process' uniformity: "
   ]
  },
  {
   "cell_type": "code",
   "execution_count": 3,
   "metadata": {
    "ExecuteTime": {
     "end_time": "2020-04-30T08:16:50.400314Z",
     "start_time": "2020-04-30T08:16:50.384598Z"
    }
   },
   "outputs": [],
   "source": [
    "adj_savings = pd.read_csv('/Users/valentinereltien/Desktop/IRENA/adjusted_sav_CL.csv')"
   ]
  },
  {
   "cell_type": "code",
   "execution_count": 4,
   "metadata": {
    "ExecuteTime": {
     "end_time": "2020-04-30T08:16:50.596871Z",
     "start_time": "2020-04-30T08:16:50.574536Z"
    }
   },
   "outputs": [],
   "source": [
    "gdp = pd.read_csv('/Users/valentinereltien/Desktop/IRENA/GDP.csv')"
   ]
  },
  {
   "cell_type": "code",
   "execution_count": 5,
   "metadata": {
    "ExecuteTime": {
     "end_time": "2020-04-30T08:16:50.768490Z",
     "start_time": "2020-04-30T08:16:50.750427Z"
    }
   },
   "outputs": [],
   "source": [
    "gnp = pd.read_csv('/Users/valentinereltien/Desktop/IRENA/GNP_Cl.csv')"
   ]
  },
  {
   "cell_type": "code",
   "execution_count": 6,
   "metadata": {
    "ExecuteTime": {
     "end_time": "2020-04-30T08:16:50.926050Z",
     "start_time": "2020-04-30T08:16:50.905488Z"
    }
   },
   "outputs": [],
   "source": [
    "nrj_dep = pd.read_csv('/Users/valentinereltien/Desktop/IRENA/energy_dep.csv')"
   ]
  },
  {
   "cell_type": "code",
   "execution_count": 7,
   "metadata": {
    "ExecuteTime": {
     "end_time": "2020-04-30T08:16:51.077289Z",
     "start_time": "2020-04-30T08:16:51.052844Z"
    }
   },
   "outputs": [],
   "source": [
    "CO2 = pd.read_csv('/Users/valentinereltien/Desktop/IRENA/CO2_wb.csv')"
   ]
  },
  {
   "cell_type": "code",
   "execution_count": 8,
   "metadata": {
    "ExecuteTime": {
     "end_time": "2020-04-30T08:16:51.234658Z",
     "start_time": "2020-04-30T08:16:51.213236Z"
    }
   },
   "outputs": [],
   "source": [
    "pt_ems = pd.read_csv('/Users/valentinereltien/Desktop/IRENA/Ptc_em.csv')"
   ]
  },
  {
   "cell_type": "code",
   "execution_count": 9,
   "metadata": {
    "ExecuteTime": {
     "end_time": "2020-04-30T08:16:51.375113Z",
     "start_time": "2020-04-30T08:16:51.355070Z"
    }
   },
   "outputs": [],
   "source": [
    "pvinv = pd.read_csv('/Users/valentinereltien/Desktop/IRENA/WB_PrvREinv.csv')"
   ]
  },
  {
   "cell_type": "code",
   "execution_count": 10,
   "metadata": {
    "ExecuteTime": {
     "end_time": "2020-04-30T08:16:51.591579Z",
     "start_time": "2020-04-30T08:16:51.559152Z"
    }
   },
   "outputs": [
    {
     "data": {
      "text/html": [
       "<div>\n",
       "<style scoped>\n",
       "    .dataframe tbody tr th:only-of-type {\n",
       "        vertical-align: middle;\n",
       "    }\n",
       "\n",
       "    .dataframe tbody tr th {\n",
       "        vertical-align: top;\n",
       "    }\n",
       "\n",
       "    .dataframe thead th {\n",
       "        text-align: right;\n",
       "    }\n",
       "</style>\n",
       "<table border=\"1\" class=\"dataframe\">\n",
       "  <thead>\n",
       "    <tr style=\"text-align: right;\">\n",
       "      <th></th>\n",
       "      <th>Country</th>\n",
       "      <th>Date</th>\n",
       "      <th>Unemployment, total (% of total labor force) (modeled ILO estimate)</th>\n",
       "    </tr>\n",
       "  </thead>\n",
       "  <tbody>\n",
       "    <tr>\n",
       "      <td>0</td>\n",
       "      <td>Afghanistan</td>\n",
       "      <td>1991-01-01</td>\n",
       "      <td>11.2180004119873</td>\n",
       "    </tr>\n",
       "    <tr>\n",
       "      <td>1</td>\n",
       "      <td>Afghanistan</td>\n",
       "      <td>1992-01-01</td>\n",
       "      <td>11.2930002212524</td>\n",
       "    </tr>\n",
       "    <tr>\n",
       "      <td>2</td>\n",
       "      <td>Afghanistan</td>\n",
       "      <td>1993-01-01</td>\n",
       "      <td>11.4420003890991</td>\n",
       "    </tr>\n",
       "    <tr>\n",
       "      <td>3</td>\n",
       "      <td>Afghanistan</td>\n",
       "      <td>1994-01-01</td>\n",
       "      <td>11.470000267028801</td>\n",
       "    </tr>\n",
       "    <tr>\n",
       "      <td>4</td>\n",
       "      <td>Afghanistan</td>\n",
       "      <td>1995-01-01</td>\n",
       "      <td>11.4770002365112</td>\n",
       "    </tr>\n",
       "  </tbody>\n",
       "</table>\n",
       "</div>"
      ],
      "text/plain": [
       "       Country        Date  \\\n",
       "0  Afghanistan  1991-01-01   \n",
       "1  Afghanistan  1992-01-01   \n",
       "2  Afghanistan  1993-01-01   \n",
       "3  Afghanistan  1994-01-01   \n",
       "4  Afghanistan  1995-01-01   \n",
       "\n",
       "  Unemployment, total (% of total labor force) (modeled ILO estimate)  \n",
       "0                                   11.2180004119873                   \n",
       "1                                   11.2930002212524                   \n",
       "2                                   11.4420003890991                   \n",
       "3                                 11.470000267028801                   \n",
       "4                                   11.4770002365112                   "
      ]
     },
     "execution_count": 10,
     "metadata": {},
     "output_type": "execute_result"
    }
   ],
   "source": [
    "unemp = pd.read_csv('/Users/valentinereltien/Desktop/IRENA/WB_unemp_cl.csv')\n",
    "unemp.head()"
   ]
  },
  {
   "cell_type": "code",
   "execution_count": 10,
   "metadata": {
    "ExecuteTime": {
     "end_time": "2020-04-29T16:33:11.902633Z",
     "start_time": "2020-04-29T16:33:11.883603Z"
    }
   },
   "outputs": [
    {
     "data": {
      "text/html": [
       "<div>\n",
       "<style scoped>\n",
       "    .dataframe tbody tr th:only-of-type {\n",
       "        vertical-align: middle;\n",
       "    }\n",
       "\n",
       "    .dataframe tbody tr th {\n",
       "        vertical-align: top;\n",
       "    }\n",
       "\n",
       "    .dataframe thead th {\n",
       "        text-align: right;\n",
       "    }\n",
       "</style>\n",
       "<table border=\"1\" class=\"dataframe\">\n",
       "  <thead>\n",
       "    <tr style=\"text-align: right;\">\n",
       "      <th></th>\n",
       "      <th>Country</th>\n",
       "      <th>Date</th>\n",
       "      <th>Adjusted savings: carbon dioxide damage (current US$)</th>\n",
       "    </tr>\n",
       "  </thead>\n",
       "  <tbody>\n",
       "    <tr>\n",
       "      <td>0</td>\n",
       "      <td>Afghanistan</td>\n",
       "      <td>1970-01-01</td>\n",
       "      <td>2774563.82969348</td>\n",
       "    </tr>\n",
       "    <tr>\n",
       "      <td>1</td>\n",
       "      <td>Afghanistan</td>\n",
       "      <td>1971-01-01</td>\n",
       "      <td>3396414.60259953</td>\n",
       "    </tr>\n",
       "    <tr>\n",
       "      <td>2</td>\n",
       "      <td>Afghanistan</td>\n",
       "      <td>1972-01-01</td>\n",
       "      <td>2939621.23541783</td>\n",
       "    </tr>\n",
       "    <tr>\n",
       "      <td>3</td>\n",
       "      <td>Afghanistan</td>\n",
       "      <td>1973-01-01</td>\n",
       "      <td>3426233.12117702</td>\n",
       "    </tr>\n",
       "    <tr>\n",
       "      <td>4</td>\n",
       "      <td>Afghanistan</td>\n",
       "      <td>1974-01-01</td>\n",
       "      <td>4500115.51485246</td>\n",
       "    </tr>\n",
       "  </tbody>\n",
       "</table>\n",
       "</div>"
      ],
      "text/plain": [
       "       Country        Date  \\\n",
       "0  Afghanistan  1970-01-01   \n",
       "1  Afghanistan  1971-01-01   \n",
       "2  Afghanistan  1972-01-01   \n",
       "3  Afghanistan  1973-01-01   \n",
       "4  Afghanistan  1974-01-01   \n",
       "\n",
       "  Adjusted savings: carbon dioxide damage (current US$)  \n",
       "0                                   2774563.82969348     \n",
       "1                                   3396414.60259953     \n",
       "2                                   2939621.23541783     \n",
       "3                                   3426233.12117702     \n",
       "4                                   4500115.51485246     "
      ]
     },
     "execution_count": 10,
     "metadata": {},
     "output_type": "execute_result"
    }
   ],
   "source": [
    "CO2.head()"
   ]
  },
  {
   "cell_type": "markdown",
   "metadata": {},
   "source": [
    "I create a list of all features in order to loop through them in a merging function for the complete WB set:"
   ]
  },
  {
   "cell_type": "code",
   "execution_count": 11,
   "metadata": {
    "ExecuteTime": {
     "end_time": "2020-04-30T08:17:36.939609Z",
     "start_time": "2020-04-30T08:17:36.933606Z"
    }
   },
   "outputs": [],
   "source": [
    "WB_dfs = [adj_savings, gnp, nrj_dep, CO2, pt_ems, pvinv, unemp, co2e]"
   ]
  },
  {
   "cell_type": "code",
   "execution_count": 12,
   "metadata": {
    "ExecuteTime": {
     "end_time": "2020-04-30T08:17:38.024347Z",
     "start_time": "2020-04-30T08:17:38.017440Z"
    }
   },
   "outputs": [],
   "source": [
    "df_m = gdp.copy()"
   ]
  },
  {
   "cell_type": "code",
   "execution_count": 13,
   "metadata": {
    "ExecuteTime": {
     "end_time": "2020-04-30T08:17:38.824252Z",
     "start_time": "2020-04-30T08:17:38.774881Z"
    }
   },
   "outputs": [
    {
     "data": {
      "text/html": [
       "<div>\n",
       "<style scoped>\n",
       "    .dataframe tbody tr th:only-of-type {\n",
       "        vertical-align: middle;\n",
       "    }\n",
       "\n",
       "    .dataframe tbody tr th {\n",
       "        vertical-align: top;\n",
       "    }\n",
       "\n",
       "    .dataframe thead th {\n",
       "        text-align: right;\n",
       "    }\n",
       "</style>\n",
       "<table border=\"1\" class=\"dataframe\">\n",
       "  <thead>\n",
       "    <tr style=\"text-align: right;\">\n",
       "      <th></th>\n",
       "      <th>Country</th>\n",
       "      <th>Date</th>\n",
       "      <th>GDP growth (annual %)</th>\n",
       "      <th>Adjusted savings: gross savings (% of GNI)</th>\n",
       "      <th>GNI growth (annual %)</th>\n",
       "    </tr>\n",
       "  </thead>\n",
       "  <tbody>\n",
       "    <tr>\n",
       "      <td>0</td>\n",
       "      <td>Albania</td>\n",
       "      <td>2009-01-01</td>\n",
       "      <td>3.35006739254982</td>\n",
       "      <td>17.56145981</td>\n",
       "      <td>1.30684585245906</td>\n",
       "    </tr>\n",
       "    <tr>\n",
       "      <td>1</td>\n",
       "      <td>Albania</td>\n",
       "      <td>2010-01-01</td>\n",
       "      <td>3.70689143341055</td>\n",
       "      <td>20.17123356</td>\n",
       "      <td>4.3096494698954</td>\n",
       "    </tr>\n",
       "    <tr>\n",
       "      <td>2</td>\n",
       "      <td>Albania</td>\n",
       "      <td>2011-01-01</td>\n",
       "      <td>2.54532265145231</td>\n",
       "      <td>20.53417201</td>\n",
       "      <td>3.6098457178355403</td>\n",
       "    </tr>\n",
       "    <tr>\n",
       "      <td>3</td>\n",
       "      <td>Albania</td>\n",
       "      <td>2012-01-01</td>\n",
       "      <td>1.41752440769345</td>\n",
       "      <td>19.77571852</td>\n",
       "      <td>0.6519218056270261</td>\n",
       "    </tr>\n",
       "    <tr>\n",
       "      <td>4</td>\n",
       "      <td>Albania</td>\n",
       "      <td>2013-01-01</td>\n",
       "      <td>1.00198870924962</td>\n",
       "      <td>17.43979963</td>\n",
       "      <td>3.45312621040412</td>\n",
       "    </tr>\n",
       "    <tr>\n",
       "      <td>...</td>\n",
       "      <td>...</td>\n",
       "      <td>...</td>\n",
       "      <td>...</td>\n",
       "      <td>...</td>\n",
       "      <td>...</td>\n",
       "    </tr>\n",
       "    <tr>\n",
       "      <td>6996</td>\n",
       "      <td>Zimbabwe</td>\n",
       "      <td>2014-01-01</td>\n",
       "      <td>2.37692932698003</td>\n",
       "      <td>-3.350498743</td>\n",
       "      <td>2.6741109172818702</td>\n",
       "    </tr>\n",
       "    <tr>\n",
       "      <td>6997</td>\n",
       "      <td>Zimbabwe</td>\n",
       "      <td>2015-01-01</td>\n",
       "      <td>1.7798727034029902</td>\n",
       "      <td>-9.108389096</td>\n",
       "      <td>0.18180389096691799</td>\n",
       "    </tr>\n",
       "    <tr>\n",
       "      <td>6998</td>\n",
       "      <td>Zimbabwe</td>\n",
       "      <td>2016-01-01</td>\n",
       "      <td>0.7558692509306009</td>\n",
       "      <td>-1.3341581470000001</td>\n",
       "      <td>2.4687219431414</td>\n",
       "    </tr>\n",
       "    <tr>\n",
       "      <td>6999</td>\n",
       "      <td>Zimbabwe</td>\n",
       "      <td>2017-01-01</td>\n",
       "      <td>4.70403534833559</td>\n",
       "      <td>-2.423258669</td>\n",
       "      <td>4.744133314800241</td>\n",
       "    </tr>\n",
       "    <tr>\n",
       "      <td>7000</td>\n",
       "      <td>Zimbabwe</td>\n",
       "      <td>2018-01-01</td>\n",
       "      <td>6.15918979848757</td>\n",
       "      <td>NaN</td>\n",
       "      <td>16.4284104094943</td>\n",
       "    </tr>\n",
       "  </tbody>\n",
       "</table>\n",
       "<p>7001 rows × 5 columns</p>\n",
       "</div>"
      ],
      "text/plain": [
       "       Country        Date GDP growth (annual %)  \\\n",
       "0      Albania  2009-01-01      3.35006739254982   \n",
       "1      Albania  2010-01-01      3.70689143341055   \n",
       "2      Albania  2011-01-01      2.54532265145231   \n",
       "3      Albania  2012-01-01      1.41752440769345   \n",
       "4      Albania  2013-01-01      1.00198870924962   \n",
       "...        ...         ...                   ...   \n",
       "6996  Zimbabwe  2014-01-01      2.37692932698003   \n",
       "6997  Zimbabwe  2015-01-01    1.7798727034029902   \n",
       "6998  Zimbabwe  2016-01-01    0.7558692509306009   \n",
       "6999  Zimbabwe  2017-01-01      4.70403534833559   \n",
       "7000  Zimbabwe  2018-01-01      6.15918979848757   \n",
       "\n",
       "     Adjusted savings: gross savings (% of GNI) GNI growth (annual %)  \n",
       "0                                   17.56145981      1.30684585245906  \n",
       "1                                   20.17123356       4.3096494698954  \n",
       "2                                   20.53417201    3.6098457178355403  \n",
       "3                                   19.77571852    0.6519218056270261  \n",
       "4                                   17.43979963      3.45312621040412  \n",
       "...                                         ...                   ...  \n",
       "6996                               -3.350498743    2.6741109172818702  \n",
       "6997                               -9.108389096   0.18180389096691799  \n",
       "6998                        -1.3341581470000001       2.4687219431414  \n",
       "6999                               -2.423258669     4.744133314800241  \n",
       "7000                                        NaN      16.4284104094943  \n",
       "\n",
       "[7001 rows x 5 columns]"
      ]
     },
     "execution_count": 13,
     "metadata": {},
     "output_type": "execute_result"
    }
   ],
   "source": [
    "pd.merge(gdp, adj_savings, on = ['Country', 'Date'], how = 'outer').merge(gnp)"
   ]
  },
  {
   "cell_type": "markdown",
   "metadata": {},
   "source": [
    "Simple merging loop: "
   ]
  },
  {
   "cell_type": "code",
   "execution_count": 14,
   "metadata": {
    "ExecuteTime": {
     "end_time": "2020-04-30T08:17:50.393649Z",
     "start_time": "2020-04-30T08:17:50.234163Z"
    }
   },
   "outputs": [
    {
     "name": "stdout",
     "output_type": "stream",
     "text": [
      "Index(['Country', 'Date', 'GDP growth (annual %)',\n",
      "       'Adjusted savings: gross savings (% of GNI)', 'GNI growth (annual %)',\n",
      "       'Adjusted savings: energy depletion (current US$)',\n",
      "       'Adjusted savings: carbon dioxide damage (current US$)',\n",
      "       'Adjusted savings: particulate emission damage (% of GNI)',\n",
      "       'Investment in energy with private participation (current US$)',\n",
      "       'Unemployment, total (% of total labor force) (modeled ILO estimate)',\n",
      "       'CO2 emissions (metric tons per capita)'],\n",
      "      dtype='object')\n"
     ]
    }
   ],
   "source": [
    "for df in WB_dfs:\n",
    "    df_m= pd.merge(df_m, df, on = ['Country', 'Date'], how = 'left')\n",
    "print(df_m.columns)"
   ]
  },
  {
   "cell_type": "markdown",
   "metadata": {},
   "source": [
    "Copying the above frame for some basic EDA, thus leaving the origial unchanged:"
   ]
  },
  {
   "cell_type": "code",
   "execution_count": 22,
   "metadata": {
    "ExecuteTime": {
     "end_time": "2020-04-30T08:27:34.117626Z",
     "start_time": "2020-04-30T08:27:34.085097Z"
    }
   },
   "outputs": [
    {
     "data": {
      "text/plain": [
       "2003-01-01    251\n",
       "2004-01-01    251\n",
       "2011-01-01    251\n",
       "2012-01-01    251\n",
       "2007-01-01    251\n",
       "2006-01-01    251\n",
       "2013-01-01    251\n",
       "2009-01-01    251\n",
       "2010-01-01    251\n",
       "2005-01-01    251\n",
       "2014-01-01    251\n",
       "2008-01-01    250\n",
       "2015-01-01    250\n",
       "2016-01-01    249\n",
       "2017-01-01    249\n",
       "2002-01-01    246\n",
       "2001-01-01    245\n",
       "2000-01-01    240\n",
       "2018-01-01    240\n",
       "1999-01-01    239\n",
       "1998-01-01    237\n",
       "1996-01-01    234\n",
       "1997-01-01    234\n",
       "1995-01-01    228\n",
       "1994-01-01    225\n",
       "1993-01-01    223\n",
       "1992-01-01    220\n",
       "1991-01-01    219\n",
       "1990-01-01    208\n",
       "1989-01-01    205\n",
       "1988-01-01    202\n",
       "1987-01-01    199\n",
       "1986-01-01    194\n",
       "1985-01-01    193\n",
       "1984-01-01    190\n",
       "1983-01-01    190\n",
       "1982-01-01    187\n",
       "1981-01-01    182\n",
       "1980-01-01    171\n",
       "1978-01-01    170\n",
       "1979-01-01    170\n",
       "1977-01-01    165\n",
       "1976-01-01    164\n",
       "1975-01-01    160\n",
       "1973-01-01    158\n",
       "1971-01-01    158\n",
       "1974-01-01    158\n",
       "1972-01-01    158\n",
       "1970-01-01    144\n",
       "1969-01-01    144\n",
       "1968-01-01    140\n",
       "1967-01-01    139\n",
       "1966-01-01    135\n",
       "1963-01-01    127\n",
       "1965-01-01    127\n",
       "1964-01-01    127\n",
       "1962-01-01    127\n",
       "1961-01-01    125\n",
       "2019-01-01      1\n",
       "1960-01-01      1\n",
       "Name: Date, dtype: int64"
      ]
     },
     "execution_count": 22,
     "metadata": {},
     "output_type": "execute_result"
    }
   ],
   "source": [
    "Wb_data = df_m.copy()\n",
    "Wb_data.sort_values(by='Date').Date.value_counts()"
   ]
  },
  {
   "cell_type": "code",
   "execution_count": 16,
   "metadata": {
    "ExecuteTime": {
     "end_time": "2020-04-30T08:19:38.288438Z",
     "start_time": "2020-04-30T08:19:38.280183Z"
    }
   },
   "outputs": [
    {
     "data": {
      "text/plain": [
       "str"
      ]
     },
     "execution_count": 16,
     "metadata": {},
     "output_type": "execute_result"
    }
   ],
   "source": [
    "type(Wb_data.Date[0])"
   ]
  },
  {
   "cell_type": "code",
   "execution_count": 17,
   "metadata": {
    "ExecuteTime": {
     "end_time": "2020-04-30T08:19:52.880605Z",
     "start_time": "2020-04-30T08:19:52.862346Z"
    }
   },
   "outputs": [],
   "source": [
    "Wb_data.Date = pd.to_datetime(Wb_data.Date)"
   ]
  },
  {
   "cell_type": "code",
   "execution_count": 18,
   "metadata": {
    "ExecuteTime": {
     "end_time": "2020-04-30T08:20:09.504560Z",
     "start_time": "2020-04-30T08:20:09.279934Z"
    }
   },
   "outputs": [],
   "source": [
    "Wb_data.to_csv('Wb_stats.csv', index=False)"
   ]
  },
  {
   "cell_type": "code",
   "execution_count": null,
   "metadata": {},
   "outputs": [],
   "source": []
  },
  {
   "cell_type": "markdown",
   "metadata": {},
   "source": [
    "This feature (level of CO2 emissions) was uploaded subsequently, in an attempt to improve the model's performance. Didn't add it to the master frame due to its majority of missing values:"
   ]
  },
  {
   "cell_type": "code",
   "execution_count": 82,
   "metadata": {
    "ExecuteTime": {
     "end_time": "2020-04-29T18:01:05.426735Z",
     "start_time": "2020-04-29T18:01:05.420380Z"
    }
   },
   "outputs": [],
   "source": [
    "co2e_cp2000s = co2e_cp[co2e_cp.Date > '2000-01-01']"
   ]
  },
  {
   "cell_type": "code",
   "execution_count": 24,
   "metadata": {
    "ExecuteTime": {
     "end_time": "2020-04-30T08:27:52.896611Z",
     "start_time": "2020-04-30T08:27:52.863930Z"
    }
   },
   "outputs": [
    {
     "data": {
      "text/html": [
       "<div>\n",
       "<style scoped>\n",
       "    .dataframe tbody tr th:only-of-type {\n",
       "        vertical-align: middle;\n",
       "    }\n",
       "\n",
       "    .dataframe tbody tr th {\n",
       "        vertical-align: top;\n",
       "    }\n",
       "\n",
       "    .dataframe thead th {\n",
       "        text-align: right;\n",
       "    }\n",
       "</style>\n",
       "<table border=\"1\" class=\"dataframe\">\n",
       "  <thead>\n",
       "    <tr style=\"text-align: right;\">\n",
       "      <th></th>\n",
       "      <th>Country</th>\n",
       "      <th>Date</th>\n",
       "      <th>GDP growth (annual %)</th>\n",
       "      <th>Adjusted savings: gross savings (% of GNI)</th>\n",
       "      <th>GNI growth (annual %)</th>\n",
       "      <th>Adjusted savings: energy depletion (current US$)</th>\n",
       "      <th>Adjusted savings: carbon dioxide damage (current US$)</th>\n",
       "      <th>Adjusted savings: particulate emission damage (% of GNI)</th>\n",
       "      <th>Investment in energy with private participation (current US$)</th>\n",
       "      <th>Unemployment, total (% of total labor force) (modeled ILO estimate)</th>\n",
       "      <th>CO2 emissions (metric tons per capita)</th>\n",
       "    </tr>\n",
       "  </thead>\n",
       "  <tbody>\n",
       "    <tr>\n",
       "      <td>0</td>\n",
       "      <td>Afghanistan</td>\n",
       "      <td>2003-01-01</td>\n",
       "      <td>8.83227780370231</td>\n",
       "      <td>NaN</td>\n",
       "      <td>NaN</td>\n",
       "      <td>958155.3278581591</td>\n",
       "      <td>19983570.0004124</td>\n",
       "      <td>NaN</td>\n",
       "      <td>1580000.0</td>\n",
       "      <td>11.604000091552699</td>\n",
       "      <td>0.0504813357583004</td>\n",
       "    </tr>\n",
       "    <tr>\n",
       "      <td>1</td>\n",
       "      <td>Afghanistan</td>\n",
       "      <td>2004-01-01</td>\n",
       "      <td>1.4141179802191601</td>\n",
       "      <td>NaN</td>\n",
       "      <td>NaN</td>\n",
       "      <td>1244751.78551264</td>\n",
       "      <td>16861248.694275</td>\n",
       "      <td>NaN</td>\n",
       "      <td>NaN</td>\n",
       "      <td>11.5279998779297</td>\n",
       "      <td>0.0384100431744103</td>\n",
       "    </tr>\n",
       "    <tr>\n",
       "      <td>2</td>\n",
       "      <td>Afghanistan</td>\n",
       "      <td>2005-01-01</td>\n",
       "      <td>11.2297148388595</td>\n",
       "      <td>NaN</td>\n",
       "      <td>NaN</td>\n",
       "      <td>1472570.39904863</td>\n",
       "      <td>24954809.424183603</td>\n",
       "      <td>NaN</td>\n",
       "      <td>NaN</td>\n",
       "      <td>11.4289999008179</td>\n",
       "      <td>0.0517439645638815</td>\n",
       "    </tr>\n",
       "    <tr>\n",
       "      <td>3</td>\n",
       "      <td>Afghanistan</td>\n",
       "      <td>2006-01-01</td>\n",
       "      <td>5.35740324754602</td>\n",
       "      <td>NaN</td>\n",
       "      <td>NaN</td>\n",
       "      <td>1469932.27544724</td>\n",
       "      <td>32986763.503094103</td>\n",
       "      <td>NaN</td>\n",
       "      <td>NaN</td>\n",
       "      <td>11.2239999771118</td>\n",
       "      <td>0.0624275315344817</td>\n",
       "    </tr>\n",
       "    <tr>\n",
       "      <td>4</td>\n",
       "      <td>Afghanistan</td>\n",
       "      <td>2007-01-01</td>\n",
       "      <td>13.8263195390595</td>\n",
       "      <td>NaN</td>\n",
       "      <td>NaN</td>\n",
       "      <td>3237604.3216862003</td>\n",
       "      <td>47862356.5078225</td>\n",
       "      <td>NaN</td>\n",
       "      <td>NaN</td>\n",
       "      <td>11.045999526977502</td>\n",
       "      <td>0.0838928056625891</td>\n",
       "    </tr>\n",
       "    <tr>\n",
       "      <td>...</td>\n",
       "      <td>...</td>\n",
       "      <td>...</td>\n",
       "      <td>...</td>\n",
       "      <td>...</td>\n",
       "      <td>...</td>\n",
       "      <td>...</td>\n",
       "      <td>...</td>\n",
       "      <td>...</td>\n",
       "      <td>...</td>\n",
       "      <td>...</td>\n",
       "      <td>...</td>\n",
       "    </tr>\n",
       "    <tr>\n",
       "      <td>11703</td>\n",
       "      <td>Zimbabwe</td>\n",
       "      <td>2014-01-01</td>\n",
       "      <td>2.37692932698003</td>\n",
       "      <td>-3.350498743</td>\n",
       "      <td>2.6741109172818702</td>\n",
       "      <td>49173804.6532692</td>\n",
       "      <td>350109495.145631</td>\n",
       "      <td>0.889980093776045</td>\n",
       "      <td>NaN</td>\n",
       "      <td>5.34200000762939</td>\n",
       "      <td>0.8847212943322951</td>\n",
       "    </tr>\n",
       "    <tr>\n",
       "      <td>11704</td>\n",
       "      <td>Zimbabwe</td>\n",
       "      <td>2015-01-01</td>\n",
       "      <td>1.7798727034029902</td>\n",
       "      <td>-9.108389096</td>\n",
       "      <td>0.18180389096691799</td>\n",
       "      <td>28443627.567908503</td>\n",
       "      <td>353528790.600832</td>\n",
       "      <td>0.9053993732324008</td>\n",
       "      <td>NaN</td>\n",
       "      <td>5.30200004577637</td>\n",
       "      <td>NaN</td>\n",
       "    </tr>\n",
       "    <tr>\n",
       "      <td>11705</td>\n",
       "      <td>Zimbabwe</td>\n",
       "      <td>2016-01-01</td>\n",
       "      <td>0.7558692509306009</td>\n",
       "      <td>-1.3341581470000001</td>\n",
       "      <td>2.4687219431414</td>\n",
       "      <td>13479167.2791364</td>\n",
       "      <td>353557473.900404</td>\n",
       "      <td>0.8950909701813691</td>\n",
       "      <td>NaN</td>\n",
       "      <td>5.25299978256226</td>\n",
       "      <td>NaN</td>\n",
       "    </tr>\n",
       "    <tr>\n",
       "      <td>11706</td>\n",
       "      <td>Zimbabwe</td>\n",
       "      <td>2017-01-01</td>\n",
       "      <td>4.70403534833559</td>\n",
       "      <td>-2.423258669</td>\n",
       "      <td>4.744133314800241</td>\n",
       "      <td>31322783.559058197</td>\n",
       "      <td>373032248.26923996</td>\n",
       "      <td>0.845351445542448</td>\n",
       "      <td>65700000.0</td>\n",
       "      <td>5.1680002212524405</td>\n",
       "      <td>NaN</td>\n",
       "    </tr>\n",
       "    <tr>\n",
       "      <td>11707</td>\n",
       "      <td>Zimbabwe</td>\n",
       "      <td>2018-01-01</td>\n",
       "      <td>6.15918979848757</td>\n",
       "      <td>NaN</td>\n",
       "      <td>16.4284104094943</td>\n",
       "      <td>NaN</td>\n",
       "      <td>NaN</td>\n",
       "      <td>NaN</td>\n",
       "      <td>NaN</td>\n",
       "      <td>5.086999893188481</td>\n",
       "      <td>NaN</td>\n",
       "    </tr>\n",
       "  </tbody>\n",
       "</table>\n",
       "<p>4731 rows × 11 columns</p>\n",
       "</div>"
      ],
      "text/plain": [
       "           Country        Date GDP growth (annual %)  \\\n",
       "0      Afghanistan  2003-01-01      8.83227780370231   \n",
       "1      Afghanistan  2004-01-01    1.4141179802191601   \n",
       "2      Afghanistan  2005-01-01      11.2297148388595   \n",
       "3      Afghanistan  2006-01-01      5.35740324754602   \n",
       "4      Afghanistan  2007-01-01      13.8263195390595   \n",
       "...            ...         ...                   ...   \n",
       "11703     Zimbabwe  2014-01-01      2.37692932698003   \n",
       "11704     Zimbabwe  2015-01-01    1.7798727034029902   \n",
       "11705     Zimbabwe  2016-01-01    0.7558692509306009   \n",
       "11706     Zimbabwe  2017-01-01      4.70403534833559   \n",
       "11707     Zimbabwe  2018-01-01      6.15918979848757   \n",
       "\n",
       "      Adjusted savings: gross savings (% of GNI) GNI growth (annual %)  \\\n",
       "0                                            NaN                   NaN   \n",
       "1                                            NaN                   NaN   \n",
       "2                                            NaN                   NaN   \n",
       "3                                            NaN                   NaN   \n",
       "4                                            NaN                   NaN   \n",
       "...                                          ...                   ...   \n",
       "11703                               -3.350498743    2.6741109172818702   \n",
       "11704                               -9.108389096   0.18180389096691799   \n",
       "11705                        -1.3341581470000001       2.4687219431414   \n",
       "11706                               -2.423258669     4.744133314800241   \n",
       "11707                                        NaN      16.4284104094943   \n",
       "\n",
       "      Adjusted savings: energy depletion (current US$)  \\\n",
       "0                                    958155.3278581591   \n",
       "1                                     1244751.78551264   \n",
       "2                                     1472570.39904863   \n",
       "3                                     1469932.27544724   \n",
       "4                                   3237604.3216862003   \n",
       "...                                                ...   \n",
       "11703                                 49173804.6532692   \n",
       "11704                               28443627.567908503   \n",
       "11705                                 13479167.2791364   \n",
       "11706                               31322783.559058197   \n",
       "11707                                              NaN   \n",
       "\n",
       "      Adjusted savings: carbon dioxide damage (current US$)  \\\n",
       "0                                       19983570.0004124      \n",
       "1                                        16861248.694275      \n",
       "2                                     24954809.424183603      \n",
       "3                                     32986763.503094103      \n",
       "4                                       47862356.5078225      \n",
       "...                                                  ...      \n",
       "11703                                   350109495.145631      \n",
       "11704                                   353528790.600832      \n",
       "11705                                   353557473.900404      \n",
       "11706                                 373032248.26923996      \n",
       "11707                                                NaN      \n",
       "\n",
       "      Adjusted savings: particulate emission damage (% of GNI)  \\\n",
       "0                                                    NaN         \n",
       "1                                                    NaN         \n",
       "2                                                    NaN         \n",
       "3                                                    NaN         \n",
       "4                                                    NaN         \n",
       "...                                                  ...         \n",
       "11703                                  0.889980093776045         \n",
       "11704                                 0.9053993732324008         \n",
       "11705                                 0.8950909701813691         \n",
       "11706                                  0.845351445542448         \n",
       "11707                                                NaN         \n",
       "\n",
       "      Investment in energy with private participation (current US$)  \\\n",
       "0                                              1580000.0              \n",
       "1                                                    NaN              \n",
       "2                                                    NaN              \n",
       "3                                                    NaN              \n",
       "4                                                    NaN              \n",
       "...                                                  ...              \n",
       "11703                                                NaN              \n",
       "11704                                                NaN              \n",
       "11705                                                NaN              \n",
       "11706                                         65700000.0              \n",
       "11707                                                NaN              \n",
       "\n",
       "      Unemployment, total (% of total labor force) (modeled ILO estimate)  \\\n",
       "0                                     11.604000091552699                    \n",
       "1                                       11.5279998779297                    \n",
       "2                                       11.4289999008179                    \n",
       "3                                       11.2239999771118                    \n",
       "4                                     11.045999526977502                    \n",
       "...                                                  ...                    \n",
       "11703                                   5.34200000762939                    \n",
       "11704                                   5.30200004577637                    \n",
       "11705                                   5.25299978256226                    \n",
       "11706                                 5.1680002212524405                    \n",
       "11707                                  5.086999893188481                    \n",
       "\n",
       "      CO2 emissions (metric tons per capita)  \n",
       "0                         0.0504813357583004  \n",
       "1                         0.0384100431744103  \n",
       "2                         0.0517439645638815  \n",
       "3                         0.0624275315344817  \n",
       "4                         0.0838928056625891  \n",
       "...                                      ...  \n",
       "11703                     0.8847212943322951  \n",
       "11704                                    NaN  \n",
       "11705                                    NaN  \n",
       "11706                                    NaN  \n",
       "11707                                    NaN  \n",
       "\n",
       "[4731 rows x 11 columns]"
      ]
     },
     "execution_count": 24,
     "metadata": {},
     "output_type": "execute_result"
    }
   ],
   "source": [
    "Wb_data[Wb_data['Date'] >= '2000-01-01']"
   ]
  },
  {
   "cell_type": "code",
   "execution_count": 61,
   "metadata": {
    "ExecuteTime": {
     "end_time": "2020-04-29T13:33:24.627806Z",
     "start_time": "2020-04-29T13:33:24.510312Z"
    }
   },
   "outputs": [
    {
     "name": "stdout",
     "output_type": "stream",
     "text": [
      "---- Country ---\n",
      "Country Name                 60\n",
      "Chile                        58\n",
      "Nigeria                      58\n",
      "Central African Republic     58\n",
      "Luxembourg                   58\n",
      "                             ..\n",
      "Channel Islands               9\n",
      "Sint Maarten (Dutch part)     8\n",
      "Turks and Caicos Islands      7\n",
      "South Sudan                   7\n",
      "Djibouti                      5\n",
      "Name: Country, Length: 259, dtype: int64\n",
      "---- Date ---\n",
      "2003-01-01    251\n",
      "2007-01-01    251\n",
      "2004-01-01    251\n",
      "2009-01-01    251\n",
      "2012-01-01    251\n",
      "2006-01-01    251\n",
      "2010-01-01    251\n",
      "2014-01-01    251\n",
      "2005-01-01    251\n",
      "2011-01-01    251\n",
      "2013-01-01    251\n",
      "2008-01-01    250\n",
      "2015-01-01    250\n",
      "2016-01-01    249\n",
      "2017-01-01    249\n",
      "2002-01-01    246\n",
      "2001-01-01    245\n",
      "2018-01-01    240\n",
      "2000-01-01    240\n",
      "1999-01-01    239\n",
      "1998-01-01    237\n",
      "1996-01-01    234\n",
      "1997-01-01    234\n",
      "1995-01-01    228\n",
      "1994-01-01    225\n",
      "1993-01-01    223\n",
      "1992-01-01    220\n",
      "1991-01-01    219\n",
      "1990-01-01    208\n",
      "1989-01-01    205\n",
      "1988-01-01    202\n",
      "1987-01-01    199\n",
      "1986-01-01    194\n",
      "1985-01-01    193\n",
      "1984-01-01    190\n",
      "1983-01-01    190\n",
      "1982-01-01    187\n",
      "1981-01-01    182\n",
      "1980-01-01    171\n",
      "1979-01-01    170\n",
      "1978-01-01    170\n",
      "1977-01-01    165\n",
      "1976-01-01    164\n",
      "1975-01-01    160\n",
      "1972-01-01    158\n",
      "1973-01-01    158\n",
      "1971-01-01    158\n",
      "1974-01-01    158\n",
      "1969-01-01    144\n",
      "1970-01-01    144\n",
      "1968-01-01    140\n",
      "1967-01-01    139\n",
      "1966-01-01    135\n",
      "1962-01-01    127\n",
      "1965-01-01    127\n",
      "1964-01-01    127\n",
      "1963-01-01    127\n",
      "1961-01-01    125\n",
      "2019-01-01      1\n",
      "1960-01-01      1\n",
      "Name: Date, dtype: int64\n",
      "---- GDP growth (annual %) ---\n",
      "0.0                    11\n",
      "3.6000000000000094      3\n",
      "3.7516248384886097      2\n",
      "5.9415507004295005      2\n",
      "-2.9096723430059397     2\n",
      "                       ..\n",
      "1.2464617264703002      1\n",
      "-1.4195798851755101     1\n",
      "3.6746256410707794      1\n",
      "5.90000391619382        1\n",
      "5.1007758193432595      1\n",
      "Name: GDP growth (annual %), Length: 11602, dtype: int64\n",
      "---- Adjusted savings: gross savings (% of GNI)_x ---\n",
      "22.247084725437798    3\n",
      "17.2349130373954      2\n",
      "29.8218148546764      2\n",
      "24.9871779538465      2\n",
      "20.4473374405815      2\n",
      "                     ..\n",
      "21.37159943           1\n",
      "21.44328651           1\n",
      "32.80021548           1\n",
      "25.1502774575142      1\n",
      "25.73547157           1\n",
      "Name: Adjusted savings: gross savings (% of GNI)_x, Length: 6723, dtype: int64\n",
      "---- GNI growth (annual %)_x ---\n",
      "3.6121722043352205    3\n",
      "0.95305889680381      3\n",
      "5.094222023776269     3\n",
      "4.54435911830001      3\n",
      "1.77317712761223      3\n",
      "                     ..\n",
      "5.986815722683589     1\n",
      "1.920030536209        1\n",
      "-6.57731335262383     1\n",
      "6.1092473465414106    1\n",
      "4.7021296480385795    1\n",
      "Name: GNI growth (annual %)_x, Length: 6898, dtype: int64\n",
      "---- Adjusted savings: energy depletion (current US$)_x ---\n",
      "0.0                   2981\n",
      "91689193.89707041        1\n",
      "10010000.0930327         1\n",
      "142852546.979223         1\n",
      "67493740.1763201         1\n",
      "                      ... \n",
      "1929859504.2750301       1\n",
      "2973247222.18244         1\n",
      "57674256.73722671        1\n",
      "1679549225.71258         1\n",
      "413673891.353354         1\n",
      "Name: Adjusted savings: energy depletion (current US$)_x, Length: 4583, dtype: int64\n",
      "---- Adjusted savings: gross savings (% of GNI)_y ---\n",
      "22.247084725437798    3\n",
      "17.2349130373954      2\n",
      "29.8218148546764      2\n",
      "24.9871779538465      2\n",
      "20.4473374405815      2\n",
      "                     ..\n",
      "21.37159943           1\n",
      "21.44328651           1\n",
      "32.80021548           1\n",
      "25.1502774575142      1\n",
      "25.73547157           1\n",
      "Name: Adjusted savings: gross savings (% of GNI)_y, Length: 6723, dtype: int64\n",
      "---- GNI growth (annual %)_y ---\n",
      "3.6121722043352205    3\n",
      "0.95305889680381      3\n",
      "5.094222023776269     3\n",
      "4.54435911830001      3\n",
      "1.77317712761223      3\n",
      "                     ..\n",
      "5.986815722683589     1\n",
      "1.920030536209        1\n",
      "-6.57731335262383     1\n",
      "6.1092473465414106    1\n",
      "4.7021296480385795    1\n",
      "Name: GNI growth (annual %)_y, Length: 6898, dtype: int64\n",
      "---- Adjusted savings: energy depletion (current US$)_y ---\n",
      "0.0                   2981\n",
      "91689193.89707041        1\n",
      "10010000.0930327         1\n",
      "142852546.979223         1\n",
      "67493740.1763201         1\n",
      "                      ... \n",
      "1929859504.2750301       1\n",
      "2973247222.18244         1\n",
      "57674256.73722671        1\n",
      "1679549225.71258         1\n",
      "413673891.353354         1\n",
      "Name: Adjusted savings: energy depletion (current US$)_y, Length: 4583, dtype: int64\n",
      "---- Adjusted savings: carbon dioxide damage (current US$) ---\n",
      "504950.241399371      4\n",
      "2697168.95711088      3\n",
      "1896581.8743706       3\n",
      "308530.894895155      3\n",
      "398702.734742142      3\n",
      "                     ..\n",
      "15882931.834587198    1\n",
      "5208107.70479536      1\n",
      "107309.31475722199    1\n",
      "2240723238.64189      1\n",
      "1798396485.43689      1\n",
      "Name: Adjusted savings: carbon dioxide damage (current US$), Length: 7720, dtype: int64\n",
      "---- Adjusted savings: particulate emission damage (% of GNI) ---\n",
      "1.01488120092813       3\n",
      "1.63569809461835       3\n",
      "1.0206913740053198     3\n",
      "1.78576843953408       3\n",
      "1.45797083372239       3\n",
      "                      ..\n",
      "0.0813758578221529     1\n",
      "1.3652522172765202     1\n",
      "0.27852004890064197    1\n",
      "0.9083594134435509     1\n",
      "2.65227755851918       1\n",
      "Name: Adjusted savings: particulate emission damage (% of GNI), Length: 5774, dtype: int64\n",
      "---- Investment in energy with private participation (current US$) ---\n",
      "30000000.0      9\n",
      "16000000.0      6\n",
      "120000000.0     6\n",
      "60000000.0      6\n",
      "70000000.0      5\n",
      "               ..\n",
      "4313240000.0    1\n",
      "662000000.0     1\n",
      "4935340000.0    1\n",
      "8357900000.0    1\n",
      "655030000.0     1\n",
      "Name: Investment in energy with private participation (current US$), Length: 1100, dtype: int64\n",
      "---- Unemployment, total (% of total labor force) (modeled ILO estimate) ---\n",
      "3.5999999046325697    10\n",
      "4.699999809265139     10\n",
      "3.70000004768372       9\n",
      "3.0999999046325697     8\n",
      "3.20000004768372       8\n",
      "                      ..\n",
      "5.65899991989136       1\n",
      "0.78600001335144       1\n",
      "9.842000007629391      1\n",
      "5.872000217437741      1\n",
      "7.500999927520749      1\n",
      "Name: Unemployment, total (% of total labor force) (modeled ILO estimate), Length: 5235, dtype: int64\n"
     ]
    }
   ],
   "source": [
    "for c in Wb_data.columns:\n",
    "    print (\"---- %s ---\" % c)\n",
    "    print (Wb_data[c].value_counts())"
   ]
  },
  {
   "cell_type": "code",
   "execution_count": 62,
   "metadata": {
    "ExecuteTime": {
     "end_time": "2020-04-29T13:33:58.046145Z",
     "start_time": "2020-04-29T13:33:58.031351Z"
    }
   },
   "outputs": [
    {
     "data": {
      "text/plain": [
       "Country                                                                    0\n",
       "Date                                                                       0\n",
       "GDP growth (annual %)                                                      0\n",
       "Adjusted savings: gross savings (% of GNI)_x                            4873\n",
       "GNI growth (annual %)_x                                                 4707\n",
       "Adjusted savings: energy depletion (current US$)_x                      4145\n",
       "Adjusted savings: gross savings (% of GNI)_y                            4873\n",
       "GNI growth (annual %)_y                                                 4707\n",
       "Adjusted savings: energy depletion (current US$)_y                      4145\n",
       "Adjusted savings: carbon dioxide damage (current US$)                   3788\n",
       "Adjusted savings: particulate emission damage (% of GNI)                5802\n",
       "Investment in energy with private participation (current US$)          10343\n",
       "Unemployment, total (% of total labor force) (modeled ILO estimate)     5470\n",
       "dtype: int64"
      ]
     },
     "execution_count": 62,
     "metadata": {},
     "output_type": "execute_result"
    }
   ],
   "source": [
    "Wb_data.isnull().sum()"
   ]
  },
  {
   "cell_type": "code",
   "execution_count": 93,
   "metadata": {
    "ExecuteTime": {
     "end_time": "2020-04-29T18:04:17.286171Z",
     "start_time": "2020-04-29T18:04:17.245029Z"
    }
   },
   "outputs": [
    {
     "data": {
      "text/html": [
       "<div>\n",
       "<style scoped>\n",
       "    .dataframe tbody tr th:only-of-type {\n",
       "        vertical-align: middle;\n",
       "    }\n",
       "\n",
       "    .dataframe tbody tr th {\n",
       "        vertical-align: top;\n",
       "    }\n",
       "\n",
       "    .dataframe thead th {\n",
       "        text-align: right;\n",
       "    }\n",
       "</style>\n",
       "<table border=\"1\" class=\"dataframe\">\n",
       "  <thead>\n",
       "    <tr style=\"text-align: right;\">\n",
       "      <th></th>\n",
       "      <th>Country</th>\n",
       "      <th>Date</th>\n",
       "      <th>GDP growth (annual %)</th>\n",
       "      <th>Adjusted savings: gross savings (% of GNI)</th>\n",
       "      <th>GNI growth (annual %)</th>\n",
       "      <th>Adjusted savings: energy depletion (current US$)</th>\n",
       "      <th>Adjusted savings: carbon dioxide damage (current US$)</th>\n",
       "      <th>Adjusted savings: particulate emission damage (% of GNI)</th>\n",
       "      <th>Investment in energy with private participation (current US$)</th>\n",
       "      <th>Unemployment, total (% of total labor force) (modeled ILO estimate)</th>\n",
       "      <th>CO2 emissions (metric tons per capita)</th>\n",
       "    </tr>\n",
       "  </thead>\n",
       "  <tbody>\n",
       "    <tr>\n",
       "      <td>0</td>\n",
       "      <td>Afghanistan</td>\n",
       "      <td>2003-01-01</td>\n",
       "      <td>8.83227780370231</td>\n",
       "      <td>NaN</td>\n",
       "      <td>NaN</td>\n",
       "      <td>958155.3278581591</td>\n",
       "      <td>19983570.0004124</td>\n",
       "      <td>NaN</td>\n",
       "      <td>1580000.0</td>\n",
       "      <td>11.604000091552699</td>\n",
       "      <td>0.0504813</td>\n",
       "    </tr>\n",
       "    <tr>\n",
       "      <td>1</td>\n",
       "      <td>Afghanistan</td>\n",
       "      <td>2004-01-01</td>\n",
       "      <td>1.4141179802191601</td>\n",
       "      <td>NaN</td>\n",
       "      <td>NaN</td>\n",
       "      <td>1244751.78551264</td>\n",
       "      <td>16861248.694275</td>\n",
       "      <td>NaN</td>\n",
       "      <td>NaN</td>\n",
       "      <td>11.5279998779297</td>\n",
       "      <td>0.03841</td>\n",
       "    </tr>\n",
       "    <tr>\n",
       "      <td>2</td>\n",
       "      <td>Afghanistan</td>\n",
       "      <td>2005-01-01</td>\n",
       "      <td>11.2297148388595</td>\n",
       "      <td>NaN</td>\n",
       "      <td>NaN</td>\n",
       "      <td>1472570.39904863</td>\n",
       "      <td>24954809.424183603</td>\n",
       "      <td>NaN</td>\n",
       "      <td>NaN</td>\n",
       "      <td>11.4289999008179</td>\n",
       "      <td>0.051744</td>\n",
       "    </tr>\n",
       "    <tr>\n",
       "      <td>3</td>\n",
       "      <td>Afghanistan</td>\n",
       "      <td>2006-01-01</td>\n",
       "      <td>5.35740324754602</td>\n",
       "      <td>NaN</td>\n",
       "      <td>NaN</td>\n",
       "      <td>1469932.27544724</td>\n",
       "      <td>32986763.503094103</td>\n",
       "      <td>NaN</td>\n",
       "      <td>NaN</td>\n",
       "      <td>11.2239999771118</td>\n",
       "      <td>0.0624275</td>\n",
       "    </tr>\n",
       "    <tr>\n",
       "      <td>4</td>\n",
       "      <td>Afghanistan</td>\n",
       "      <td>2007-01-01</td>\n",
       "      <td>13.8263195390595</td>\n",
       "      <td>NaN</td>\n",
       "      <td>NaN</td>\n",
       "      <td>3237604.3216862003</td>\n",
       "      <td>47862356.5078225</td>\n",
       "      <td>NaN</td>\n",
       "      <td>NaN</td>\n",
       "      <td>11.045999526977502</td>\n",
       "      <td>0.0838928</td>\n",
       "    </tr>\n",
       "    <tr>\n",
       "      <td>...</td>\n",
       "      <td>...</td>\n",
       "      <td>...</td>\n",
       "      <td>...</td>\n",
       "      <td>...</td>\n",
       "      <td>...</td>\n",
       "      <td>...</td>\n",
       "      <td>...</td>\n",
       "      <td>...</td>\n",
       "      <td>...</td>\n",
       "      <td>...</td>\n",
       "      <td>...</td>\n",
       "    </tr>\n",
       "    <tr>\n",
       "      <td>11848</td>\n",
       "      <td>Turks and Caicos Islands</td>\n",
       "      <td>2007-01-01</td>\n",
       "      <td>NaN</td>\n",
       "      <td>NaN</td>\n",
       "      <td>NaN</td>\n",
       "      <td>NaN</td>\n",
       "      <td>NaN</td>\n",
       "      <td>NaN</td>\n",
       "      <td>NaN</td>\n",
       "      <td>NaN</td>\n",
       "      <td>5.4308</td>\n",
       "    </tr>\n",
       "    <tr>\n",
       "      <td>11849</td>\n",
       "      <td>Turks and Caicos Islands</td>\n",
       "      <td>2008-01-01</td>\n",
       "      <td>NaN</td>\n",
       "      <td>NaN</td>\n",
       "      <td>NaN</td>\n",
       "      <td>NaN</td>\n",
       "      <td>NaN</td>\n",
       "      <td>NaN</td>\n",
       "      <td>NaN</td>\n",
       "      <td>NaN</td>\n",
       "      <td>5.7587</td>\n",
       "    </tr>\n",
       "    <tr>\n",
       "      <td>11850</td>\n",
       "      <td>Turks and Caicos Islands</td>\n",
       "      <td>2009-01-01</td>\n",
       "      <td>NaN</td>\n",
       "      <td>NaN</td>\n",
       "      <td>NaN</td>\n",
       "      <td>NaN</td>\n",
       "      <td>NaN</td>\n",
       "      <td>NaN</td>\n",
       "      <td>NaN</td>\n",
       "      <td>NaN</td>\n",
       "      <td>5.6267</td>\n",
       "    </tr>\n",
       "    <tr>\n",
       "      <td>11851</td>\n",
       "      <td>Turks and Caicos Islands</td>\n",
       "      <td>2010-01-01</td>\n",
       "      <td>NaN</td>\n",
       "      <td>NaN</td>\n",
       "      <td>NaN</td>\n",
       "      <td>NaN</td>\n",
       "      <td>NaN</td>\n",
       "      <td>NaN</td>\n",
       "      <td>NaN</td>\n",
       "      <td>NaN</td>\n",
       "      <td>5.83846</td>\n",
       "    </tr>\n",
       "    <tr>\n",
       "      <td>11852</td>\n",
       "      <td>Turks and Caicos Islands</td>\n",
       "      <td>2011-01-01</td>\n",
       "      <td>NaN</td>\n",
       "      <td>NaN</td>\n",
       "      <td>NaN</td>\n",
       "      <td>NaN</td>\n",
       "      <td>NaN</td>\n",
       "      <td>NaN</td>\n",
       "      <td>NaN</td>\n",
       "      <td>NaN</td>\n",
       "      <td>5.71304</td>\n",
       "    </tr>\n",
       "  </tbody>\n",
       "</table>\n",
       "<p>11853 rows × 11 columns</p>\n",
       "</div>"
      ],
      "text/plain": [
       "                        Country       Date GDP growth (annual %)  \\\n",
       "0                   Afghanistan 2003-01-01      8.83227780370231   \n",
       "1                   Afghanistan 2004-01-01    1.4141179802191601   \n",
       "2                   Afghanistan 2005-01-01      11.2297148388595   \n",
       "3                   Afghanistan 2006-01-01      5.35740324754602   \n",
       "4                   Afghanistan 2007-01-01      13.8263195390595   \n",
       "...                         ...        ...                   ...   \n",
       "11848  Turks and Caicos Islands 2007-01-01                   NaN   \n",
       "11849  Turks and Caicos Islands 2008-01-01                   NaN   \n",
       "11850  Turks and Caicos Islands 2009-01-01                   NaN   \n",
       "11851  Turks and Caicos Islands 2010-01-01                   NaN   \n",
       "11852  Turks and Caicos Islands 2011-01-01                   NaN   \n",
       "\n",
       "      Adjusted savings: gross savings (% of GNI) GNI growth (annual %)  \\\n",
       "0                                            NaN                   NaN   \n",
       "1                                            NaN                   NaN   \n",
       "2                                            NaN                   NaN   \n",
       "3                                            NaN                   NaN   \n",
       "4                                            NaN                   NaN   \n",
       "...                                          ...                   ...   \n",
       "11848                                        NaN                   NaN   \n",
       "11849                                        NaN                   NaN   \n",
       "11850                                        NaN                   NaN   \n",
       "11851                                        NaN                   NaN   \n",
       "11852                                        NaN                   NaN   \n",
       "\n",
       "      Adjusted savings: energy depletion (current US$)  \\\n",
       "0                                    958155.3278581591   \n",
       "1                                     1244751.78551264   \n",
       "2                                     1472570.39904863   \n",
       "3                                     1469932.27544724   \n",
       "4                                   3237604.3216862003   \n",
       "...                                                ...   \n",
       "11848                                              NaN   \n",
       "11849                                              NaN   \n",
       "11850                                              NaN   \n",
       "11851                                              NaN   \n",
       "11852                                              NaN   \n",
       "\n",
       "      Adjusted savings: carbon dioxide damage (current US$)  \\\n",
       "0                                       19983570.0004124      \n",
       "1                                        16861248.694275      \n",
       "2                                     24954809.424183603      \n",
       "3                                     32986763.503094103      \n",
       "4                                       47862356.5078225      \n",
       "...                                                  ...      \n",
       "11848                                                NaN      \n",
       "11849                                                NaN      \n",
       "11850                                                NaN      \n",
       "11851                                                NaN      \n",
       "11852                                                NaN      \n",
       "\n",
       "      Adjusted savings: particulate emission damage (% of GNI)  \\\n",
       "0                                                    NaN         \n",
       "1                                                    NaN         \n",
       "2                                                    NaN         \n",
       "3                                                    NaN         \n",
       "4                                                    NaN         \n",
       "...                                                  ...         \n",
       "11848                                                NaN         \n",
       "11849                                                NaN         \n",
       "11850                                                NaN         \n",
       "11851                                                NaN         \n",
       "11852                                                NaN         \n",
       "\n",
       "      Investment in energy with private participation (current US$)  \\\n",
       "0                                              1580000.0              \n",
       "1                                                    NaN              \n",
       "2                                                    NaN              \n",
       "3                                                    NaN              \n",
       "4                                                    NaN              \n",
       "...                                                  ...              \n",
       "11848                                                NaN              \n",
       "11849                                                NaN              \n",
       "11850                                                NaN              \n",
       "11851                                                NaN              \n",
       "11852                                                NaN              \n",
       "\n",
       "      Unemployment, total (% of total labor force) (modeled ILO estimate)  \\\n",
       "0                                     11.604000091552699                    \n",
       "1                                       11.5279998779297                    \n",
       "2                                       11.4289999008179                    \n",
       "3                                       11.2239999771118                    \n",
       "4                                     11.045999526977502                    \n",
       "...                                                  ...                    \n",
       "11848                                                NaN                    \n",
       "11849                                                NaN                    \n",
       "11850                                                NaN                    \n",
       "11851                                                NaN                    \n",
       "11852                                                NaN                    \n",
       "\n",
       "      CO2 emissions (metric tons per capita)  \n",
       "0                                  0.0504813  \n",
       "1                                    0.03841  \n",
       "2                                   0.051744  \n",
       "3                                  0.0624275  \n",
       "4                                  0.0838928  \n",
       "...                                      ...  \n",
       "11848                                 5.4308  \n",
       "11849                                 5.7587  \n",
       "11850                                 5.6267  \n",
       "11851                                5.83846  \n",
       "11852                                5.71304  \n",
       "\n",
       "[11853 rows x 11 columns]"
      ]
     },
     "execution_count": 93,
     "metadata": {},
     "output_type": "execute_result"
    }
   ],
   "source": [
    "Wb_data = pd.merge(Wb_data, co2e_cp2000s, on = ['Country', 'Date'], how = 'outer')\n",
    "Wb_data"
   ]
  },
  {
   "cell_type": "markdown",
   "metadata": {},
   "source": [
    "## Merging IRENA & WB data:  "
   ]
  },
  {
   "cell_type": "markdown",
   "metadata": {},
   "source": [
    "Uploading main dataframe to merge with the above WB features: "
   ]
  },
  {
   "cell_type": "code",
   "execution_count": 19,
   "metadata": {
    "ExecuteTime": {
     "end_time": "2020-04-29T16:42:18.720192Z",
     "start_time": "2020-04-29T16:42:18.678806Z"
    }
   },
   "outputs": [],
   "source": [
    "irena = pd.read_csv('/Users/valentinereltien/Desktop/IRENA/irena_inv.csv')"
   ]
  },
  {
   "cell_type": "code",
   "execution_count": 20,
   "metadata": {
    "ExecuteTime": {
     "end_time": "2020-04-29T16:42:18.899463Z",
     "start_time": "2020-04-29T16:42:18.888974Z"
    }
   },
   "outputs": [
    {
     "data": {
      "text/plain": [
       "Index(['Country', 'Project', 'Date', 'Investor', 'Technology', 'Asset Class',\n",
       "       'Amount (USD million)', 'Source'],\n",
       "      dtype='object')"
      ]
     },
     "execution_count": 20,
     "metadata": {},
     "output_type": "execute_result"
    }
   ],
   "source": [
    "irena.columns"
   ]
  },
  {
   "cell_type": "code",
   "execution_count": 98,
   "metadata": {
    "ExecuteTime": {
     "end_time": "2020-04-29T18:05:33.782842Z",
     "start_time": "2020-04-29T18:05:33.772520Z"
    }
   },
   "outputs": [],
   "source": [
    "irena.Date = pd.to_datetime(irena.Date)"
   ]
  },
  {
   "cell_type": "code",
   "execution_count": 99,
   "metadata": {
    "ExecuteTime": {
     "end_time": "2020-04-29T18:05:51.076001Z",
     "start_time": "2020-04-29T18:05:50.894500Z"
    }
   },
   "outputs": [],
   "source": [
    "irena.to_csv('irena_inv.csv', index=False)"
   ]
  },
  {
   "cell_type": "markdown",
   "metadata": {},
   "source": [
    "Using an "
   ]
  },
  {
   "cell_type": "code",
   "execution_count": 100,
   "metadata": {
    "ExecuteTime": {
     "end_time": "2020-04-29T18:05:54.699293Z",
     "start_time": "2020-04-29T18:05:54.670185Z"
    }
   },
   "outputs": [],
   "source": [
    "iwb1 = pd.merge(irena, Wb_data, on = ['Country', 'Date'], how = 'outer')"
   ]
  },
  {
   "cell_type": "markdown",
   "metadata": {},
   "source": [
    "Checking count of non-null values: "
   ]
  },
  {
   "cell_type": "code",
   "execution_count": 101,
   "metadata": {
    "ExecuteTime": {
     "end_time": "2020-04-29T18:06:09.855476Z",
     "start_time": "2020-04-29T18:06:09.806684Z"
    }
   },
   "outputs": [
    {
     "data": {
      "text/plain": [
       "(2306, 17)"
      ]
     },
     "execution_count": 101,
     "metadata": {},
     "output_type": "execute_result"
    }
   ],
   "source": [
    "iwb1_full = iwb1.dropna()\n",
    "iwb1_full.shape"
   ]
  },
  {
   "cell_type": "code",
   "execution_count": 102,
   "metadata": {
    "ExecuteTime": {
     "end_time": "2020-04-29T18:06:35.578124Z",
     "start_time": "2020-04-29T18:06:35.567389Z"
    }
   },
   "outputs": [
    {
     "data": {
      "text/plain": [
       "2017-01-01    1352\n",
       "2016-01-01    1162\n",
       "2014-01-01    1028\n",
       "2015-01-01    1023\n",
       "2013-01-01     957\n",
       "2012-01-01     886\n",
       "2010-01-01     846\n",
       "2011-01-01     802\n",
       "2009-01-01     696\n",
       "2008-01-01     520\n",
       "2007-01-01     476\n",
       "2004-01-01     413\n",
       "2006-01-01     410\n",
       "2005-01-01     410\n",
       "2002-01-01     362\n",
       "2001-01-01     362\n",
       "2003-01-01     358\n",
       "2000-01-01     354\n",
       "2018-01-01     240\n",
       "1999-01-01     239\n",
       "1998-01-01     237\n",
       "1997-01-01     234\n",
       "1996-01-01     234\n",
       "1995-01-01     228\n",
       "1994-01-01     225\n",
       "1993-01-01     223\n",
       "1992-01-01     220\n",
       "1991-01-01     219\n",
       "1990-01-01     208\n",
       "1989-01-01     205\n",
       "1988-01-01     202\n",
       "1987-01-01     199\n",
       "1986-01-01     194\n",
       "1985-01-01     193\n",
       "1984-01-01     190\n",
       "1983-01-01     190\n",
       "1982-01-01     187\n",
       "1981-01-01     182\n",
       "1980-01-01     171\n",
       "1979-01-01     170\n",
       "1978-01-01     170\n",
       "1977-01-01     165\n",
       "1976-01-01     164\n",
       "1975-01-01     160\n",
       "1973-01-01     158\n",
       "1974-01-01     158\n",
       "1971-01-01     158\n",
       "1972-01-01     158\n",
       "1970-01-01     144\n",
       "1969-01-01     144\n",
       "1968-01-01     140\n",
       "1967-01-01     139\n",
       "1966-01-01     135\n",
       "1963-01-01     127\n",
       "1964-01-01     127\n",
       "1962-01-01     127\n",
       "1965-01-01     127\n",
       "1961-01-01     125\n",
       "1960-01-01       1\n",
       "2019-01-01       1\n",
       "Name: Date, dtype: int64"
      ]
     },
     "execution_count": 102,
     "metadata": {},
     "output_type": "execute_result"
    }
   ],
   "source": [
    "iwb1.Date.value_counts()"
   ]
  },
  {
   "cell_type": "markdown",
   "metadata": {},
   "source": [
    "Retaining only data post 2000: "
   ]
  },
  {
   "cell_type": "code",
   "execution_count": 103,
   "metadata": {
    "ExecuteTime": {
     "end_time": "2020-04-29T18:06:41.695136Z",
     "start_time": "2020-04-29T18:06:41.687296Z"
    }
   },
   "outputs": [],
   "source": [
    "iwb1_2000s = iwb1[iwb1.Date > '2001-01-01']"
   ]
  },
  {
   "cell_type": "markdown",
   "metadata": {},
   "source": [
    "Saving to independent csv: "
   ]
  },
  {
   "cell_type": "code",
   "execution_count": 104,
   "metadata": {
    "ExecuteTime": {
     "end_time": "2020-04-29T18:07:10.912547Z",
     "start_time": "2020-04-29T18:07:10.656035Z"
    }
   },
   "outputs": [],
   "source": [
    "iwb1_2000s.to_csv('Ir_wb2000s.to_csv', index=False)"
   ]
  },
  {
   "cell_type": "code",
   "execution_count": 105,
   "metadata": {
    "ExecuteTime": {
     "end_time": "2020-04-29T18:07:18.019221Z",
     "start_time": "2020-04-29T18:07:17.914948Z"
    }
   },
   "outputs": [
    {
     "data": {
      "text/html": [
       "<div>\n",
       "<style scoped>\n",
       "    .dataframe tbody tr th:only-of-type {\n",
       "        vertical-align: middle;\n",
       "    }\n",
       "\n",
       "    .dataframe tbody tr th {\n",
       "        vertical-align: top;\n",
       "    }\n",
       "\n",
       "    .dataframe thead th {\n",
       "        text-align: right;\n",
       "    }\n",
       "</style>\n",
       "<table border=\"1\" class=\"dataframe\">\n",
       "  <thead>\n",
       "    <tr style=\"text-align: right;\">\n",
       "      <th></th>\n",
       "      <th>Country</th>\n",
       "      <th>Project</th>\n",
       "      <th>Date</th>\n",
       "      <th>Investor</th>\n",
       "      <th>Technology</th>\n",
       "      <th>Asset Class</th>\n",
       "      <th>Amount (USD million)</th>\n",
       "      <th>Source</th>\n",
       "      <th>GDP growth (annual %)</th>\n",
       "      <th>Adjusted savings: gross savings (% of GNI)</th>\n",
       "      <th>GNI growth (annual %)</th>\n",
       "      <th>Adjusted savings: energy depletion (current US$)</th>\n",
       "      <th>Adjusted savings: carbon dioxide damage (current US$)</th>\n",
       "      <th>Adjusted savings: particulate emission damage (% of GNI)</th>\n",
       "      <th>Investment in energy with private participation (current US$)</th>\n",
       "      <th>Unemployment, total (% of total labor force) (modeled ILO estimate)</th>\n",
       "      <th>CO2 emissions (metric tons per capita)</th>\n",
       "    </tr>\n",
       "  </thead>\n",
       "  <tbody>\n",
       "    <tr>\n",
       "      <td>0</td>\n",
       "      <td>Afghanistan</td>\n",
       "      <td>HYDROELECTRIC POWER STATION I</td>\n",
       "      <td>2002-01-01</td>\n",
       "      <td>KFW</td>\n",
       "      <td>Renewable Hydropower</td>\n",
       "      <td>Grant</td>\n",
       "      <td>3.7018</td>\n",
       "      <td>2002-03 OECD Credit Report System (CRS) Database</td>\n",
       "      <td>NaN</td>\n",
       "      <td>NaN</td>\n",
       "      <td>NaN</td>\n",
       "      <td>NaN</td>\n",
       "      <td>NaN</td>\n",
       "      <td>NaN</td>\n",
       "      <td>NaN</td>\n",
       "      <td>NaN</td>\n",
       "      <td>0.0473773238699389</td>\n",
       "    </tr>\n",
       "    <tr>\n",
       "      <td>1</td>\n",
       "      <td>Afghanistan</td>\n",
       "      <td>Afghanistan: Emergency National Solidarity Pro...</td>\n",
       "      <td>2003-01-01</td>\n",
       "      <td>WBG</td>\n",
       "      <td>Multiple renewables*</td>\n",
       "      <td>Grant</td>\n",
       "      <td>22.6498</td>\n",
       "      <td>2002-03 OECD Credit Report System (CRS) Database</td>\n",
       "      <td>8.83227780370231</td>\n",
       "      <td>NaN</td>\n",
       "      <td>NaN</td>\n",
       "      <td>958155.3278581591</td>\n",
       "      <td>19983570.0004124</td>\n",
       "      <td>NaN</td>\n",
       "      <td>1580000.0</td>\n",
       "      <td>11.604000091552699</td>\n",
       "      <td>0.0504813357583004</td>\n",
       "    </tr>\n",
       "    <tr>\n",
       "      <td>2</td>\n",
       "      <td>Afghanistan</td>\n",
       "      <td>HYDROCARBON RESOURCE SURVEY — STAGE 1</td>\n",
       "      <td>2003-01-01</td>\n",
       "      <td>Others</td>\n",
       "      <td>Renewable Hydropower</td>\n",
       "      <td>Grant</td>\n",
       "      <td>0.2698</td>\n",
       "      <td>2002-03 OECD Credit Report System (CRS) Database</td>\n",
       "      <td>8.83227780370231</td>\n",
       "      <td>NaN</td>\n",
       "      <td>NaN</td>\n",
       "      <td>958155.3278581591</td>\n",
       "      <td>19983570.0004124</td>\n",
       "      <td>NaN</td>\n",
       "      <td>1580000.0</td>\n",
       "      <td>11.604000091552699</td>\n",
       "      <td>0.0504813357583004</td>\n",
       "    </tr>\n",
       "    <tr>\n",
       "      <td>3</td>\n",
       "      <td>Afghanistan</td>\n",
       "      <td>SUPPORT TO THE ELECTRICITY SECTOR AND DISSEMIN...</td>\n",
       "      <td>2003-01-01</td>\n",
       "      <td>Others</td>\n",
       "      <td>Multiple renewables*</td>\n",
       "      <td>Grant</td>\n",
       "      <td>1.9594</td>\n",
       "      <td>2002-03 OECD Credit Report System (CRS) Database</td>\n",
       "      <td>8.83227780370231</td>\n",
       "      <td>NaN</td>\n",
       "      <td>NaN</td>\n",
       "      <td>958155.3278581591</td>\n",
       "      <td>19983570.0004124</td>\n",
       "      <td>NaN</td>\n",
       "      <td>1580000.0</td>\n",
       "      <td>11.604000091552699</td>\n",
       "      <td>0.0504813357583004</td>\n",
       "    </tr>\n",
       "    <tr>\n",
       "      <td>4</td>\n",
       "      <td>Afghanistan</td>\n",
       "      <td>Afghanistan: Emergency National Solidarity Pro...</td>\n",
       "      <td>2005-01-01</td>\n",
       "      <td>WBG</td>\n",
       "      <td>Multiple renewables*</td>\n",
       "      <td>Grant</td>\n",
       "      <td>5.9994</td>\n",
       "      <td>2004-05 OECD Credit Report System (CRS) Database</td>\n",
       "      <td>11.2297148388595</td>\n",
       "      <td>NaN</td>\n",
       "      <td>NaN</td>\n",
       "      <td>1472570.39904863</td>\n",
       "      <td>24954809.424183603</td>\n",
       "      <td>NaN</td>\n",
       "      <td>NaN</td>\n",
       "      <td>11.4289999008179</td>\n",
       "      <td>0.0517439645638815</td>\n",
       "    </tr>\n",
       "  </tbody>\n",
       "</table>\n",
       "</div>"
      ],
      "text/plain": [
       "       Country                                            Project        Date  \\\n",
       "0  Afghanistan                      HYDROELECTRIC POWER STATION I  2002-01-01   \n",
       "1  Afghanistan  Afghanistan: Emergency National Solidarity Pro...  2003-01-01   \n",
       "2  Afghanistan              HYDROCARBON RESOURCE SURVEY — STAGE 1  2003-01-01   \n",
       "3  Afghanistan  SUPPORT TO THE ELECTRICITY SECTOR AND DISSEMIN...  2003-01-01   \n",
       "4  Afghanistan  Afghanistan: Emergency National Solidarity Pro...  2005-01-01   \n",
       "\n",
       "  Investor            Technology Asset Class Amount (USD million)  \\\n",
       "0      KFW  Renewable Hydropower       Grant               3.7018   \n",
       "1      WBG  Multiple renewables*       Grant              22.6498   \n",
       "2   Others  Renewable Hydropower       Grant               0.2698   \n",
       "3   Others  Multiple renewables*       Grant               1.9594   \n",
       "4      WBG  Multiple renewables*       Grant               5.9994   \n",
       "\n",
       "                                             Source GDP growth (annual %)  \\\n",
       "0  2002-03 OECD Credit Report System (CRS) Database                   NaN   \n",
       "1  2002-03 OECD Credit Report System (CRS) Database      8.83227780370231   \n",
       "2  2002-03 OECD Credit Report System (CRS) Database      8.83227780370231   \n",
       "3  2002-03 OECD Credit Report System (CRS) Database      8.83227780370231   \n",
       "4  2004-05 OECD Credit Report System (CRS) Database      11.2297148388595   \n",
       "\n",
       "  Adjusted savings: gross savings (% of GNI) GNI growth (annual %)  \\\n",
       "0                                        NaN                   NaN   \n",
       "1                                        NaN                   NaN   \n",
       "2                                        NaN                   NaN   \n",
       "3                                        NaN                   NaN   \n",
       "4                                        NaN                   NaN   \n",
       "\n",
       "  Adjusted savings: energy depletion (current US$)  \\\n",
       "0                                              NaN   \n",
       "1                                958155.3278581591   \n",
       "2                                958155.3278581591   \n",
       "3                                958155.3278581591   \n",
       "4                                 1472570.39904863   \n",
       "\n",
       "  Adjusted savings: carbon dioxide damage (current US$)  \\\n",
       "0                                                NaN      \n",
       "1                                   19983570.0004124      \n",
       "2                                   19983570.0004124      \n",
       "3                                   19983570.0004124      \n",
       "4                                 24954809.424183603      \n",
       "\n",
       "  Adjusted savings: particulate emission damage (% of GNI)  \\\n",
       "0                                                NaN         \n",
       "1                                                NaN         \n",
       "2                                                NaN         \n",
       "3                                                NaN         \n",
       "4                                                NaN         \n",
       "\n",
       "  Investment in energy with private participation (current US$)  \\\n",
       "0                                                NaN              \n",
       "1                                          1580000.0              \n",
       "2                                          1580000.0              \n",
       "3                                          1580000.0              \n",
       "4                                                NaN              \n",
       "\n",
       "  Unemployment, total (% of total labor force) (modeled ILO estimate)  \\\n",
       "0                                                NaN                    \n",
       "1                                 11.604000091552699                    \n",
       "2                                 11.604000091552699                    \n",
       "3                                 11.604000091552699                    \n",
       "4                                   11.4289999008179                    \n",
       "\n",
       "  CO2 emissions (metric tons per capita)  \n",
       "0                     0.0473773238699389  \n",
       "1                     0.0504813357583004  \n",
       "2                     0.0504813357583004  \n",
       "3                     0.0504813357583004  \n",
       "4                     0.0517439645638815  "
      ]
     },
     "execution_count": 105,
     "metadata": {},
     "output_type": "execute_result"
    }
   ],
   "source": [
    "iwb2 = pd.read_csv('/Users/valentinereltien/Desktop/IRENA/Ir_wb2000s.to_csv')\n",
    "iwb2.head()"
   ]
  },
  {
   "cell_type": "code",
   "execution_count": null,
   "metadata": {
    "ExecuteTime": {
     "start_time": "2020-05-15T13:13:33.372Z"
    }
   },
   "outputs": [],
   "source": [
    "##Decided not use this data eventually due to discrepancy of total values"
   ]
  },
  {
   "cell_type": "code",
   "execution_count": 106,
   "metadata": {
    "ExecuteTime": {
     "end_time": "2020-04-29T18:07:25.579897Z",
     "start_time": "2020-04-29T18:07:25.546895Z"
    }
   },
   "outputs": [
    {
     "data": {
      "text/html": [
       "<div>\n",
       "<style scoped>\n",
       "    .dataframe tbody tr th:only-of-type {\n",
       "        vertical-align: middle;\n",
       "    }\n",
       "\n",
       "    .dataframe tbody tr th {\n",
       "        vertical-align: top;\n",
       "    }\n",
       "\n",
       "    .dataframe thead th {\n",
       "        text-align: right;\n",
       "    }\n",
       "</style>\n",
       "<table border=\"1\" class=\"dataframe\">\n",
       "  <thead>\n",
       "    <tr style=\"text-align: right;\">\n",
       "      <th></th>\n",
       "      <th>Country</th>\n",
       "      <th>Date</th>\n",
       "      <th>Electricity Generation*</th>\n",
       "      <th>Hydroelectricity: Generation*</th>\n",
       "      <th>Solar_MW</th>\n",
       "      <th>WindGen_TWh</th>\n",
       "      <th>Electricity generation from other*</th>\n",
       "      <th>Electricity generation from gas*</th>\n",
       "      <th>Electricity generation from oil*</th>\n",
       "      <th>Electricity generation from coal*</th>\n",
       "      <th>Renewables: Generation- Geothermal, Biomass and Other*</th>\n",
       "      <th>Biofuel_pd_ktoe</th>\n",
       "      <th>Carbon Dioxide Emissions</th>\n",
       "    </tr>\n",
       "  </thead>\n",
       "  <tbody>\n",
       "    <tr>\n",
       "      <td>0</td>\n",
       "      <td>Australia</td>\n",
       "      <td>2014-01-01</td>\n",
       "      <td>247.6</td>\n",
       "      <td>14.5</td>\n",
       "      <td>4007.0</td>\n",
       "      <td>9.8</td>\n",
       "      <td>^</td>\n",
       "      <td>53.7</td>\n",
       "      <td>5.9</td>\n",
       "      <td>155.2</td>\n",
       "      <td>3.5</td>\n",
       "      <td>258.0</td>\n",
       "      <td>408.8</td>\n",
       "    </tr>\n",
       "    <tr>\n",
       "      <td>1</td>\n",
       "      <td>Australia</td>\n",
       "      <td>2016-01-01</td>\n",
       "      <td>258.5</td>\n",
       "      <td>17.7</td>\n",
       "      <td>4721.0</td>\n",
       "      <td>13.0</td>\n",
       "      <td>0.2</td>\n",
       "      <td>48.5</td>\n",
       "      <td>5.6</td>\n",
       "      <td>162.3</td>\n",
       "      <td>3.6</td>\n",
       "      <td>198.0</td>\n",
       "      <td>418.3</td>\n",
       "    </tr>\n",
       "    <tr>\n",
       "      <td>2</td>\n",
       "      <td>Australia</td>\n",
       "      <td>2017-01-01</td>\n",
       "      <td>259.0</td>\n",
       "      <td>13.5</td>\n",
       "      <td>5993.0</td>\n",
       "      <td>13.2</td>\n",
       "      <td>0.2</td>\n",
       "      <td>55.2</td>\n",
       "      <td>5.3</td>\n",
       "      <td>159.1</td>\n",
       "      <td>3.5</td>\n",
       "      <td>160.0</td>\n",
       "      <td>412.3</td>\n",
       "    </tr>\n",
       "    <tr>\n",
       "      <td>3</td>\n",
       "      <td>Australia</td>\n",
       "      <td>2018-01-01</td>\n",
       "      <td>261.4</td>\n",
       "      <td>17.3</td>\n",
       "      <td>9769.0</td>\n",
       "      <td>16.3</td>\n",
       "      <td>0.2</td>\n",
       "      <td>50.2</td>\n",
       "      <td>5.3</td>\n",
       "      <td>156.6</td>\n",
       "      <td>3.5</td>\n",
       "      <td>166.0</td>\n",
       "      <td>416.6</td>\n",
       "    </tr>\n",
       "    <tr>\n",
       "      <td>4</td>\n",
       "      <td>Australia</td>\n",
       "      <td>2013-01-01</td>\n",
       "      <td>249.6</td>\n",
       "      <td>19.1</td>\n",
       "      <td>3258.0</td>\n",
       "      <td>9.3</td>\n",
       "      <td>1.1</td>\n",
       "      <td>52.7</td>\n",
       "      <td>4.7</td>\n",
       "      <td>155.4</td>\n",
       "      <td>3.3</td>\n",
       "      <td>254.0</td>\n",
       "      <td>401.8</td>\n",
       "    </tr>\n",
       "  </tbody>\n",
       "</table>\n",
       "</div>"
      ],
      "text/plain": [
       "     Country        Date  Electricity Generation*  \\\n",
       "0  Australia  2014-01-01                    247.6   \n",
       "1  Australia  2016-01-01                    258.5   \n",
       "2  Australia  2017-01-01                    259.0   \n",
       "3  Australia  2018-01-01                    261.4   \n",
       "4  Australia  2013-01-01                    249.6   \n",
       "\n",
       "  Hydroelectricity: Generation*  Solar_MW WindGen_TWh  \\\n",
       "0                          14.5    4007.0         9.8   \n",
       "1                          17.7    4721.0        13.0   \n",
       "2                          13.5    5993.0        13.2   \n",
       "3                          17.3    9769.0        16.3   \n",
       "4                          19.1    3258.0         9.3   \n",
       "\n",
       "  Electricity generation from other* Electricity generation from gas*  \\\n",
       "0                                  ^                             53.7   \n",
       "1                                0.2                             48.5   \n",
       "2                                0.2                             55.2   \n",
       "3                                0.2                             50.2   \n",
       "4                                1.1                             52.7   \n",
       "\n",
       "  Electricity generation from oil*  Electricity generation from coal*  \\\n",
       "0                              5.9                              155.2   \n",
       "1                              5.6                              162.3   \n",
       "2                              5.3                              159.1   \n",
       "3                              5.3                              156.6   \n",
       "4                              4.7                              155.4   \n",
       "\n",
       "  Renewables: Generation- Geothermal, Biomass and Other* Biofuel_pd_ktoe  \\\n",
       "0                                                3.5               258.0   \n",
       "1                                                3.6               198.0   \n",
       "2                                                3.5               160.0   \n",
       "3                                                3.5               166.0   \n",
       "4                                                3.3               254.0   \n",
       "\n",
       "   Carbon Dioxide Emissions  \n",
       "0                     408.8  \n",
       "1                     418.3  \n",
       "2                     412.3  \n",
       "3                     416.6  \n",
       "4                     401.8  "
      ]
     },
     "execution_count": 106,
     "metadata": {},
     "output_type": "execute_result"
    }
   ],
   "source": [
    "bp2 = pd.read_csv('/Users/valentinereltien/Desktop/IRENA/BP_stats2000s.csv')\n",
    "bp2.head()"
   ]
  },
  {
   "cell_type": "code",
   "execution_count": 107,
   "metadata": {
    "ExecuteTime": {
     "end_time": "2020-04-29T18:07:33.763589Z",
     "start_time": "2020-04-29T18:07:33.736748Z"
    }
   },
   "outputs": [],
   "source": [
    "iwbp1 = pd.merge(iwb2, bp2, on = ['Country', 'Date'], how= 'outer')"
   ]
  },
  {
   "cell_type": "code",
   "execution_count": 108,
   "metadata": {
    "ExecuteTime": {
     "end_time": "2020-04-29T18:07:36.037283Z",
     "start_time": "2020-04-29T18:07:36.028483Z"
    }
   },
   "outputs": [
    {
     "data": {
      "text/plain": [
       "['Country',\n",
       " 'Project',\n",
       " 'Date',\n",
       " 'Investor',\n",
       " 'Technology',\n",
       " 'Asset Class',\n",
       " 'Amount (USD million)',\n",
       " 'Source',\n",
       " 'GDP growth (annual %)',\n",
       " 'Adjusted savings: gross savings (% of GNI)',\n",
       " 'GNI growth (annual %)',\n",
       " 'Adjusted savings: energy depletion (current US$)',\n",
       " 'Adjusted savings: carbon dioxide damage (current US$)',\n",
       " 'Adjusted savings: particulate emission damage (% of GNI)',\n",
       " 'Investment in energy with private participation (current US$)',\n",
       " 'Unemployment, total (% of total labor force) (modeled ILO estimate)',\n",
       " 'CO2 emissions (metric tons per capita)',\n",
       " 'Electricity Generation',\n",
       " 'Hydroelectricity: Generation',\n",
       " 'Solar_MW',\n",
       " 'WindGen_TWh',\n",
       " 'Electricity generation from other',\n",
       " 'Electricity generation from gas',\n",
       " 'Electricity generation from oil',\n",
       " 'Electricity generation from coal',\n",
       " 'Renewables: Generation- Geothermal, Biomass and Other',\n",
       " 'Biofuel_pd_ktoe',\n",
       " 'Carbon Dioxide Emissions']"
      ]
     },
     "execution_count": 108,
     "metadata": {},
     "output_type": "execute_result"
    }
   ],
   "source": [
    "renamed_cols = []\n",
    "for col in iwbp1.columns:\n",
    "    col = col.replace('*', '').strip()\n",
    "    renamed_cols.append(col)\n",
    "renamed_cols"
   ]
  },
  {
   "cell_type": "code",
   "execution_count": 109,
   "metadata": {
    "ExecuteTime": {
     "end_time": "2020-04-29T18:07:39.625452Z",
     "start_time": "2020-04-29T18:07:39.619681Z"
    }
   },
   "outputs": [],
   "source": [
    "iwbp1.columns = renamed_cols"
   ]
  },
  {
   "cell_type": "code",
   "execution_count": 110,
   "metadata": {
    "ExecuteTime": {
     "end_time": "2020-04-29T18:07:44.798113Z",
     "start_time": "2020-04-29T18:07:44.756334Z"
    }
   },
   "outputs": [
    {
     "name": "stdout",
     "output_type": "stream",
     "text": [
      "<class 'pandas.core.frame.DataFrame'>\n",
      "Int64Index: 12026 entries, 0 to 12025\n",
      "Data columns (total 28 columns):\n",
      "Country                                                                12026 non-null object\n",
      "Project                                                                8720 non-null object\n",
      "Date                                                                   12026 non-null object\n",
      "Investor                                                               8959 non-null object\n",
      "Technology                                                             8959 non-null object\n",
      "Asset Class                                                            8959 non-null object\n",
      "Amount (USD million)                                                   8959 non-null object\n",
      "Source                                                                 8959 non-null object\n",
      "GDP growth (annual %)                                                  9807 non-null object\n",
      "Adjusted savings: gross savings (% of GNI)                             8295 non-null object\n",
      "GNI growth (annual %)                                                  8400 non-null object\n",
      "Adjusted savings: energy depletion (current US$)                       8643 non-null object\n",
      "Adjusted savings: carbon dioxide damage (current US$)                  8685 non-null object\n",
      "Adjusted savings: particulate emission damage (% of GNI)               8988 non-null object\n",
      "Investment in energy with private participation (current US$)          4180 non-null object\n",
      "Unemployment, total (% of total labor force) (modeled ILO estimate)    9385 non-null object\n",
      "CO2 emissions (metric tons per capita)                                 6757 non-null object\n",
      "Electricity Generation                                                 2506 non-null float64\n",
      "Hydroelectricity: Generation                                           2506 non-null object\n",
      "Solar_MW                                                               1965 non-null float64\n",
      "WindGen_TWh                                                            2506 non-null object\n",
      "Electricity generation from other                                      1527 non-null object\n",
      "Electricity generation from gas                                        1527 non-null object\n",
      "Electricity generation from oil                                        1527 non-null object\n",
      "Electricity generation from coal                                       1527 non-null float64\n",
      "Renewables: Generation- Geothermal, Biomass and Other                  2506 non-null object\n",
      "Biofuel_pd_ktoe                                                        1274 non-null object\n",
      "Carbon Dioxide Emissions                                               2506 non-null float64\n",
      "dtypes: float64(4), object(24)\n",
      "memory usage: 2.7+ MB\n"
     ]
    }
   ],
   "source": [
    "iwbp1.info()"
   ]
  },
  {
   "cell_type": "code",
   "execution_count": 112,
   "metadata": {
    "ExecuteTime": {
     "end_time": "2020-04-29T18:08:23.926352Z",
     "start_time": "2020-04-29T18:08:23.903150Z"
    }
   },
   "outputs": [
    {
     "data": {
      "text/plain": [
       "Country                                                                 0.000000\n",
       "Project                                                                27.490437\n",
       "Date                                                                    0.000000\n",
       "Investor                                                               25.503077\n",
       "Technology                                                             25.503077\n",
       "Asset Class                                                            25.503077\n",
       "Amount (USD million)                                                   25.503077\n",
       "Source                                                                 25.503077\n",
       "GDP growth (annual %)                                                  18.451688\n",
       "Adjusted savings: gross savings (% of GNI)                             31.024447\n",
       "GNI growth (annual %)                                                  30.151339\n",
       "Adjusted savings: energy depletion (current US$)                       28.130717\n",
       "Adjusted savings: carbon dioxide damage (current US$)                  27.781473\n",
       "Adjusted savings: particulate emission damage (% of GNI)               25.261932\n",
       "Investment in energy with private participation (current US$)          65.241976\n",
       "Unemployment, total (% of total labor force) (modeled ILO estimate)    21.960752\n",
       "CO2 emissions (metric tons per capita)                                 43.813404\n",
       "Electricity Generation                                                 79.161816\n",
       "Hydroelectricity: Generation                                           79.161816\n",
       "Solar_MW                                                               83.660402\n",
       "WindGen_TWh                                                            79.161816\n",
       "Electricity generation from other                                      87.302511\n",
       "Electricity generation from gas                                        87.302511\n",
       "Electricity generation from oil                                        87.302511\n",
       "Electricity generation from coal                                       87.302511\n",
       "Renewables: Generation- Geothermal, Biomass and Other                  79.161816\n",
       "Biofuel_pd_ktoe                                                        89.406286\n",
       "Carbon Dioxide Emissions                                               79.161816\n",
       "dtype: float64"
      ]
     },
     "execution_count": 112,
     "metadata": {},
     "output_type": "execute_result"
    }
   ],
   "source": [
    "iwbp1.isnull().sum()/len(iwbp1)*100\n",
    "#Consider removing CO2_ems? or replace w/ WB value? "
   ]
  },
  {
   "cell_type": "code",
   "execution_count": 114,
   "metadata": {
    "ExecuteTime": {
     "end_time": "2020-04-29T18:09:32.413805Z",
     "start_time": "2020-04-29T18:09:32.392647Z"
    }
   },
   "outputs": [
    {
     "data": {
      "text/plain": [
       "441"
      ]
     },
     "execution_count": 114,
     "metadata": {},
     "output_type": "execute_result"
    }
   ],
   "source": [
    "iwbp_fl = iwbp1.dropna(thresh= )\n",
    "len(iwbp_fl)"
   ]
  },
  {
   "cell_type": "code",
   "execution_count": 131,
   "metadata": {
    "ExecuteTime": {
     "end_time": "2020-04-29T18:22:22.533862Z",
     "start_time": "2020-04-29T18:22:22.327229Z"
    }
   },
   "outputs": [],
   "source": [
    "iwbp1.to_csv('Master_frame1.csv', index=False)"
   ]
  },
  {
   "cell_type": "code",
   "execution_count": 135,
   "metadata": {
    "ExecuteTime": {
     "end_time": "2020-04-29T21:11:47.488266Z",
     "start_time": "2020-04-29T21:11:47.464704Z"
    }
   },
   "outputs": [],
   "source": [
    "iwbp1_indexed = iwbp1.set_index('Date', drop=True)"
   ]
  },
  {
   "cell_type": "code",
   "execution_count": 136,
   "metadata": {
    "ExecuteTime": {
     "end_time": "2020-04-29T21:11:56.564774Z",
     "start_time": "2020-04-29T21:11:56.494428Z"
    }
   },
   "outputs": [
    {
     "data": {
      "text/html": [
       "<div>\n",
       "<style scoped>\n",
       "    .dataframe tbody tr th:only-of-type {\n",
       "        vertical-align: middle;\n",
       "    }\n",
       "\n",
       "    .dataframe tbody tr th {\n",
       "        vertical-align: top;\n",
       "    }\n",
       "\n",
       "    .dataframe thead th {\n",
       "        text-align: right;\n",
       "    }\n",
       "</style>\n",
       "<table border=\"1\" class=\"dataframe\">\n",
       "  <thead>\n",
       "    <tr style=\"text-align: right;\">\n",
       "      <th></th>\n",
       "      <th>Country</th>\n",
       "      <th>Project</th>\n",
       "      <th>Investor</th>\n",
       "      <th>Technology</th>\n",
       "      <th>Asset Class</th>\n",
       "      <th>Amount (USD million)</th>\n",
       "      <th>Source</th>\n",
       "      <th>GDP growth (annual %)</th>\n",
       "      <th>Adjusted savings: gross savings (% of GNI)</th>\n",
       "      <th>GNI growth (annual %)</th>\n",
       "      <th>...</th>\n",
       "      <th>Hydroelectricity: Generation</th>\n",
       "      <th>Solar_MW</th>\n",
       "      <th>WindGen_TWh</th>\n",
       "      <th>Electricity generation from other</th>\n",
       "      <th>Electricity generation from gas</th>\n",
       "      <th>Electricity generation from oil</th>\n",
       "      <th>Electricity generation from coal</th>\n",
       "      <th>Renewables: Generation- Geothermal, Biomass and Other</th>\n",
       "      <th>Biofuel_pd_ktoe</th>\n",
       "      <th>Carbon Dioxide Emissions</th>\n",
       "    </tr>\n",
       "    <tr>\n",
       "      <th>Date</th>\n",
       "      <th></th>\n",
       "      <th></th>\n",
       "      <th></th>\n",
       "      <th></th>\n",
       "      <th></th>\n",
       "      <th></th>\n",
       "      <th></th>\n",
       "      <th></th>\n",
       "      <th></th>\n",
       "      <th></th>\n",
       "      <th></th>\n",
       "      <th></th>\n",
       "      <th></th>\n",
       "      <th></th>\n",
       "      <th></th>\n",
       "      <th></th>\n",
       "      <th></th>\n",
       "      <th></th>\n",
       "      <th></th>\n",
       "      <th></th>\n",
       "      <th></th>\n",
       "    </tr>\n",
       "  </thead>\n",
       "  <tbody>\n",
       "    <tr>\n",
       "      <td>2002-01-01</td>\n",
       "      <td>Afghanistan</td>\n",
       "      <td>HYDROELECTRIC POWER STATION I</td>\n",
       "      <td>KFW</td>\n",
       "      <td>Renewable Hydropower</td>\n",
       "      <td>Grant</td>\n",
       "      <td>3.7018</td>\n",
       "      <td>2002-03 OECD Credit Report System (CRS) Database</td>\n",
       "      <td>NaN</td>\n",
       "      <td>NaN</td>\n",
       "      <td>NaN</td>\n",
       "      <td>...</td>\n",
       "      <td>NaN</td>\n",
       "      <td>NaN</td>\n",
       "      <td>NaN</td>\n",
       "      <td>NaN</td>\n",
       "      <td>NaN</td>\n",
       "      <td>NaN</td>\n",
       "      <td>NaN</td>\n",
       "      <td>NaN</td>\n",
       "      <td>NaN</td>\n",
       "      <td>NaN</td>\n",
       "    </tr>\n",
       "    <tr>\n",
       "      <td>2003-01-01</td>\n",
       "      <td>Afghanistan</td>\n",
       "      <td>Afghanistan: Emergency National Solidarity Pro...</td>\n",
       "      <td>WBG</td>\n",
       "      <td>Multiple renewables*</td>\n",
       "      <td>Grant</td>\n",
       "      <td>22.6498</td>\n",
       "      <td>2002-03 OECD Credit Report System (CRS) Database</td>\n",
       "      <td>8.83227780370231</td>\n",
       "      <td>NaN</td>\n",
       "      <td>NaN</td>\n",
       "      <td>...</td>\n",
       "      <td>NaN</td>\n",
       "      <td>NaN</td>\n",
       "      <td>NaN</td>\n",
       "      <td>NaN</td>\n",
       "      <td>NaN</td>\n",
       "      <td>NaN</td>\n",
       "      <td>NaN</td>\n",
       "      <td>NaN</td>\n",
       "      <td>NaN</td>\n",
       "      <td>NaN</td>\n",
       "    </tr>\n",
       "    <tr>\n",
       "      <td>2003-01-01</td>\n",
       "      <td>Afghanistan</td>\n",
       "      <td>HYDROCARBON RESOURCE SURVEY — STAGE 1</td>\n",
       "      <td>Others</td>\n",
       "      <td>Renewable Hydropower</td>\n",
       "      <td>Grant</td>\n",
       "      <td>0.2698</td>\n",
       "      <td>2002-03 OECD Credit Report System (CRS) Database</td>\n",
       "      <td>8.83227780370231</td>\n",
       "      <td>NaN</td>\n",
       "      <td>NaN</td>\n",
       "      <td>...</td>\n",
       "      <td>NaN</td>\n",
       "      <td>NaN</td>\n",
       "      <td>NaN</td>\n",
       "      <td>NaN</td>\n",
       "      <td>NaN</td>\n",
       "      <td>NaN</td>\n",
       "      <td>NaN</td>\n",
       "      <td>NaN</td>\n",
       "      <td>NaN</td>\n",
       "      <td>NaN</td>\n",
       "    </tr>\n",
       "    <tr>\n",
       "      <td>2003-01-01</td>\n",
       "      <td>Afghanistan</td>\n",
       "      <td>SUPPORT TO THE ELECTRICITY SECTOR AND DISSEMIN...</td>\n",
       "      <td>Others</td>\n",
       "      <td>Multiple renewables*</td>\n",
       "      <td>Grant</td>\n",
       "      <td>1.9594</td>\n",
       "      <td>2002-03 OECD Credit Report System (CRS) Database</td>\n",
       "      <td>8.83227780370231</td>\n",
       "      <td>NaN</td>\n",
       "      <td>NaN</td>\n",
       "      <td>...</td>\n",
       "      <td>NaN</td>\n",
       "      <td>NaN</td>\n",
       "      <td>NaN</td>\n",
       "      <td>NaN</td>\n",
       "      <td>NaN</td>\n",
       "      <td>NaN</td>\n",
       "      <td>NaN</td>\n",
       "      <td>NaN</td>\n",
       "      <td>NaN</td>\n",
       "      <td>NaN</td>\n",
       "    </tr>\n",
       "    <tr>\n",
       "      <td>2005-01-01</td>\n",
       "      <td>Afghanistan</td>\n",
       "      <td>Afghanistan: Emergency National Solidarity Pro...</td>\n",
       "      <td>WBG</td>\n",
       "      <td>Multiple renewables*</td>\n",
       "      <td>Grant</td>\n",
       "      <td>5.9994</td>\n",
       "      <td>2004-05 OECD Credit Report System (CRS) Database</td>\n",
       "      <td>11.2297148388595</td>\n",
       "      <td>NaN</td>\n",
       "      <td>NaN</td>\n",
       "      <td>...</td>\n",
       "      <td>NaN</td>\n",
       "      <td>NaN</td>\n",
       "      <td>NaN</td>\n",
       "      <td>NaN</td>\n",
       "      <td>NaN</td>\n",
       "      <td>NaN</td>\n",
       "      <td>NaN</td>\n",
       "      <td>NaN</td>\n",
       "      <td>NaN</td>\n",
       "      <td>NaN</td>\n",
       "    </tr>\n",
       "    <tr>\n",
       "      <td>...</td>\n",
       "      <td>...</td>\n",
       "      <td>...</td>\n",
       "      <td>...</td>\n",
       "      <td>...</td>\n",
       "      <td>...</td>\n",
       "      <td>...</td>\n",
       "      <td>...</td>\n",
       "      <td>...</td>\n",
       "      <td>...</td>\n",
       "      <td>...</td>\n",
       "      <td>...</td>\n",
       "      <td>...</td>\n",
       "      <td>...</td>\n",
       "      <td>...</td>\n",
       "      <td>...</td>\n",
       "      <td>...</td>\n",
       "      <td>...</td>\n",
       "      <td>...</td>\n",
       "      <td>...</td>\n",
       "      <td>...</td>\n",
       "      <td>...</td>\n",
       "    </tr>\n",
       "    <tr>\n",
       "      <td>2015-01-01</td>\n",
       "      <td>US</td>\n",
       "      <td>NaN</td>\n",
       "      <td>NaN</td>\n",
       "      <td>NaN</td>\n",
       "      <td>NaN</td>\n",
       "      <td>NaN</td>\n",
       "      <td>NaN</td>\n",
       "      <td>NaN</td>\n",
       "      <td>NaN</td>\n",
       "      <td>NaN</td>\n",
       "      <td>...</td>\n",
       "      <td>246.5</td>\n",
       "      <td>23442.0</td>\n",
       "      <td>192.6</td>\n",
       "      <td>14.8</td>\n",
       "      <td>1433.9</td>\n",
       "      <td>30.4</td>\n",
       "      <td>1468.3</td>\n",
       "      <td>83.7</td>\n",
       "      <td>33849.0</td>\n",
       "      <td>5153.7</td>\n",
       "    </tr>\n",
       "    <tr>\n",
       "      <td>2016-01-01</td>\n",
       "      <td>US</td>\n",
       "      <td>NaN</td>\n",
       "      <td>NaN</td>\n",
       "      <td>NaN</td>\n",
       "      <td>NaN</td>\n",
       "      <td>NaN</td>\n",
       "      <td>NaN</td>\n",
       "      <td>NaN</td>\n",
       "      <td>NaN</td>\n",
       "      <td>NaN</td>\n",
       "      <td>...</td>\n",
       "      <td>263.8</td>\n",
       "      <td>34858.0</td>\n",
       "      <td>229.3</td>\n",
       "      <td>14.4</td>\n",
       "      <td>1482.1</td>\n",
       "      <td>26.0</td>\n",
       "      <td>1346.2</td>\n",
       "      <td>82.7</td>\n",
       "      <td>35986.0</td>\n",
       "      <td>5053.7</td>\n",
       "    </tr>\n",
       "    <tr>\n",
       "      <td>2017-01-01</td>\n",
       "      <td>US</td>\n",
       "      <td>NaN</td>\n",
       "      <td>NaN</td>\n",
       "      <td>NaN</td>\n",
       "      <td>NaN</td>\n",
       "      <td>NaN</td>\n",
       "      <td>NaN</td>\n",
       "      <td>NaN</td>\n",
       "      <td>NaN</td>\n",
       "      <td>NaN</td>\n",
       "      <td>...</td>\n",
       "      <td>296.8</td>\n",
       "      <td>43031.0</td>\n",
       "      <td>256.9</td>\n",
       "      <td>13.7</td>\n",
       "      <td>1394.0</td>\n",
       "      <td>23.0</td>\n",
       "      <td>1310.0</td>\n",
       "      <td>82.8</td>\n",
       "      <td>37132.0</td>\n",
       "      <td>5014.4</td>\n",
       "    </tr>\n",
       "    <tr>\n",
       "      <td>2018-01-01</td>\n",
       "      <td>US</td>\n",
       "      <td>NaN</td>\n",
       "      <td>NaN</td>\n",
       "      <td>NaN</td>\n",
       "      <td>NaN</td>\n",
       "      <td>NaN</td>\n",
       "      <td>NaN</td>\n",
       "      <td>NaN</td>\n",
       "      <td>NaN</td>\n",
       "      <td>NaN</td>\n",
       "      <td>...</td>\n",
       "      <td>288.7</td>\n",
       "      <td>51450.0</td>\n",
       "      <td>277.7</td>\n",
       "      <td>13.3</td>\n",
       "      <td>1578.5</td>\n",
       "      <td>26.4</td>\n",
       "      <td>1245.8</td>\n",
       "      <td>83.7</td>\n",
       "      <td>38088.0</td>\n",
       "      <td>5145.2</td>\n",
       "    </tr>\n",
       "    <tr>\n",
       "      <td>2004-01-01</td>\n",
       "      <td>US</td>\n",
       "      <td>NaN</td>\n",
       "      <td>NaN</td>\n",
       "      <td>NaN</td>\n",
       "      <td>NaN</td>\n",
       "      <td>NaN</td>\n",
       "      <td>NaN</td>\n",
       "      <td>NaN</td>\n",
       "      <td>NaN</td>\n",
       "      <td>NaN</td>\n",
       "      <td>...</td>\n",
       "      <td>262.6</td>\n",
       "      <td>111.0</td>\n",
       "      <td>14.3</td>\n",
       "      <td>14.8</td>\n",
       "      <td>763.5</td>\n",
       "      <td>130.3</td>\n",
       "      <td>2143.6</td>\n",
       "      <td>71.9</td>\n",
       "      <td>7001</td>\n",
       "      <td>5816.0</td>\n",
       "    </tr>\n",
       "  </tbody>\n",
       "</table>\n",
       "<p>12026 rows × 27 columns</p>\n",
       "</div>"
      ],
      "text/plain": [
       "                Country                                            Project  \\\n",
       "Date                                                                         \n",
       "2002-01-01  Afghanistan                      HYDROELECTRIC POWER STATION I   \n",
       "2003-01-01  Afghanistan  Afghanistan: Emergency National Solidarity Pro...   \n",
       "2003-01-01  Afghanistan              HYDROCARBON RESOURCE SURVEY — STAGE 1   \n",
       "2003-01-01  Afghanistan  SUPPORT TO THE ELECTRICITY SECTOR AND DISSEMIN...   \n",
       "2005-01-01  Afghanistan  Afghanistan: Emergency National Solidarity Pro...   \n",
       "...                 ...                                                ...   \n",
       "2015-01-01           US                                                NaN   \n",
       "2016-01-01           US                                                NaN   \n",
       "2017-01-01           US                                                NaN   \n",
       "2018-01-01           US                                                NaN   \n",
       "2004-01-01           US                                                NaN   \n",
       "\n",
       "           Investor            Technology Asset Class Amount (USD million)  \\\n",
       "Date                                                                         \n",
       "2002-01-01      KFW  Renewable Hydropower       Grant               3.7018   \n",
       "2003-01-01      WBG  Multiple renewables*       Grant              22.6498   \n",
       "2003-01-01   Others  Renewable Hydropower       Grant               0.2698   \n",
       "2003-01-01   Others  Multiple renewables*       Grant               1.9594   \n",
       "2005-01-01      WBG  Multiple renewables*       Grant               5.9994   \n",
       "...             ...                   ...         ...                  ...   \n",
       "2015-01-01      NaN                   NaN         NaN                  NaN   \n",
       "2016-01-01      NaN                   NaN         NaN                  NaN   \n",
       "2017-01-01      NaN                   NaN         NaN                  NaN   \n",
       "2018-01-01      NaN                   NaN         NaN                  NaN   \n",
       "2004-01-01      NaN                   NaN         NaN                  NaN   \n",
       "\n",
       "                                                      Source  \\\n",
       "Date                                                           \n",
       "2002-01-01  2002-03 OECD Credit Report System (CRS) Database   \n",
       "2003-01-01  2002-03 OECD Credit Report System (CRS) Database   \n",
       "2003-01-01  2002-03 OECD Credit Report System (CRS) Database   \n",
       "2003-01-01  2002-03 OECD Credit Report System (CRS) Database   \n",
       "2005-01-01  2004-05 OECD Credit Report System (CRS) Database   \n",
       "...                                                      ...   \n",
       "2015-01-01                                               NaN   \n",
       "2016-01-01                                               NaN   \n",
       "2017-01-01                                               NaN   \n",
       "2018-01-01                                               NaN   \n",
       "2004-01-01                                               NaN   \n",
       "\n",
       "           GDP growth (annual %) Adjusted savings: gross savings (% of GNI)  \\\n",
       "Date                                                                          \n",
       "2002-01-01                   NaN                                        NaN   \n",
       "2003-01-01      8.83227780370231                                        NaN   \n",
       "2003-01-01      8.83227780370231                                        NaN   \n",
       "2003-01-01      8.83227780370231                                        NaN   \n",
       "2005-01-01      11.2297148388595                                        NaN   \n",
       "...                          ...                                        ...   \n",
       "2015-01-01                   NaN                                        NaN   \n",
       "2016-01-01                   NaN                                        NaN   \n",
       "2017-01-01                   NaN                                        NaN   \n",
       "2018-01-01                   NaN                                        NaN   \n",
       "2004-01-01                   NaN                                        NaN   \n",
       "\n",
       "           GNI growth (annual %)  ... Hydroelectricity: Generation Solar_MW  \\\n",
       "Date                              ...                                         \n",
       "2002-01-01                   NaN  ...                          NaN      NaN   \n",
       "2003-01-01                   NaN  ...                          NaN      NaN   \n",
       "2003-01-01                   NaN  ...                          NaN      NaN   \n",
       "2003-01-01                   NaN  ...                          NaN      NaN   \n",
       "2005-01-01                   NaN  ...                          NaN      NaN   \n",
       "...                          ...  ...                          ...      ...   \n",
       "2015-01-01                   NaN  ...                        246.5  23442.0   \n",
       "2016-01-01                   NaN  ...                        263.8  34858.0   \n",
       "2017-01-01                   NaN  ...                        296.8  43031.0   \n",
       "2018-01-01                   NaN  ...                        288.7  51450.0   \n",
       "2004-01-01                   NaN  ...                        262.6    111.0   \n",
       "\n",
       "           WindGen_TWh Electricity generation from other  \\\n",
       "Date                                                       \n",
       "2002-01-01         NaN                               NaN   \n",
       "2003-01-01         NaN                               NaN   \n",
       "2003-01-01         NaN                               NaN   \n",
       "2003-01-01         NaN                               NaN   \n",
       "2005-01-01         NaN                               NaN   \n",
       "...                ...                               ...   \n",
       "2015-01-01       192.6                              14.8   \n",
       "2016-01-01       229.3                              14.4   \n",
       "2017-01-01       256.9                              13.7   \n",
       "2018-01-01       277.7                              13.3   \n",
       "2004-01-01        14.3                              14.8   \n",
       "\n",
       "           Electricity generation from gas Electricity generation from oil  \\\n",
       "Date                                                                         \n",
       "2002-01-01                             NaN                             NaN   \n",
       "2003-01-01                             NaN                             NaN   \n",
       "2003-01-01                             NaN                             NaN   \n",
       "2003-01-01                             NaN                             NaN   \n",
       "2005-01-01                             NaN                             NaN   \n",
       "...                                    ...                             ...   \n",
       "2015-01-01                          1433.9                            30.4   \n",
       "2016-01-01                          1482.1                            26.0   \n",
       "2017-01-01                          1394.0                            23.0   \n",
       "2018-01-01                          1578.5                            26.4   \n",
       "2004-01-01                           763.5                           130.3   \n",
       "\n",
       "            Electricity generation from coal  \\\n",
       "Date                                           \n",
       "2002-01-01                               NaN   \n",
       "2003-01-01                               NaN   \n",
       "2003-01-01                               NaN   \n",
       "2003-01-01                               NaN   \n",
       "2005-01-01                               NaN   \n",
       "...                                      ...   \n",
       "2015-01-01                            1468.3   \n",
       "2016-01-01                            1346.2   \n",
       "2017-01-01                            1310.0   \n",
       "2018-01-01                            1245.8   \n",
       "2004-01-01                            2143.6   \n",
       "\n",
       "           Renewables: Generation- Geothermal, Biomass and Other  \\\n",
       "Date                                                               \n",
       "2002-01-01                                                NaN      \n",
       "2003-01-01                                                NaN      \n",
       "2003-01-01                                                NaN      \n",
       "2003-01-01                                                NaN      \n",
       "2005-01-01                                                NaN      \n",
       "...                                                       ...      \n",
       "2015-01-01                                               83.7      \n",
       "2016-01-01                                               82.7      \n",
       "2017-01-01                                               82.8      \n",
       "2018-01-01                                               83.7      \n",
       "2004-01-01                                               71.9      \n",
       "\n",
       "            Biofuel_pd_ktoe Carbon Dioxide Emissions  \n",
       "Date                                                  \n",
       "2002-01-01              NaN                      NaN  \n",
       "2003-01-01              NaN                      NaN  \n",
       "2003-01-01              NaN                      NaN  \n",
       "2003-01-01              NaN                      NaN  \n",
       "2005-01-01              NaN                      NaN  \n",
       "...                     ...                      ...  \n",
       "2015-01-01          33849.0                   5153.7  \n",
       "2016-01-01          35986.0                   5053.7  \n",
       "2017-01-01          37132.0                   5014.4  \n",
       "2018-01-01          38088.0                   5145.2  \n",
       "2004-01-01             7001                   5816.0  \n",
       "\n",
       "[12026 rows x 27 columns]"
      ]
     },
     "execution_count": 136,
     "metadata": {},
     "output_type": "execute_result"
    }
   ],
   "source": [
    "iwbp1_indexed.groupby()"
   ]
  },
  {
   "cell_type": "code",
   "execution_count": 132,
   "metadata": {
    "ExecuteTime": {
     "end_time": "2020-04-29T18:22:48.407005Z",
     "start_time": "2020-04-29T18:22:48.391027Z"
    }
   },
   "outputs": [],
   "source": [
    "iwbp_fl.to_csv('Master_framefl.csv', index=False)"
   ]
  },
  {
   "cell_type": "code",
   "execution_count": 133,
   "metadata": {
    "ExecuteTime": {
     "end_time": "2020-04-29T21:06:00.091165Z",
     "start_time": "2020-04-29T21:06:00.062802Z"
    }
   },
   "outputs": [
    {
     "ename": "TypeError",
     "evalue": "no numeric data to plot",
     "output_type": "error",
     "traceback": [
      "\u001b[0;31m---------------------------------------------------------------------------\u001b[0m",
      "\u001b[0;31mTypeError\u001b[0m                                 Traceback (most recent call last)",
      "\u001b[0;32m<ipython-input-133-c91a4fd0e269>\u001b[0m in \u001b[0;36m<module>\u001b[0;34m\u001b[0m\n\u001b[1;32m      1\u001b[0m \u001b[0;31m#Key info is Investor_Technology & Project\u001b[0m\u001b[0;34m\u001b[0m\u001b[0;34m\u001b[0m\u001b[0;34m\u001b[0m\u001b[0m\n\u001b[0;32m----> 2\u001b[0;31m \u001b[0miwbp1\u001b[0m\u001b[0;34m.\u001b[0m\u001b[0mProject\u001b[0m\u001b[0;34m.\u001b[0m\u001b[0mplot\u001b[0m\u001b[0;34m(\u001b[0m\u001b[0;34m)\u001b[0m\u001b[0;34m\u001b[0m\u001b[0;34m\u001b[0m\u001b[0m\n\u001b[0m",
      "\u001b[0;32m~/opt/anaconda3/lib/python3.7/site-packages/pandas/plotting/_core.py\u001b[0m in \u001b[0;36m__call__\u001b[0;34m(self, *args, **kwargs)\u001b[0m\n\u001b[1;32m    792\u001b[0m                     \u001b[0mdata\u001b[0m\u001b[0;34m.\u001b[0m\u001b[0mcolumns\u001b[0m \u001b[0;34m=\u001b[0m \u001b[0mlabel_name\u001b[0m\u001b[0;34m\u001b[0m\u001b[0;34m\u001b[0m\u001b[0m\n\u001b[1;32m    793\u001b[0m \u001b[0;34m\u001b[0m\u001b[0m\n\u001b[0;32m--> 794\u001b[0;31m         \u001b[0;32mreturn\u001b[0m \u001b[0mplot_backend\u001b[0m\u001b[0;34m.\u001b[0m\u001b[0mplot\u001b[0m\u001b[0;34m(\u001b[0m\u001b[0mdata\u001b[0m\u001b[0;34m,\u001b[0m \u001b[0mkind\u001b[0m\u001b[0;34m=\u001b[0m\u001b[0mkind\u001b[0m\u001b[0;34m,\u001b[0m \u001b[0;34m**\u001b[0m\u001b[0mkwargs\u001b[0m\u001b[0;34m)\u001b[0m\u001b[0;34m\u001b[0m\u001b[0;34m\u001b[0m\u001b[0m\n\u001b[0m\u001b[1;32m    795\u001b[0m \u001b[0;34m\u001b[0m\u001b[0m\n\u001b[1;32m    796\u001b[0m     \u001b[0;32mdef\u001b[0m \u001b[0mline\u001b[0m\u001b[0;34m(\u001b[0m\u001b[0mself\u001b[0m\u001b[0;34m,\u001b[0m \u001b[0mx\u001b[0m\u001b[0;34m=\u001b[0m\u001b[0;32mNone\u001b[0m\u001b[0;34m,\u001b[0m \u001b[0my\u001b[0m\u001b[0;34m=\u001b[0m\u001b[0;32mNone\u001b[0m\u001b[0;34m,\u001b[0m \u001b[0;34m**\u001b[0m\u001b[0mkwargs\u001b[0m\u001b[0;34m)\u001b[0m\u001b[0;34m:\u001b[0m\u001b[0;34m\u001b[0m\u001b[0;34m\u001b[0m\u001b[0m\n",
      "\u001b[0;32m~/opt/anaconda3/lib/python3.7/site-packages/pandas/plotting/_matplotlib/__init__.py\u001b[0m in \u001b[0;36mplot\u001b[0;34m(data, kind, **kwargs)\u001b[0m\n\u001b[1;32m     60\u001b[0m             \u001b[0mkwargs\u001b[0m\u001b[0;34m[\u001b[0m\u001b[0;34m\"ax\"\u001b[0m\u001b[0;34m]\u001b[0m \u001b[0;34m=\u001b[0m \u001b[0mgetattr\u001b[0m\u001b[0;34m(\u001b[0m\u001b[0max\u001b[0m\u001b[0;34m,\u001b[0m \u001b[0;34m\"left_ax\"\u001b[0m\u001b[0;34m,\u001b[0m \u001b[0max\u001b[0m\u001b[0;34m)\u001b[0m\u001b[0;34m\u001b[0m\u001b[0;34m\u001b[0m\u001b[0m\n\u001b[1;32m     61\u001b[0m     \u001b[0mplot_obj\u001b[0m \u001b[0;34m=\u001b[0m \u001b[0mPLOT_CLASSES\u001b[0m\u001b[0;34m[\u001b[0m\u001b[0mkind\u001b[0m\u001b[0;34m]\u001b[0m\u001b[0;34m(\u001b[0m\u001b[0mdata\u001b[0m\u001b[0;34m,\u001b[0m \u001b[0;34m**\u001b[0m\u001b[0mkwargs\u001b[0m\u001b[0;34m)\u001b[0m\u001b[0;34m\u001b[0m\u001b[0;34m\u001b[0m\u001b[0m\n\u001b[0;32m---> 62\u001b[0;31m     \u001b[0mplot_obj\u001b[0m\u001b[0;34m.\u001b[0m\u001b[0mgenerate\u001b[0m\u001b[0;34m(\u001b[0m\u001b[0;34m)\u001b[0m\u001b[0;34m\u001b[0m\u001b[0;34m\u001b[0m\u001b[0m\n\u001b[0m\u001b[1;32m     63\u001b[0m     \u001b[0mplot_obj\u001b[0m\u001b[0;34m.\u001b[0m\u001b[0mdraw\u001b[0m\u001b[0;34m(\u001b[0m\u001b[0;34m)\u001b[0m\u001b[0;34m\u001b[0m\u001b[0;34m\u001b[0m\u001b[0m\n\u001b[1;32m     64\u001b[0m     \u001b[0;32mreturn\u001b[0m \u001b[0mplot_obj\u001b[0m\u001b[0;34m.\u001b[0m\u001b[0mresult\u001b[0m\u001b[0;34m\u001b[0m\u001b[0;34m\u001b[0m\u001b[0m\n",
      "\u001b[0;32m~/opt/anaconda3/lib/python3.7/site-packages/pandas/plotting/_matplotlib/core.py\u001b[0m in \u001b[0;36mgenerate\u001b[0;34m(self)\u001b[0m\n\u001b[1;32m    277\u001b[0m     \u001b[0;32mdef\u001b[0m \u001b[0mgenerate\u001b[0m\u001b[0;34m(\u001b[0m\u001b[0mself\u001b[0m\u001b[0;34m)\u001b[0m\u001b[0;34m:\u001b[0m\u001b[0;34m\u001b[0m\u001b[0;34m\u001b[0m\u001b[0m\n\u001b[1;32m    278\u001b[0m         \u001b[0mself\u001b[0m\u001b[0;34m.\u001b[0m\u001b[0m_args_adjust\u001b[0m\u001b[0;34m(\u001b[0m\u001b[0;34m)\u001b[0m\u001b[0;34m\u001b[0m\u001b[0;34m\u001b[0m\u001b[0m\n\u001b[0;32m--> 279\u001b[0;31m         \u001b[0mself\u001b[0m\u001b[0;34m.\u001b[0m\u001b[0m_compute_plot_data\u001b[0m\u001b[0;34m(\u001b[0m\u001b[0;34m)\u001b[0m\u001b[0;34m\u001b[0m\u001b[0;34m\u001b[0m\u001b[0m\n\u001b[0m\u001b[1;32m    280\u001b[0m         \u001b[0mself\u001b[0m\u001b[0;34m.\u001b[0m\u001b[0m_setup_subplots\u001b[0m\u001b[0;34m(\u001b[0m\u001b[0;34m)\u001b[0m\u001b[0;34m\u001b[0m\u001b[0;34m\u001b[0m\u001b[0m\n\u001b[1;32m    281\u001b[0m         \u001b[0mself\u001b[0m\u001b[0;34m.\u001b[0m\u001b[0m_make_plot\u001b[0m\u001b[0;34m(\u001b[0m\u001b[0;34m)\u001b[0m\u001b[0;34m\u001b[0m\u001b[0;34m\u001b[0m\u001b[0m\n",
      "\u001b[0;32m~/opt/anaconda3/lib/python3.7/site-packages/pandas/plotting/_matplotlib/core.py\u001b[0m in \u001b[0;36m_compute_plot_data\u001b[0;34m(self)\u001b[0m\n\u001b[1;32m    412\u001b[0m         \u001b[0;31m# no non-numeric frames or series allowed\u001b[0m\u001b[0;34m\u001b[0m\u001b[0;34m\u001b[0m\u001b[0;34m\u001b[0m\u001b[0m\n\u001b[1;32m    413\u001b[0m         \u001b[0;32mif\u001b[0m \u001b[0mis_empty\u001b[0m\u001b[0;34m:\u001b[0m\u001b[0;34m\u001b[0m\u001b[0;34m\u001b[0m\u001b[0m\n\u001b[0;32m--> 414\u001b[0;31m             \u001b[0;32mraise\u001b[0m \u001b[0mTypeError\u001b[0m\u001b[0;34m(\u001b[0m\u001b[0;34m\"no numeric data to plot\"\u001b[0m\u001b[0;34m)\u001b[0m\u001b[0;34m\u001b[0m\u001b[0;34m\u001b[0m\u001b[0m\n\u001b[0m\u001b[1;32m    415\u001b[0m \u001b[0;34m\u001b[0m\u001b[0m\n\u001b[1;32m    416\u001b[0m         \u001b[0;31m# GH25587: cast ExtensionArray of pandas (IntegerArray, etc.) to\u001b[0m\u001b[0;34m\u001b[0m\u001b[0;34m\u001b[0m\u001b[0;34m\u001b[0m\u001b[0m\n",
      "\u001b[0;31mTypeError\u001b[0m: no numeric data to plot"
     ]
    }
   ],
   "source": [
    "#Key info is Investor_Technology & Project\n",
    "def dist_plotter(sample, bins=50, kde=False):\n",
    "    fig, ax = plt.subplots(figsize=(8, 6))\n",
    "    sns.distplot(sample, bins=bins, kde=kde)\n",
    "    plt.show()\n",
    "    \n",
    "dist_plotter(data.temp)\n",
    "dist_plotter(data.casual)\n",
    "data.season.hist()\n",
    "plt.show()"
   ]
  },
  {
   "cell_type": "code",
   "execution_count": 119,
   "metadata": {
    "ExecuteTime": {
     "end_time": "2020-04-29T18:12:50.544370Z",
     "start_time": "2020-04-29T18:12:50.528209Z"
    }
   },
   "outputs": [
    {
     "data": {
      "text/plain": [
       "Brazil          763\n",
       "Multilateral    393\n",
       "India           365\n",
       "Other Africa    296\n",
       "China           218\n",
       "               ... \n",
       "Malta             1\n",
       "Canada            1\n",
       "Lithuania         1\n",
       "Cyprus            1\n",
       "Fr Polynesia      1\n",
       "Name: Country, Length: 191, dtype: int64"
      ]
     },
     "execution_count": 119,
     "metadata": {},
     "output_type": "execute_result"
    }
   ],
   "source": [
    "iwbp1[iwbp1.Project.isnull() == False].Country.value_counts()"
   ]
  },
  {
   "cell_type": "code",
   "execution_count": 125,
   "metadata": {
    "ExecuteTime": {
     "end_time": "2020-04-29T18:17:33.379455Z",
     "start_time": "2020-04-29T18:17:33.365736Z"
    }
   },
   "outputs": [
    {
     "data": {
      "text/plain": [
       "0      Afghanistan\n",
       "1          Albania\n",
       "2          Algeria\n",
       "3           Angola\n",
       "4         Anguilla\n",
       "          ...     \n",
       "186      Venezuela\n",
       "187       Viet Nam\n",
       "188          Yemen\n",
       "189         Zambia\n",
       "190       Zimbabwe\n",
       "Length: 191, dtype: object"
      ]
     },
     "execution_count": 125,
     "metadata": {},
     "output_type": "execute_result"
    }
   ],
   "source": [
    "pj_country = pd.Series(iwbp1[iwbp1.Project.isnull() == False].Country.unique())\n",
    "pj_country"
   ]
  },
  {
   "cell_type": "code",
   "execution_count": 128,
   "metadata": {
    "ExecuteTime": {
     "end_time": "2020-04-29T18:18:20.502517Z",
     "start_time": "2020-04-29T18:18:20.496263Z"
    }
   },
   "outputs": [],
   "source": [
    "others = ['EU (28)','Other Africa', 'Other Asia',\n",
    "       'Other Cent Am Carib', 'Other Europe', 'Other Mid East',\n",
    "       'Other Oceania', 'Other South Am']"
   ]
  },
  {
   "cell_type": "code",
   "execution_count": 130,
   "metadata": {
    "ExecuteTime": {
     "end_time": "2020-04-29T18:19:03.691309Z",
     "start_time": "2020-04-29T18:19:03.681737Z"
    }
   },
   "outputs": [
    {
     "data": {
      "text/plain": [
       "0      Afghanistan\n",
       "1          Albania\n",
       "2          Algeria\n",
       "3           Angola\n",
       "4         Anguilla\n",
       "          ...     \n",
       "186      Venezuela\n",
       "187       Viet Nam\n",
       "188          Yemen\n",
       "189         Zambia\n",
       "190       Zimbabwe\n",
       "Length: 191, dtype: object"
      ]
     },
     "execution_count": 130,
     "metadata": {},
     "output_type": "execute_result"
    }
   ],
   "source": [
    "pj_country.apply(lambda x: x if x not in others else None)"
   ]
  },
  {
   "cell_type": "code",
   "execution_count": null,
   "metadata": {},
   "outputs": [],
   "source": [
    "# Consider removing columns or rows w/ \n",
    "# Use list of countries from other formulas? \n",
    "\n",
    "sns.pairplot(X, \n",
    "     vars=[col for col in X.columns if col !='iris'], \n",
    "     hue='iris', \n",
    "     diag_kind='kde')\n",
    "plt.show()\n",
    "\n",
    "Then move to Tableau"
   ]
  },
  {
   "cell_type": "code",
   "execution_count": null,
   "metadata": {},
   "outputs": [],
   "source": [
    "[BP_2000s[col].isnull().sum() for col in BP_2000s.columns]"
   ]
  }
 ],
 "metadata": {
  "kernelspec": {
   "display_name": "Python 3",
   "language": "python",
   "name": "python3"
  },
  "language_info": {
   "codemirror_mode": {
    "name": "ipython",
    "version": 3
   },
   "file_extension": ".py",
   "mimetype": "text/x-python",
   "name": "python",
   "nbconvert_exporter": "python",
   "pygments_lexer": "ipython3",
   "version": "3.7.4"
  },
  "toc": {
   "base_numbering": 1,
   "nav_menu": {},
   "number_sections": true,
   "sideBar": true,
   "skip_h1_title": false,
   "title_cell": "Table of Contents",
   "title_sidebar": "Contents",
   "toc_cell": false,
   "toc_position": {},
   "toc_section_display": true,
   "toc_window_display": false
  }
 },
 "nbformat": 4,
 "nbformat_minor": 2
}
