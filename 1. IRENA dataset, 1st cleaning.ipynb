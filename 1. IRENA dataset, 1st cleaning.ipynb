{
 "cells": [
  {
   "cell_type": "markdown",
   "metadata": {},
   "source": [
    "# Setting up IRENA dataset"
   ]
  },
  {
   "cell_type": "code",
   "execution_count": 1,
   "metadata": {
    "ExecuteTime": {
     "end_time": "2020-04-29T21:12:28.178528Z",
     "start_time": "2020-04-29T21:12:25.256192Z"
    }
   },
   "outputs": [],
   "source": [
    "import pandas as pd\n",
    "import numpy as np\n",
    "import seaborn as sns\n",
    "from sklearn.feature_extraction.text import TfidfVectorizer"
   ]
  },
  {
   "cell_type": "markdown",
   "metadata": {},
   "source": [
    "Uploading the main dataframe \"REinv\" as in Renewable Energy Investments"
   ]
  },
  {
   "cell_type": "code",
   "execution_count": 4,
   "metadata": {
    "ExecuteTime": {
     "end_time": "2020-04-29T16:10:39.664220Z",
     "start_time": "2020-04-29T16:10:39.562108Z"
    }
   },
   "outputs": [],
   "source": [
    "REinv = pd.read_csv('/Users/valentinereltien/Desktop/IRENA/IRENA_RE_Public_Investment_Database_Extract_November19.csv')"
   ]
  },
  {
   "cell_type": "code",
   "execution_count": 5,
   "metadata": {
    "ExecuteTime": {
     "end_time": "2020-04-29T16:10:39.853741Z",
     "start_time": "2020-04-29T16:10:39.799457Z"
    }
   },
   "outputs": [
    {
     "name": "stdout",
     "output_type": "stream",
     "text": [
      "<class 'pandas.core.frame.DataFrame'>\n",
      "RangeIndex: 9275 entries, 0 to 9274\n",
      "Data columns (total 10 columns):\n",
      "Recipient Country/Area    9275 non-null object\n",
      "ISO-code                  9275 non-null object\n",
      "Region                    9275 non-null object\n",
      "Project                   9023 non-null object\n",
      "Year                      9275 non-null int64\n",
      "Investor                  9275 non-null object\n",
      "Technology                9275 non-null object\n",
      "Asset Class               9275 non-null object\n",
      "Amount (USD million)      9275 non-null object\n",
      "Source                    9275 non-null object\n",
      "dtypes: int64(1), object(9)\n",
      "memory usage: 724.7+ KB\n"
     ]
    }
   ],
   "source": [
    "REinv.info()"
   ]
  },
  {
   "cell_type": "markdown",
   "metadata": {},
   "source": [
    "It is fortunately seemingly ready for use!"
   ]
  },
  {
   "cell_type": "code",
   "execution_count": 6,
   "metadata": {
    "ExecuteTime": {
     "end_time": "2020-04-29T16:10:40.000664Z",
     "start_time": "2020-04-29T16:10:39.955415Z"
    }
   },
   "outputs": [
    {
     "data": {
      "text/plain": [
       "Index(['Recipient Country/Area', 'ISO-code', 'Region', 'Project', 'Year',\n",
       "       'Investor', 'Technology', 'Asset Class', 'Amount (USD million)',\n",
       "       'Source'],\n",
       "      dtype='object')"
      ]
     },
     "execution_count": 6,
     "metadata": {},
     "output_type": "execute_result"
    }
   ],
   "source": [
    "REinv.columns"
   ]
  },
  {
   "cell_type": "markdown",
   "metadata": {},
   "source": [
    "Renaming columns: "
   ]
  },
  {
   "cell_type": "code",
   "execution_count": 7,
   "metadata": {
    "ExecuteTime": {
     "end_time": "2020-04-29T16:10:42.297106Z",
     "start_time": "2020-04-29T16:10:42.276905Z"
    }
   },
   "outputs": [],
   "source": [
    "REinv.rename(columns = {'Recipient Country/Area' : 'Country'}, inplace=True)"
   ]
  },
  {
   "cell_type": "markdown",
   "metadata": {},
   "source": [
    "Sorting by year and country's alphabetical order:"
   ]
  },
  {
   "cell_type": "code",
   "execution_count": 8,
   "metadata": {
    "ExecuteTime": {
     "end_time": "2020-04-29T16:10:42.495386Z",
     "start_time": "2020-04-29T16:10:42.473745Z"
    }
   },
   "outputs": [],
   "source": [
    "REinv = REinv.sort_values(by = ['Country', 'Year'])"
   ]
  },
  {
   "cell_type": "markdown",
   "metadata": {},
   "source": [
    "Transformed year into datetime format, pre-empting for future use: "
   ]
  },
  {
   "cell_type": "code",
   "execution_count": 9,
   "metadata": {
    "ExecuteTime": {
     "end_time": "2020-04-29T16:10:42.743299Z",
     "start_time": "2020-04-29T16:10:42.726689Z"
    }
   },
   "outputs": [],
   "source": [
    "REinv.Year = pd.to_datetime(REinv.Year, format = '%Y')"
   ]
  },
  {
   "cell_type": "code",
   "execution_count": 10,
   "metadata": {
    "ExecuteTime": {
     "end_time": "2020-04-29T16:10:42.938113Z",
     "start_time": "2020-04-29T16:10:42.918456Z"
    }
   },
   "outputs": [
    {
     "data": {
      "text/plain": [
       "Brazil          779\n",
       "Multilateral    427\n",
       "India           383\n",
       "Other Africa    308\n",
       "China           240\n",
       "               ... \n",
       "Anguilla          1\n",
       "EU (28)           1\n",
       "Cyprus            1\n",
       "Russian Fed       1\n",
       "Lithuania         1\n",
       "Name: Country, Length: 191, dtype: int64"
      ]
     },
     "execution_count": 10,
     "metadata": {},
     "output_type": "execute_result"
    }
   ],
   "source": [
    "REinv.Country.value_counts()"
   ]
  },
  {
   "cell_type": "code",
   "execution_count": 11,
   "metadata": {
    "ExecuteTime": {
     "end_time": "2020-04-29T16:10:45.524752Z",
     "start_time": "2020-04-29T16:10:45.504353Z"
    }
   },
   "outputs": [],
   "source": [
    "REinv.Country = pd.Series(REinv.Country)"
   ]
  },
  {
   "cell_type": "code",
   "execution_count": 12,
   "metadata": {
    "ExecuteTime": {
     "end_time": "2020-04-29T16:10:46.063014Z",
     "start_time": "2020-04-29T16:10:45.762667Z"
    }
   },
   "outputs": [
    {
     "data": {
      "text/html": [
       "<div>\n",
       "<style scoped>\n",
       "    .dataframe tbody tr th:only-of-type {\n",
       "        vertical-align: middle;\n",
       "    }\n",
       "\n",
       "    .dataframe tbody tr th {\n",
       "        vertical-align: top;\n",
       "    }\n",
       "\n",
       "    .dataframe thead th {\n",
       "        text-align: right;\n",
       "    }\n",
       "</style>\n",
       "<table border=\"1\" class=\"dataframe\">\n",
       "  <thead>\n",
       "    <tr style=\"text-align: right;\">\n",
       "      <th></th>\n",
       "      <th>Country</th>\n",
       "      <th>ISO-code</th>\n",
       "      <th>Region</th>\n",
       "      <th>Project</th>\n",
       "      <th>Year</th>\n",
       "      <th>Investor</th>\n",
       "      <th>Technology</th>\n",
       "      <th>Asset Class</th>\n",
       "      <th>Amount (USD million)</th>\n",
       "      <th>Source</th>\n",
       "    </tr>\n",
       "  </thead>\n",
       "  <tbody>\n",
       "    <tr>\n",
       "      <td>count</td>\n",
       "      <td>9275</td>\n",
       "      <td>9275</td>\n",
       "      <td>9275</td>\n",
       "      <td>9023</td>\n",
       "      <td>9275</td>\n",
       "      <td>9275</td>\n",
       "      <td>9275</td>\n",
       "      <td>9275</td>\n",
       "      <td>9275</td>\n",
       "      <td>9275</td>\n",
       "    </tr>\n",
       "    <tr>\n",
       "      <td>unique</td>\n",
       "      <td>191</td>\n",
       "      <td>191</td>\n",
       "      <td>10</td>\n",
       "      <td>6696</td>\n",
       "      <td>18</td>\n",
       "      <td>25</td>\n",
       "      <td>8</td>\n",
       "      <td>10</td>\n",
       "      <td>6046</td>\n",
       "      <td>677</td>\n",
       "    </tr>\n",
       "    <tr>\n",
       "      <td>top</td>\n",
       "      <td>Brazil</td>\n",
       "      <td>BRA</td>\n",
       "      <td>Africa</td>\n",
       "      <td>TC AGGREGATED ACTIVITIES</td>\n",
       "      <td>2017-01-01 00:00:00</td>\n",
       "      <td>Others</td>\n",
       "      <td>Multiple renewables*</td>\n",
       "      <td>Grant</td>\n",
       "      <td>0.1000</td>\n",
       "      <td>2017 OECD Credit Report System (CRS) Database</td>\n",
       "    </tr>\n",
       "    <tr>\n",
       "      <td>freq</td>\n",
       "      <td>779</td>\n",
       "      <td>779</td>\n",
       "      <td>2775</td>\n",
       "      <td>588</td>\n",
       "      <td>1210</td>\n",
       "      <td>5344</td>\n",
       "      <td>3779</td>\n",
       "      <td>6359</td>\n",
       "      <td>29</td>\n",
       "      <td>979</td>\n",
       "    </tr>\n",
       "    <tr>\n",
       "      <td>first</td>\n",
       "      <td>NaN</td>\n",
       "      <td>NaN</td>\n",
       "      <td>NaN</td>\n",
       "      <td>NaN</td>\n",
       "      <td>2000-01-01 00:00:00</td>\n",
       "      <td>NaN</td>\n",
       "      <td>NaN</td>\n",
       "      <td>NaN</td>\n",
       "      <td>NaN</td>\n",
       "      <td>NaN</td>\n",
       "    </tr>\n",
       "    <tr>\n",
       "      <td>last</td>\n",
       "      <td>NaN</td>\n",
       "      <td>NaN</td>\n",
       "      <td>NaN</td>\n",
       "      <td>NaN</td>\n",
       "      <td>2017-01-01 00:00:00</td>\n",
       "      <td>NaN</td>\n",
       "      <td>NaN</td>\n",
       "      <td>NaN</td>\n",
       "      <td>NaN</td>\n",
       "      <td>NaN</td>\n",
       "    </tr>\n",
       "  </tbody>\n",
       "</table>\n",
       "</div>"
      ],
      "text/plain": [
       "       Country ISO-code  Region                   Project  \\\n",
       "count     9275     9275    9275                      9023   \n",
       "unique     191      191      10                      6696   \n",
       "top     Brazil      BRA  Africa  TC AGGREGATED ACTIVITIES   \n",
       "freq       779      779    2775                       588   \n",
       "first      NaN      NaN     NaN                       NaN   \n",
       "last       NaN      NaN     NaN                       NaN   \n",
       "\n",
       "                       Year Investor            Technology Asset Class  \\\n",
       "count                  9275     9275                  9275        9275   \n",
       "unique                   18       25                     8          10   \n",
       "top     2017-01-01 00:00:00   Others  Multiple renewables*       Grant   \n",
       "freq                   1210     5344                  3779        6359   \n",
       "first   2000-01-01 00:00:00      NaN                   NaN         NaN   \n",
       "last    2017-01-01 00:00:00      NaN                   NaN         NaN   \n",
       "\n",
       "       Amount (USD million)                                         Source  \n",
       "count                  9275                                           9275  \n",
       "unique                 6046                                            677  \n",
       "top                  0.1000  2017 OECD Credit Report System (CRS) Database  \n",
       "freq                     29                                            979  \n",
       "first                   NaN                                            NaN  \n",
       "last                    NaN                                            NaN  "
      ]
     },
     "execution_count": 12,
     "metadata": {},
     "output_type": "execute_result"
    }
   ],
   "source": [
    "REinv.describe()"
   ]
  },
  {
   "cell_type": "code",
   "execution_count": 13,
   "metadata": {
    "ExecuteTime": {
     "end_time": "2020-04-29T16:10:48.104739Z",
     "start_time": "2020-04-29T16:10:48.080743Z"
    }
   },
   "outputs": [],
   "source": [
    "REinv.rename(columns = {'Year': 'Date'}, inplace=True)"
   ]
  },
  {
   "cell_type": "code",
   "execution_count": 14,
   "metadata": {
    "ExecuteTime": {
     "end_time": "2020-04-29T16:10:49.974573Z",
     "start_time": "2020-04-29T16:10:49.937017Z"
    }
   },
   "outputs": [
    {
     "data": {
      "text/html": [
       "<div>\n",
       "<style scoped>\n",
       "    .dataframe tbody tr th:only-of-type {\n",
       "        vertical-align: middle;\n",
       "    }\n",
       "\n",
       "    .dataframe tbody tr th {\n",
       "        vertical-align: top;\n",
       "    }\n",
       "\n",
       "    .dataframe thead th {\n",
       "        text-align: right;\n",
       "    }\n",
       "</style>\n",
       "<table border=\"1\" class=\"dataframe\">\n",
       "  <thead>\n",
       "    <tr style=\"text-align: right;\">\n",
       "      <th></th>\n",
       "      <th>Country</th>\n",
       "      <th>ISO-code</th>\n",
       "      <th>Region</th>\n",
       "      <th>Project</th>\n",
       "      <th>Date</th>\n",
       "      <th>Investor</th>\n",
       "      <th>Technology</th>\n",
       "      <th>Asset Class</th>\n",
       "      <th>Amount (USD million)</th>\n",
       "      <th>Source</th>\n",
       "    </tr>\n",
       "  </thead>\n",
       "  <tbody>\n",
       "    <tr>\n",
       "      <td>0</td>\n",
       "      <td>Afghanistan</td>\n",
       "      <td>AFG</td>\n",
       "      <td>Asia</td>\n",
       "      <td>ADA, MICRO HYDRO POWER</td>\n",
       "      <td>2000-01-01</td>\n",
       "      <td>Others</td>\n",
       "      <td>Renewable Hydropower</td>\n",
       "      <td>Grant</td>\n",
       "      <td>0.0225</td>\n",
       "      <td>2000-01 OECD Credit Report System (CRS) Database</td>\n",
       "    </tr>\n",
       "    <tr>\n",
       "      <td>33</td>\n",
       "      <td>Afghanistan</td>\n",
       "      <td>AFG</td>\n",
       "      <td>Asia</td>\n",
       "      <td>MICRO HYDRO POWER</td>\n",
       "      <td>2001-01-01</td>\n",
       "      <td>Others</td>\n",
       "      <td>Renewable Hydropower</td>\n",
       "      <td>Grant</td>\n",
       "      <td>0.0243</td>\n",
       "      <td>2000-01 OECD Credit Report System (CRS) Database</td>\n",
       "    </tr>\n",
       "    <tr>\n",
       "      <td>80</td>\n",
       "      <td>Afghanistan</td>\n",
       "      <td>AFG</td>\n",
       "      <td>Asia</td>\n",
       "      <td>SOLAR ENERGY PROJECT</td>\n",
       "      <td>2001-01-01</td>\n",
       "      <td>Others</td>\n",
       "      <td>Solar energy</td>\n",
       "      <td>Grant</td>\n",
       "      <td>0.0971</td>\n",
       "      <td>2000-01 OECD Credit Report System (CRS) Database</td>\n",
       "    </tr>\n",
       "    <tr>\n",
       "      <td>25</td>\n",
       "      <td>Afghanistan</td>\n",
       "      <td>AFG</td>\n",
       "      <td>Asia</td>\n",
       "      <td>HYDROELECTRIC POWER STATION I</td>\n",
       "      <td>2002-01-01</td>\n",
       "      <td>KFW</td>\n",
       "      <td>Renewable Hydropower</td>\n",
       "      <td>Grant</td>\n",
       "      <td>3.7018</td>\n",
       "      <td>2002-03 OECD Credit Report System (CRS) Database</td>\n",
       "    </tr>\n",
       "    <tr>\n",
       "      <td>2</td>\n",
       "      <td>Afghanistan</td>\n",
       "      <td>AFG</td>\n",
       "      <td>Asia</td>\n",
       "      <td>Afghanistan: Emergency National Solidarity Pro...</td>\n",
       "      <td>2003-01-01</td>\n",
       "      <td>WBG</td>\n",
       "      <td>Multiple renewables*</td>\n",
       "      <td>Grant</td>\n",
       "      <td>22.6498</td>\n",
       "      <td>2002-03 OECD Credit Report System (CRS) Database</td>\n",
       "    </tr>\n",
       "  </tbody>\n",
       "</table>\n",
       "</div>"
      ],
      "text/plain": [
       "        Country ISO-code Region  \\\n",
       "0   Afghanistan      AFG   Asia   \n",
       "33  Afghanistan      AFG   Asia   \n",
       "80  Afghanistan      AFG   Asia   \n",
       "25  Afghanistan      AFG   Asia   \n",
       "2   Afghanistan      AFG   Asia   \n",
       "\n",
       "                                              Project       Date Investor  \\\n",
       "0                              ADA, MICRO HYDRO POWER 2000-01-01   Others   \n",
       "33                                  MICRO HYDRO POWER 2001-01-01   Others   \n",
       "80                               SOLAR ENERGY PROJECT 2001-01-01   Others   \n",
       "25                      HYDROELECTRIC POWER STATION I 2002-01-01      KFW   \n",
       "2   Afghanistan: Emergency National Solidarity Pro... 2003-01-01      WBG   \n",
       "\n",
       "              Technology Asset Class Amount (USD million)  \\\n",
       "0   Renewable Hydropower       Grant               0.0225   \n",
       "33  Renewable Hydropower       Grant               0.0243   \n",
       "80          Solar energy       Grant               0.0971   \n",
       "25  Renewable Hydropower       Grant               3.7018   \n",
       "2   Multiple renewables*       Grant              22.6498   \n",
       "\n",
       "                                              Source  \n",
       "0   2000-01 OECD Credit Report System (CRS) Database  \n",
       "33  2000-01 OECD Credit Report System (CRS) Database  \n",
       "80  2000-01 OECD Credit Report System (CRS) Database  \n",
       "25  2002-03 OECD Credit Report System (CRS) Database  \n",
       "2   2002-03 OECD Credit Report System (CRS) Database  "
      ]
     },
     "execution_count": 14,
     "metadata": {},
     "output_type": "execute_result"
    }
   ],
   "source": [
    "REinv.head()"
   ]
  },
  {
   "cell_type": "code",
   "execution_count": 2,
   "metadata": {
    "ExecuteTime": {
     "end_time": "2020-05-30T17:42:08.987074Z",
     "start_time": "2020-05-30T17:42:08.980282Z"
    }
   },
   "outputs": [],
   "source": [
    "#Dropping ISO-code & Region feature to only retain the Country's name:"
   ]
  },
  {
   "cell_type": "code",
   "execution_count": 15,
   "metadata": {
    "ExecuteTime": {
     "end_time": "2020-04-29T16:10:52.300193Z",
     "start_time": "2020-04-29T16:10:52.281469Z"
    }
   },
   "outputs": [],
   "source": [
    "REinv.drop(['ISO-code', 'Region'], axis=1, inplace=True)"
   ]
  },
  {
   "cell_type": "markdown",
   "metadata": {},
   "source": [
    "Saving as a csv to recuperate for further use: "
   ]
  },
  {
   "cell_type": "code",
   "execution_count": 16,
   "metadata": {
    "ExecuteTime": {
     "end_time": "2020-04-29T21:20:31.235366Z",
     "start_time": "2020-04-29T21:20:31.157610Z"
    }
   },
   "outputs": [],
   "source": [
    "irena.to_csv('irena_inv.csv', index=False)"
   ]
  },
  {
   "cell_type": "markdown",
   "metadata": {
    "ExecuteTime": {
     "end_time": "2020-04-24T14:04:52.779706Z",
     "start_time": "2020-04-24T14:04:52.764053Z"
    }
   },
   "source": [
    "Simplifying this feature's name to make it more readily extractable. This will be the target feature:"
   ]
  },
  {
   "cell_type": "code",
   "execution_count": 13,
   "metadata": {
    "ExecuteTime": {
     "end_time": "2020-04-29T21:19:57.745974Z",
     "start_time": "2020-04-29T21:19:57.737728Z"
    }
   },
   "outputs": [],
   "source": [
    "irena.rename(columns = {'Amount (USD million)': 'Invested_USDM'}, inplace=True)"
   ]
  },
  {
   "cell_type": "markdown",
   "metadata": {},
   "source": [
    "Testing an alternative index, experimenting for better efficiency:"
   ]
  },
  {
   "cell_type": "code",
   "execution_count": 21,
   "metadata": {
    "ExecuteTime": {
     "end_time": "2020-04-29T16:11:43.479654Z",
     "start_time": "2020-04-29T16:11:43.461432Z"
    }
   },
   "outputs": [],
   "source": [
    "irena.set_index('Date', drop=True, inplace=True)"
   ]
  },
  {
   "cell_type": "markdown",
   "metadata": {},
   "source": [
    "Creating a function to impute the Project column if empty, using as description merely its technology, so as to not lose valuable data contained in the observations with missing descriptions:  "
   ]
  },
  {
   "cell_type": "code",
   "execution_count": 5,
   "metadata": {
    "ExecuteTime": {
     "end_time": "2020-04-29T21:13:27.202040Z",
     "start_time": "2020-04-29T21:13:27.196784Z"
    }
   },
   "outputs": [],
   "source": [
    "def col_change(x):\n",
    "    if type(x.Project)!= str:\n",
    "        x.Project= x.Technology\n",
    "    return x"
   ]
  },
  {
   "cell_type": "code",
   "execution_count": 14,
   "metadata": {
    "ExecuteTime": {
     "end_time": "2020-04-29T21:20:11.147957Z",
     "start_time": "2020-04-29T21:20:09.484212Z"
    }
   },
   "outputs": [],
   "source": [
    "irena = irena.apply(col_change, axis=1)"
   ]
  },
  {
   "cell_type": "markdown",
   "metadata": {},
   "source": [
    "Transforming all words to lower case in order to prepare the description to be processed by a NLP:"
   ]
  },
  {
   "cell_type": "code",
   "execution_count": 15,
   "metadata": {
    "ExecuteTime": {
     "end_time": "2020-04-29T21:20:14.222385Z",
     "start_time": "2020-04-29T21:20:14.211320Z"
    }
   },
   "outputs": [],
   "source": [
    "irena.Project = irena.Project.apply(lambda x: x.lower())"
   ]
  },
  {
   "cell_type": "markdown",
   "metadata": {},
   "source": [
    "Trial TFIDF to learn more about the Project Description [PD] column:"
   ]
  },
  {
   "cell_type": "code",
   "execution_count": 19,
   "metadata": {
    "ExecuteTime": {
     "end_time": "2020-04-29T21:21:27.698871Z",
     "start_time": "2020-04-29T21:21:27.196623Z"
    }
   },
   "outputs": [
    {
     "data": {
      "text/html": [
       "<div>\n",
       "<style scoped>\n",
       "    .dataframe tbody tr th:only-of-type {\n",
       "        vertical-align: middle;\n",
       "    }\n",
       "\n",
       "    .dataframe tbody tr th {\n",
       "        vertical-align: top;\n",
       "    }\n",
       "\n",
       "    .dataframe thead th {\n",
       "        text-align: right;\n",
       "    }\n",
       "</style>\n",
       "<table border=\"1\" class=\"dataframe\">\n",
       "  <thead>\n",
       "    <tr style=\"text-align: right;\">\n",
       "      <th></th>\n",
       "      <th>micro hydro</th>\n",
       "      <th>micro</th>\n",
       "      <th>hydro power</th>\n",
       "      <th>hydro</th>\n",
       "      <th>power</th>\n",
       "      <th>plant</th>\n",
       "      <th>planning</th>\n",
       "      <th>plan</th>\n",
       "      <th>pilot project</th>\n",
       "      <th>photovoltaique</th>\n",
       "      <th>...</th>\n",
       "      <th>energy projects</th>\n",
       "      <th>energy project</th>\n",
       "      <th>energy programme</th>\n",
       "      <th>energy program</th>\n",
       "      <th>energy production</th>\n",
       "      <th>energy generation</th>\n",
       "      <th>energy fund</th>\n",
       "      <th>energy environment</th>\n",
       "      <th>energy energy</th>\n",
       "      <th>wind project</th>\n",
       "    </tr>\n",
       "  </thead>\n",
       "  <tbody>\n",
       "    <tr>\n",
       "      <td>0</td>\n",
       "      <td>0.585452</td>\n",
       "      <td>0.481332</td>\n",
       "      <td>0.446561</td>\n",
       "      <td>0.384796</td>\n",
       "      <td>0.279431</td>\n",
       "      <td>0.0</td>\n",
       "      <td>0.0</td>\n",
       "      <td>0.0</td>\n",
       "      <td>0.0</td>\n",
       "      <td>0.0</td>\n",
       "      <td>...</td>\n",
       "      <td>0.0</td>\n",
       "      <td>0.000000</td>\n",
       "      <td>0.0</td>\n",
       "      <td>0.0</td>\n",
       "      <td>0.0</td>\n",
       "      <td>0.0</td>\n",
       "      <td>0.0</td>\n",
       "      <td>0.0</td>\n",
       "      <td>0.0</td>\n",
       "      <td>0.0</td>\n",
       "    </tr>\n",
       "    <tr>\n",
       "      <td>1</td>\n",
       "      <td>0.585452</td>\n",
       "      <td>0.481332</td>\n",
       "      <td>0.446561</td>\n",
       "      <td>0.384796</td>\n",
       "      <td>0.279431</td>\n",
       "      <td>0.0</td>\n",
       "      <td>0.0</td>\n",
       "      <td>0.0</td>\n",
       "      <td>0.0</td>\n",
       "      <td>0.0</td>\n",
       "      <td>...</td>\n",
       "      <td>0.0</td>\n",
       "      <td>0.000000</td>\n",
       "      <td>0.0</td>\n",
       "      <td>0.0</td>\n",
       "      <td>0.0</td>\n",
       "      <td>0.0</td>\n",
       "      <td>0.0</td>\n",
       "      <td>0.0</td>\n",
       "      <td>0.0</td>\n",
       "      <td>0.0</td>\n",
       "    </tr>\n",
       "    <tr>\n",
       "      <td>2</td>\n",
       "      <td>0.000000</td>\n",
       "      <td>0.000000</td>\n",
       "      <td>0.000000</td>\n",
       "      <td>0.000000</td>\n",
       "      <td>0.000000</td>\n",
       "      <td>0.0</td>\n",
       "      <td>0.0</td>\n",
       "      <td>0.0</td>\n",
       "      <td>0.0</td>\n",
       "      <td>0.0</td>\n",
       "      <td>...</td>\n",
       "      <td>0.0</td>\n",
       "      <td>0.662306</td>\n",
       "      <td>0.0</td>\n",
       "      <td>0.0</td>\n",
       "      <td>0.0</td>\n",
       "      <td>0.0</td>\n",
       "      <td>0.0</td>\n",
       "      <td>0.0</td>\n",
       "      <td>0.0</td>\n",
       "      <td>0.0</td>\n",
       "    </tr>\n",
       "    <tr>\n",
       "      <td>3</td>\n",
       "      <td>0.000000</td>\n",
       "      <td>0.000000</td>\n",
       "      <td>0.000000</td>\n",
       "      <td>0.000000</td>\n",
       "      <td>0.269228</td>\n",
       "      <td>0.0</td>\n",
       "      <td>0.0</td>\n",
       "      <td>0.0</td>\n",
       "      <td>0.0</td>\n",
       "      <td>0.0</td>\n",
       "      <td>...</td>\n",
       "      <td>0.0</td>\n",
       "      <td>0.000000</td>\n",
       "      <td>0.0</td>\n",
       "      <td>0.0</td>\n",
       "      <td>0.0</td>\n",
       "      <td>0.0</td>\n",
       "      <td>0.0</td>\n",
       "      <td>0.0</td>\n",
       "      <td>0.0</td>\n",
       "      <td>0.0</td>\n",
       "    </tr>\n",
       "    <tr>\n",
       "      <td>4</td>\n",
       "      <td>0.000000</td>\n",
       "      <td>0.000000</td>\n",
       "      <td>0.000000</td>\n",
       "      <td>0.000000</td>\n",
       "      <td>0.000000</td>\n",
       "      <td>0.0</td>\n",
       "      <td>0.0</td>\n",
       "      <td>0.0</td>\n",
       "      <td>0.0</td>\n",
       "      <td>0.0</td>\n",
       "      <td>...</td>\n",
       "      <td>0.0</td>\n",
       "      <td>0.000000</td>\n",
       "      <td>0.0</td>\n",
       "      <td>0.0</td>\n",
       "      <td>0.0</td>\n",
       "      <td>0.0</td>\n",
       "      <td>0.0</td>\n",
       "      <td>0.0</td>\n",
       "      <td>0.0</td>\n",
       "      <td>0.0</td>\n",
       "    </tr>\n",
       "    <tr>\n",
       "      <td>...</td>\n",
       "      <td>...</td>\n",
       "      <td>...</td>\n",
       "      <td>...</td>\n",
       "      <td>...</td>\n",
       "      <td>...</td>\n",
       "      <td>...</td>\n",
       "      <td>...</td>\n",
       "      <td>...</td>\n",
       "      <td>...</td>\n",
       "      <td>...</td>\n",
       "      <td>...</td>\n",
       "      <td>...</td>\n",
       "      <td>...</td>\n",
       "      <td>...</td>\n",
       "      <td>...</td>\n",
       "      <td>...</td>\n",
       "      <td>...</td>\n",
       "      <td>...</td>\n",
       "      <td>...</td>\n",
       "      <td>...</td>\n",
       "      <td>...</td>\n",
       "    </tr>\n",
       "    <tr>\n",
       "      <td>9270</td>\n",
       "      <td>0.000000</td>\n",
       "      <td>0.000000</td>\n",
       "      <td>0.000000</td>\n",
       "      <td>0.000000</td>\n",
       "      <td>0.000000</td>\n",
       "      <td>0.0</td>\n",
       "      <td>0.0</td>\n",
       "      <td>0.0</td>\n",
       "      <td>0.0</td>\n",
       "      <td>0.0</td>\n",
       "      <td>...</td>\n",
       "      <td>0.0</td>\n",
       "      <td>0.000000</td>\n",
       "      <td>0.0</td>\n",
       "      <td>0.0</td>\n",
       "      <td>0.0</td>\n",
       "      <td>0.0</td>\n",
       "      <td>0.0</td>\n",
       "      <td>0.0</td>\n",
       "      <td>0.0</td>\n",
       "      <td>0.0</td>\n",
       "    </tr>\n",
       "    <tr>\n",
       "      <td>9271</td>\n",
       "      <td>0.000000</td>\n",
       "      <td>0.000000</td>\n",
       "      <td>0.000000</td>\n",
       "      <td>0.000000</td>\n",
       "      <td>0.000000</td>\n",
       "      <td>0.0</td>\n",
       "      <td>0.0</td>\n",
       "      <td>0.0</td>\n",
       "      <td>0.0</td>\n",
       "      <td>0.0</td>\n",
       "      <td>...</td>\n",
       "      <td>0.0</td>\n",
       "      <td>0.000000</td>\n",
       "      <td>0.0</td>\n",
       "      <td>0.0</td>\n",
       "      <td>0.0</td>\n",
       "      <td>0.0</td>\n",
       "      <td>0.0</td>\n",
       "      <td>0.0</td>\n",
       "      <td>0.0</td>\n",
       "      <td>0.0</td>\n",
       "    </tr>\n",
       "    <tr>\n",
       "      <td>9272</td>\n",
       "      <td>0.000000</td>\n",
       "      <td>0.000000</td>\n",
       "      <td>0.000000</td>\n",
       "      <td>0.000000</td>\n",
       "      <td>0.000000</td>\n",
       "      <td>0.0</td>\n",
       "      <td>0.0</td>\n",
       "      <td>0.0</td>\n",
       "      <td>0.0</td>\n",
       "      <td>0.0</td>\n",
       "      <td>...</td>\n",
       "      <td>0.0</td>\n",
       "      <td>0.000000</td>\n",
       "      <td>0.0</td>\n",
       "      <td>0.0</td>\n",
       "      <td>0.0</td>\n",
       "      <td>0.0</td>\n",
       "      <td>0.0</td>\n",
       "      <td>0.0</td>\n",
       "      <td>0.0</td>\n",
       "      <td>0.0</td>\n",
       "    </tr>\n",
       "    <tr>\n",
       "      <td>9273</td>\n",
       "      <td>0.000000</td>\n",
       "      <td>0.000000</td>\n",
       "      <td>0.000000</td>\n",
       "      <td>0.000000</td>\n",
       "      <td>0.000000</td>\n",
       "      <td>0.0</td>\n",
       "      <td>0.0</td>\n",
       "      <td>0.0</td>\n",
       "      <td>0.0</td>\n",
       "      <td>0.0</td>\n",
       "      <td>...</td>\n",
       "      <td>0.0</td>\n",
       "      <td>0.000000</td>\n",
       "      <td>0.0</td>\n",
       "      <td>0.0</td>\n",
       "      <td>0.0</td>\n",
       "      <td>0.0</td>\n",
       "      <td>0.0</td>\n",
       "      <td>0.0</td>\n",
       "      <td>0.0</td>\n",
       "      <td>0.0</td>\n",
       "    </tr>\n",
       "    <tr>\n",
       "      <td>9274</td>\n",
       "      <td>0.000000</td>\n",
       "      <td>0.000000</td>\n",
       "      <td>0.000000</td>\n",
       "      <td>0.000000</td>\n",
       "      <td>0.000000</td>\n",
       "      <td>0.0</td>\n",
       "      <td>0.0</td>\n",
       "      <td>0.0</td>\n",
       "      <td>0.0</td>\n",
       "      <td>0.0</td>\n",
       "      <td>...</td>\n",
       "      <td>0.0</td>\n",
       "      <td>0.000000</td>\n",
       "      <td>0.0</td>\n",
       "      <td>0.0</td>\n",
       "      <td>0.0</td>\n",
       "      <td>0.0</td>\n",
       "      <td>0.0</td>\n",
       "      <td>0.0</td>\n",
       "      <td>0.0</td>\n",
       "      <td>0.0</td>\n",
       "    </tr>\n",
       "  </tbody>\n",
       "</table>\n",
       "<p>9275 rows × 500 columns</p>\n",
       "</div>"
      ],
      "text/plain": [
       "      micro hydro     micro  hydro power     hydro     power  plant  planning  \\\n",
       "0        0.585452  0.481332     0.446561  0.384796  0.279431    0.0       0.0   \n",
       "1        0.585452  0.481332     0.446561  0.384796  0.279431    0.0       0.0   \n",
       "2        0.000000  0.000000     0.000000  0.000000  0.000000    0.0       0.0   \n",
       "3        0.000000  0.000000     0.000000  0.000000  0.269228    0.0       0.0   \n",
       "4        0.000000  0.000000     0.000000  0.000000  0.000000    0.0       0.0   \n",
       "...           ...       ...          ...       ...       ...    ...       ...   \n",
       "9270     0.000000  0.000000     0.000000  0.000000  0.000000    0.0       0.0   \n",
       "9271     0.000000  0.000000     0.000000  0.000000  0.000000    0.0       0.0   \n",
       "9272     0.000000  0.000000     0.000000  0.000000  0.000000    0.0       0.0   \n",
       "9273     0.000000  0.000000     0.000000  0.000000  0.000000    0.0       0.0   \n",
       "9274     0.000000  0.000000     0.000000  0.000000  0.000000    0.0       0.0   \n",
       "\n",
       "      plan  pilot project  photovoltaique  ...  energy projects  \\\n",
       "0      0.0            0.0             0.0  ...              0.0   \n",
       "1      0.0            0.0             0.0  ...              0.0   \n",
       "2      0.0            0.0             0.0  ...              0.0   \n",
       "3      0.0            0.0             0.0  ...              0.0   \n",
       "4      0.0            0.0             0.0  ...              0.0   \n",
       "...    ...            ...             ...  ...              ...   \n",
       "9270   0.0            0.0             0.0  ...              0.0   \n",
       "9271   0.0            0.0             0.0  ...              0.0   \n",
       "9272   0.0            0.0             0.0  ...              0.0   \n",
       "9273   0.0            0.0             0.0  ...              0.0   \n",
       "9274   0.0            0.0             0.0  ...              0.0   \n",
       "\n",
       "      energy project  energy programme  energy program  energy production  \\\n",
       "0           0.000000               0.0             0.0                0.0   \n",
       "1           0.000000               0.0             0.0                0.0   \n",
       "2           0.662306               0.0             0.0                0.0   \n",
       "3           0.000000               0.0             0.0                0.0   \n",
       "4           0.000000               0.0             0.0                0.0   \n",
       "...              ...               ...             ...                ...   \n",
       "9270        0.000000               0.0             0.0                0.0   \n",
       "9271        0.000000               0.0             0.0                0.0   \n",
       "9272        0.000000               0.0             0.0                0.0   \n",
       "9273        0.000000               0.0             0.0                0.0   \n",
       "9274        0.000000               0.0             0.0                0.0   \n",
       "\n",
       "      energy generation  energy fund  energy environment  energy energy  \\\n",
       "0                   0.0          0.0                 0.0            0.0   \n",
       "1                   0.0          0.0                 0.0            0.0   \n",
       "2                   0.0          0.0                 0.0            0.0   \n",
       "3                   0.0          0.0                 0.0            0.0   \n",
       "4                   0.0          0.0                 0.0            0.0   \n",
       "...                 ...          ...                 ...            ...   \n",
       "9270                0.0          0.0                 0.0            0.0   \n",
       "9271                0.0          0.0                 0.0            0.0   \n",
       "9272                0.0          0.0                 0.0            0.0   \n",
       "9273                0.0          0.0                 0.0            0.0   \n",
       "9274                0.0          0.0                 0.0            0.0   \n",
       "\n",
       "      wind project  \n",
       "0              0.0  \n",
       "1              0.0  \n",
       "2              0.0  \n",
       "3              0.0  \n",
       "4              0.0  \n",
       "...            ...  \n",
       "9270           0.0  \n",
       "9271           0.0  \n",
       "9272           0.0  \n",
       "9273           0.0  \n",
       "9274           0.0  \n",
       "\n",
       "[9275 rows x 500 columns]"
      ]
     },
     "execution_count": 19,
     "metadata": {},
     "output_type": "execute_result"
    }
   ],
   "source": [
    "\n",
    "text_pj = irena_t.Project\n",
    "text_tech = irena_t.Technology\n",
    "\n",
    "tvec = TfidfVectorizer(stop_words='english', max_features = 500, ngram_range=(1, 2), strip_accents='unicode')\n",
    "\n",
    "tvec.fit(text_pj)\n",
    "\n",
    "text_csr1 = tvec.transform(text_pj)\n",
    "\n",
    "pjtext_df = pd.DataFrame(text_csr1.todense(),\n",
    "                  columns=tvec.get_feature_names())\n",
    "pjtext_df.transpose().sort_values(0, ascending=False).transpose()\n",
    "#Play around w/ max_features + min/max_df\n"
   ]
  }
 ],
 "metadata": {
  "kernelspec": {
   "display_name": "Python 3",
   "language": "python",
   "name": "python3"
  },
  "language_info": {
   "codemirror_mode": {
    "name": "ipython",
    "version": 3
   },
   "file_extension": ".py",
   "mimetype": "text/x-python",
   "name": "python",
   "nbconvert_exporter": "python",
   "pygments_lexer": "ipython3",
   "version": "3.7.4"
  },
  "toc": {
   "base_numbering": 1,
   "nav_menu": {},
   "number_sections": true,
   "sideBar": true,
   "skip_h1_title": false,
   "title_cell": "Table of Contents",
   "title_sidebar": "Contents",
   "toc_cell": false,
   "toc_position": {},
   "toc_section_display": true,
   "toc_window_display": false
  }
 },
 "nbformat": 4,
 "nbformat_minor": 2
}
