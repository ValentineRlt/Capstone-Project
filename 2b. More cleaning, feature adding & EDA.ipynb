{
 "cells": [
  {
   "cell_type": "markdown",
   "metadata": {},
   "source": [
    "# EDA on WB & IRENA merged dataframe"
   ]
  },
  {
   "cell_type": "code",
   "execution_count": 3,
   "metadata": {
    "ExecuteTime": {
     "end_time": "2020-05-30T18:45:28.159661Z",
     "start_time": "2020-05-30T18:45:27.060833Z"
    }
   },
   "outputs": [],
   "source": [
    "import pandas as pd\n",
    "import numpy as np\n",
    "import seaborn as sns\n",
    "import matplotlib.pyplot as plt"
   ]
  },
  {
   "cell_type": "markdown",
   "metadata": {},
   "source": [
    "Uploading main energy dataframe:"
   ]
  },
  {
   "cell_type": "code",
   "execution_count": 5,
   "metadata": {
    "ExecuteTime": {
     "end_time": "2020-05-30T18:46:24.081342Z",
     "start_time": "2020-05-30T18:46:24.025917Z"
    }
   },
   "outputs": [],
   "source": [
    "df = pd.read_csv('/Users/valentinereltien/Desktop/Capstone Project/Energy_df2.csv')"
   ]
  },
  {
   "cell_type": "code",
   "execution_count": 6,
   "metadata": {
    "ExecuteTime": {
     "end_time": "2020-05-30T18:46:27.050725Z",
     "start_time": "2020-05-30T18:46:27.041188Z"
    }
   },
   "outputs": [
    {
     "data": {
      "text/plain": [
       "Index(['Country', 'Project', 'Date', 'Investor', 'Technology', 'Asset Class',\n",
       "       'Invested_USDM', 'Source', 'gdp_g_anpc', 'AdjSav_pcGNI', 'gni_g_anpc',\n",
       "       'AdjSav_Engdep_usd', 'AdjSav_CO2dmg_usd', 'AdjSav_Ptcldmg_pcGNI',\n",
       "       'Pvt_inv_USDM', 'Unemp_pcLF', 'CO2ems_mTpCpt'],\n",
       "      dtype='object')"
      ]
     },
     "execution_count": 6,
     "metadata": {},
     "output_type": "execute_result"
    }
   ],
   "source": [
    "df.columns"
   ]
  },
  {
   "cell_type": "code",
   "execution_count": 7,
   "metadata": {
    "ExecuteTime": {
     "end_time": "2020-05-30T18:46:27.280786Z",
     "start_time": "2020-05-30T18:46:27.275303Z"
    }
   },
   "outputs": [
    {
     "data": {
      "text/plain": [
       "(7178, 17)"
      ]
     },
     "execution_count": 7,
     "metadata": {},
     "output_type": "execute_result"
    }
   ],
   "source": [
    "df.shape"
   ]
  },
  {
   "cell_type": "markdown",
   "metadata": {},
   "source": [
    "Adding the Adjusted Savings feature given as US dollars vs % of GNI as they presently figure. It occurred to me leaving them as such might cause too much correlation within the df."
   ]
  },
  {
   "cell_type": "code",
   "execution_count": 8,
   "metadata": {
    "ExecuteTime": {
     "end_time": "2020-05-30T18:46:34.454849Z",
     "start_time": "2020-05-30T18:46:34.433318Z"
    }
   },
   "outputs": [
    {
     "data": {
      "text/html": [
       "<div>\n",
       "<style scoped>\n",
       "    .dataframe tbody tr th:only-of-type {\n",
       "        vertical-align: middle;\n",
       "    }\n",
       "\n",
       "    .dataframe tbody tr th {\n",
       "        vertical-align: top;\n",
       "    }\n",
       "\n",
       "    .dataframe thead th {\n",
       "        text-align: right;\n",
       "    }\n",
       "</style>\n",
       "<table border=\"1\" class=\"dataframe\">\n",
       "  <thead>\n",
       "    <tr style=\"text-align: right;\">\n",
       "      <th></th>\n",
       "      <th>Country</th>\n",
       "      <th>Date</th>\n",
       "      <th>Adjusted savings: net national savings (current US$)</th>\n",
       "    </tr>\n",
       "  </thead>\n",
       "  <tbody>\n",
       "    <tr>\n",
       "      <td>0</td>\n",
       "      <td>Afghanistan</td>\n",
       "      <td>2009-01-01</td>\n",
       "      <td>-1822609495.08428</td>\n",
       "    </tr>\n",
       "    <tr>\n",
       "      <td>1</td>\n",
       "      <td>Afghanistan</td>\n",
       "      <td>2010-01-01</td>\n",
       "      <td>-2368530527.05617</td>\n",
       "    </tr>\n",
       "    <tr>\n",
       "      <td>2</td>\n",
       "      <td>Afghanistan</td>\n",
       "      <td>2011-01-01</td>\n",
       "      <td>-1956679871.5834</td>\n",
       "    </tr>\n",
       "    <tr>\n",
       "      <td>3</td>\n",
       "      <td>Afghanistan</td>\n",
       "      <td>2012-01-01</td>\n",
       "      <td>-194013007.599192</td>\n",
       "    </tr>\n",
       "    <tr>\n",
       "      <td>4</td>\n",
       "      <td>Afghanistan</td>\n",
       "      <td>2013-01-01</td>\n",
       "      <td>1310040622.78426</td>\n",
       "    </tr>\n",
       "  </tbody>\n",
       "</table>\n",
       "</div>"
      ],
      "text/plain": [
       "       Country        Date  \\\n",
       "0  Afghanistan  2009-01-01   \n",
       "1  Afghanistan  2010-01-01   \n",
       "2  Afghanistan  2011-01-01   \n",
       "3  Afghanistan  2012-01-01   \n",
       "4  Afghanistan  2013-01-01   \n",
       "\n",
       "  Adjusted savings: net national savings (current US$)  \n",
       "0                                  -1822609495.08428    \n",
       "1                                  -2368530527.05617    \n",
       "2                                   -1956679871.5834    \n",
       "3                                  -194013007.599192    \n",
       "4                                   1310040622.78426    "
      ]
     },
     "execution_count": 8,
     "metadata": {},
     "output_type": "execute_result"
    }
   ],
   "source": [
    "Adjsavs_usd = pd.read_csv('/Users/valentinereltien/Desktop/IRENA/Wb_adjsavusd.csv')\n",
    "Adjsavs_usd.head()"
   ]
  },
  {
   "cell_type": "code",
   "execution_count": 9,
   "metadata": {
    "ExecuteTime": {
     "end_time": "2020-05-30T18:46:35.380606Z",
     "start_time": "2020-05-30T18:46:35.363914Z"
    }
   },
   "outputs": [],
   "source": [
    "Adjsavs_usd.rename(columns = {'Adjusted savings: net national savings (current US$)': 'AdjNetNatSv_usd'}, inplace=True)\n",
    "df2 = pd.merge(df, Adjsavs_usd, on = ['Country', 'Date'], how = 'left')"
   ]
  },
  {
   "cell_type": "code",
   "execution_count": 10,
   "metadata": {
    "ExecuteTime": {
     "end_time": "2020-05-30T18:46:35.863511Z",
     "start_time": "2020-05-30T18:46:35.854085Z"
    }
   },
   "outputs": [
    {
     "data": {
      "text/plain": [
       "Index(['Country', 'Project', 'Date', 'Investor', 'Technology', 'Asset Class',\n",
       "       'Invested_USDM', 'Source', 'gdp_g_anpc', 'AdjSav_pcGNI', 'gni_g_anpc',\n",
       "       'AdjSav_Engdep_usd', 'AdjSav_CO2dmg_usd', 'AdjSav_Ptcldmg_pcGNI',\n",
       "       'Pvt_inv_USDM', 'Unemp_pcLF', 'CO2ems_mTpCpt', 'AdjNetNatSv_usd'],\n",
       "      dtype='object')"
      ]
     },
     "execution_count": 10,
     "metadata": {},
     "output_type": "execute_result"
    }
   ],
   "source": [
    "df2.columns"
   ]
  },
  {
   "cell_type": "markdown",
   "metadata": {},
   "source": [
    "Checking null values in order to clean the now complete dataframe:"
   ]
  },
  {
   "cell_type": "code",
   "execution_count": 11,
   "metadata": {
    "ExecuteTime": {
     "end_time": "2020-05-30T18:46:37.930693Z",
     "start_time": "2020-05-30T18:46:37.909548Z"
    }
   },
   "outputs": [
    {
     "data": {
      "text/plain": [
       "Country                    0\n",
       "Project                    0\n",
       "Date                       0\n",
       "Investor                   0\n",
       "Technology                 0\n",
       "Asset Class                0\n",
       "Invested_USDM              0\n",
       "Source                     0\n",
       "gdp_g_anpc                 0\n",
       "AdjSav_pcGNI             574\n",
       "gni_g_anpc               665\n",
       "AdjSav_Engdep_usd         28\n",
       "AdjSav_CO2dmg_usd         46\n",
       "AdjSav_Ptcldmg_pcGNI     113\n",
       "Pvt_inv_USDM            3357\n",
       "Unemp_pcLF                62\n",
       "CO2ems_mTpCpt           2399\n",
       "AdjNetNatSv_usd          576\n",
       "dtype: int64"
      ]
     },
     "execution_count": 11,
     "metadata": {},
     "output_type": "execute_result"
    }
   ],
   "source": [
    "df2.isnull().sum()\n"
   ]
  },
  {
   "cell_type": "markdown",
   "metadata": {},
   "source": [
    "Transforming columns values into float to ready for the below imputing loop covering missing features: "
   ]
  },
  {
   "cell_type": "code",
   "execution_count": 12,
   "metadata": {
    "ExecuteTime": {
     "end_time": "2020-05-30T18:46:39.484074Z",
     "start_time": "2020-05-30T18:46:39.473562Z"
    }
   },
   "outputs": [],
   "source": [
    "df2.AdjNetNatSv_usd = df2.AdjNetNatSv_usd.map(lambda x: float(x))"
   ]
  },
  {
   "cell_type": "code",
   "execution_count": 13,
   "metadata": {
    "ExecuteTime": {
     "end_time": "2020-05-30T18:46:40.684007Z",
     "start_time": "2020-05-30T18:46:40.057691Z"
    }
   },
   "outputs": [
    {
     "name": "stdout",
     "output_type": "stream",
     "text": [
      "0 gni_g_anpc\n",
      "1 AdjSav_Engdep_usd\n",
      "2 AdjSav_CO2dmg_usd\n",
      "3 AdjSav_Ptcldmg_pcGNI\n",
      "4 Pvt_inv_USDM\n",
      "5 Unemp_pcLF\n",
      "6 CO2ems_mTpCpt\n",
      "7 AdjNetNatSv_usd\n"
     ]
    }
   ],
   "source": [
    "for ind, col in enumerate(df2.loc[:,'gni_g_anpc':]):\n",
    "    print(ind, col)\n",
    "    df2.groupby('Country')[col].transform(lambda x: x.fillna(x.mean()))"
   ]
  },
  {
   "cell_type": "markdown",
   "metadata": {},
   "source": [
    "Saving as csv for future re-use:"
   ]
  },
  {
   "cell_type": "code",
   "execution_count": 14,
   "metadata": {
    "ExecuteTime": {
     "end_time": "2020-05-30T18:46:42.234420Z",
     "start_time": "2020-05-30T18:46:42.040429Z"
    }
   },
   "outputs": [],
   "source": [
    "df2.to_csv('CSdf_3.csv', index=False)"
   ]
  },
  {
   "cell_type": "markdown",
   "metadata": {},
   "source": [
    "Splitting frame into predictors and target to start basic EDA: "
   ]
  },
  {
   "cell_type": "code",
   "execution_count": 30,
   "metadata": {
    "ExecuteTime": {
     "end_time": "2020-05-30T18:56:19.436904Z",
     "start_time": "2020-05-30T18:56:19.429300Z"
    }
   },
   "outputs": [],
   "source": [
    "X = df.copy()"
   ]
  },
  {
   "cell_type": "code",
   "execution_count": 31,
   "metadata": {
    "ExecuteTime": {
     "end_time": "2020-05-30T18:56:19.878731Z",
     "start_time": "2020-05-30T18:56:19.869882Z"
    }
   },
   "outputs": [],
   "source": [
    "y = X.pop('Invested_USDM')"
   ]
  },
  {
   "cell_type": "code",
   "execution_count": 32,
   "metadata": {
    "ExecuteTime": {
     "end_time": "2020-05-30T18:56:20.180337Z",
     "start_time": "2020-05-30T18:56:20.166704Z"
    }
   },
   "outputs": [
    {
     "data": {
      "text/plain": [
       "0.1000     28\n",
       "0.1024     23\n",
       "0.0112     19\n",
       "0.0111     17\n",
       "0.0034     16\n",
       "           ..\n",
       "0.7062      1\n",
       "6.8442      1\n",
       "30.4233     1\n",
       "0.8073      1\n",
       "1.2163      1\n",
       "Name: Invested_USDM, Length: 4940, dtype: int64"
      ]
     },
     "execution_count": 32,
     "metadata": {},
     "output_type": "execute_result"
    }
   ],
   "source": [
    "y.value_counts()"
   ]
  },
  {
   "cell_type": "markdown",
   "metadata": {
    "ExecuteTime": {
     "end_time": "2020-05-30T18:44:15.247826Z",
     "start_time": "2020-05-30T18:44:15.240455Z"
    }
   },
   "source": [
    "Using Groupby for initial investigation. \n",
    "First, figuring which countries are most likely to receive funding:"
   ]
  },
  {
   "cell_type": "code",
   "execution_count": 33,
   "metadata": {
    "ExecuteTime": {
     "end_time": "2020-05-30T18:56:20.742802Z",
     "start_time": "2020-05-30T18:56:20.727228Z"
    }
   },
   "outputs": [
    {
     "data": {
      "text/html": [
       "<div>\n",
       "<style scoped>\n",
       "    .dataframe tbody tr th:only-of-type {\n",
       "        vertical-align: middle;\n",
       "    }\n",
       "\n",
       "    .dataframe tbody tr th {\n",
       "        vertical-align: top;\n",
       "    }\n",
       "\n",
       "    .dataframe thead th {\n",
       "        text-align: right;\n",
       "    }\n",
       "</style>\n",
       "<table border=\"1\" class=\"dataframe\">\n",
       "  <thead>\n",
       "    <tr style=\"text-align: right;\">\n",
       "      <th></th>\n",
       "      <th>Invested_USDM</th>\n",
       "    </tr>\n",
       "    <tr>\n",
       "      <th>Country</th>\n",
       "      <th></th>\n",
       "    </tr>\n",
       "  </thead>\n",
       "  <tbody>\n",
       "    <tr>\n",
       "      <td>Brazil</td>\n",
       "      <td>779</td>\n",
       "    </tr>\n",
       "    <tr>\n",
       "      <td>India</td>\n",
       "      <td>383</td>\n",
       "    </tr>\n",
       "    <tr>\n",
       "      <td>China</td>\n",
       "      <td>240</td>\n",
       "    </tr>\n",
       "    <tr>\n",
       "      <td>Indonesia</td>\n",
       "      <td>181</td>\n",
       "    </tr>\n",
       "    <tr>\n",
       "      <td>Kenya</td>\n",
       "      <td>175</td>\n",
       "    </tr>\n",
       "    <tr>\n",
       "      <td>...</td>\n",
       "      <td>...</td>\n",
       "    </tr>\n",
       "    <tr>\n",
       "      <td>Eswatini</td>\n",
       "      <td>2</td>\n",
       "    </tr>\n",
       "    <tr>\n",
       "      <td>Cyprus</td>\n",
       "      <td>1</td>\n",
       "    </tr>\n",
       "    <tr>\n",
       "      <td>Lithuania</td>\n",
       "      <td>1</td>\n",
       "    </tr>\n",
       "    <tr>\n",
       "      <td>Canada</td>\n",
       "      <td>1</td>\n",
       "    </tr>\n",
       "    <tr>\n",
       "      <td>Malta</td>\n",
       "      <td>1</td>\n",
       "    </tr>\n",
       "  </tbody>\n",
       "</table>\n",
       "<p>136 rows × 1 columns</p>\n",
       "</div>"
      ],
      "text/plain": [
       "           Invested_USDM\n",
       "Country                 \n",
       "Brazil               779\n",
       "India                383\n",
       "China                240\n",
       "Indonesia            181\n",
       "Kenya                175\n",
       "...                  ...\n",
       "Eswatini               2\n",
       "Cyprus                 1\n",
       "Lithuania              1\n",
       "Canada                 1\n",
       "Malta                  1\n",
       "\n",
       "[136 rows x 1 columns]"
      ]
     },
     "execution_count": 33,
     "metadata": {},
     "output_type": "execute_result"
    }
   ],
   "source": [
    "df.groupby('Country')[['Invested_USDM']].count().sort_values(by='Invested_USDM', ascending=False)"
   ]
  },
  {
   "cell_type": "markdown",
   "metadata": {},
   "source": [
    "Which technologies receive most funding: "
   ]
  },
  {
   "cell_type": "code",
   "execution_count": 34,
   "metadata": {
    "ExecuteTime": {
     "end_time": "2020-05-30T18:56:21.312135Z",
     "start_time": "2020-05-30T18:56:21.300391Z"
    }
   },
   "outputs": [
    {
     "data": {
      "text/html": [
       "<div>\n",
       "<style scoped>\n",
       "    .dataframe tbody tr th:only-of-type {\n",
       "        vertical-align: middle;\n",
       "    }\n",
       "\n",
       "    .dataframe tbody tr th {\n",
       "        vertical-align: top;\n",
       "    }\n",
       "\n",
       "    .dataframe thead th {\n",
       "        text-align: right;\n",
       "    }\n",
       "</style>\n",
       "<table border=\"1\" class=\"dataframe\">\n",
       "  <thead>\n",
       "    <tr style=\"text-align: right;\">\n",
       "      <th></th>\n",
       "      <th>Invested_USDM</th>\n",
       "    </tr>\n",
       "    <tr>\n",
       "      <th>Technology</th>\n",
       "      <th></th>\n",
       "    </tr>\n",
       "  </thead>\n",
       "  <tbody>\n",
       "    <tr>\n",
       "      <td>Multiple renewables*</td>\n",
       "      <td>2741</td>\n",
       "    </tr>\n",
       "    <tr>\n",
       "      <td>Solar energy</td>\n",
       "      <td>1590</td>\n",
       "    </tr>\n",
       "    <tr>\n",
       "      <td>Renewable Hydropower</td>\n",
       "      <td>1084</td>\n",
       "    </tr>\n",
       "    <tr>\n",
       "      <td>Wind energy</td>\n",
       "      <td>857</td>\n",
       "    </tr>\n",
       "    <tr>\n",
       "      <td>Bioenergy</td>\n",
       "      <td>634</td>\n",
       "    </tr>\n",
       "    <tr>\n",
       "      <td>Geothermal energy</td>\n",
       "      <td>206</td>\n",
       "    </tr>\n",
       "    <tr>\n",
       "      <td>Other renewable energy</td>\n",
       "      <td>56</td>\n",
       "    </tr>\n",
       "    <tr>\n",
       "      <td>Marine energy</td>\n",
       "      <td>10</td>\n",
       "    </tr>\n",
       "  </tbody>\n",
       "</table>\n",
       "</div>"
      ],
      "text/plain": [
       "                        Invested_USDM\n",
       "Technology                           \n",
       "Multiple renewables*             2741\n",
       "Solar energy                     1590\n",
       "Renewable Hydropower             1084\n",
       "Wind energy                       857\n",
       "Bioenergy                         634\n",
       "Geothermal energy                 206\n",
       "Other renewable energy             56\n",
       "Marine energy                      10"
      ]
     },
     "execution_count": 34,
     "metadata": {},
     "output_type": "execute_result"
    }
   ],
   "source": [
    "df.groupby('Technology')[['Invested_USDM']].count().sort_values(by='Invested_USDM', ascending=False)"
   ]
  },
  {
   "cell_type": "code",
   "execution_count": 35,
   "metadata": {
    "ExecuteTime": {
     "end_time": "2020-05-30T18:56:21.665936Z",
     "start_time": "2020-05-30T18:56:21.654592Z"
    }
   },
   "outputs": [],
   "source": [
    "df.Invested_USDM.value_counts().normalize=True"
   ]
  },
  {
   "cell_type": "markdown",
   "metadata": {},
   "source": [
    "Visualizing the relationship between Adjusted Savings based on which emission the measure includes:"
   ]
  },
  {
   "cell_type": "code",
   "execution_count": 11,
   "metadata": {
    "ExecuteTime": {
     "end_time": "2020-05-06T15:50:32.188979Z",
     "start_time": "2020-05-06T15:50:30.000110Z"
    }
   },
   "outputs": [
    {
     "data": {
      "image/png": "[encoded data removed]",
      "text/plain": [
       "<Figure size 720x576 with 9 Axes>"
      ]
     },
     "metadata": {
      "needs_background": "light"
     },
     "output_type": "display_data"
    }
   ],
   "source": [
    "pd.plotting.scatter_matrix(X[['AdjSav_Engdep_usd', 'AdjSav_CO2dmg_usd', 'AdjSav_Ptcldmg_pcGNI']], figsize=(10, 8));"
   ]
  },
  {
   "cell_type": "code",
   "execution_count": 36,
   "metadata": {
    "ExecuteTime": {
     "end_time": "2020-05-30T18:56:25.918780Z",
     "start_time": "2020-05-30T18:56:25.908321Z"
    }
   },
   "outputs": [
    {
     "data": {
      "text/plain": [
       "Country                    0\n",
       "Project                    0\n",
       "Date                       0\n",
       "Investor                   0\n",
       "Technology                 0\n",
       "Asset Class                0\n",
       "Source                     0\n",
       "gdp_g_anpc                 0\n",
       "AdjSav_pcGNI             574\n",
       "gni_g_anpc               665\n",
       "AdjSav_Engdep_usd         28\n",
       "AdjSav_CO2dmg_usd         46\n",
       "AdjSav_Ptcldmg_pcGNI     113\n",
       "Pvt_inv_USDM            3357\n",
       "Unemp_pcLF                62\n",
       "CO2ems_mTpCpt           2399\n",
       "dtype: int64"
      ]
     },
     "execution_count": 36,
     "metadata": {},
     "output_type": "execute_result"
    }
   ],
   "source": [
    "X.isnull().sum()"
   ]
  },
  {
   "cell_type": "code",
   "execution_count": 37,
   "metadata": {
    "ExecuteTime": {
     "end_time": "2020-05-30T18:56:26.122303Z",
     "start_time": "2020-05-30T18:56:26.115675Z"
    }
   },
   "outputs": [
    {
     "data": {
      "text/plain": [
       "1794.5"
      ]
     },
     "execution_count": 37,
     "metadata": {},
     "output_type": "execute_result"
    }
   ],
   "source": [
    "X.shape[0]/4"
   ]
  },
  {
   "cell_type": "markdown",
   "metadata": {},
   "source": [
    "Based on this observation, I decide to drop features with close to a 1/4 missing values:"
   ]
  },
  {
   "cell_type": "code",
   "execution_count": 38,
   "metadata": {
    "ExecuteTime": {
     "end_time": "2020-05-30T18:56:30.586562Z",
     "start_time": "2020-05-30T18:56:30.580875Z"
    }
   },
   "outputs": [],
   "source": [
    "X.drop('Pvt_inv_USDM', axis=1, inplace=True)"
   ]
  },
  {
   "cell_type": "code",
   "execution_count": 39,
   "metadata": {
    "ExecuteTime": {
     "end_time": "2020-05-30T18:56:30.771512Z",
     "start_time": "2020-05-30T18:56:30.760289Z"
    }
   },
   "outputs": [
    {
     "data": {
      "text/plain": [
       "(7178, 15)"
      ]
     },
     "execution_count": 39,
     "metadata": {},
     "output_type": "execute_result"
    }
   ],
   "source": [
    "X.shape"
   ]
  },
  {
   "cell_type": "code",
   "execution_count": 40,
   "metadata": {
    "ExecuteTime": {
     "end_time": "2020-05-30T18:56:30.934087Z",
     "start_time": "2020-05-30T18:56:30.908376Z"
    }
   },
   "outputs": [
    {
     "data": {
      "text/plain": [
       "Country                  object\n",
       "Project                  object\n",
       "Date                     object\n",
       "Investor                 object\n",
       "Technology               object\n",
       "Asset Class              object\n",
       "Source                   object\n",
       "gdp_g_anpc              float64\n",
       "AdjSav_pcGNI            float64\n",
       "gni_g_anpc              float64\n",
       "AdjSav_Engdep_usd       float64\n",
       "AdjSav_CO2dmg_usd       float64\n",
       "AdjSav_Ptcldmg_pcGNI    float64\n",
       "Unemp_pcLF              float64\n",
       "CO2ems_mTpCpt           float64\n",
       "dtype: object"
      ]
     },
     "execution_count": 40,
     "metadata": {},
     "output_type": "execute_result"
    }
   ],
   "source": [
    "X.dtypes"
   ]
  },
  {
   "cell_type": "code",
   "execution_count": 41,
   "metadata": {
    "ExecuteTime": {
     "end_time": "2020-05-30T18:56:31.135113Z",
     "start_time": "2020-05-30T18:56:31.120447Z"
    }
   },
   "outputs": [
    {
     "data": {
      "text/plain": [
       "9"
      ]
     },
     "execution_count": 41,
     "metadata": {},
     "output_type": "execute_result"
    }
   ],
   "source": [
    "X['Asset Class'].nunique()"
   ]
  },
  {
   "cell_type": "code",
   "execution_count": 42,
   "metadata": {
    "ExecuteTime": {
     "end_time": "2020-05-30T18:56:32.973001Z",
     "start_time": "2020-05-30T18:56:32.959767Z"
    }
   },
   "outputs": [
    {
     "data": {
      "text/plain": [
       "Country                    0\n",
       "Project                    0\n",
       "Date                       0\n",
       "Investor                   0\n",
       "Technology                 0\n",
       "Asset Class                0\n",
       "Source                     0\n",
       "gdp_g_anpc                 0\n",
       "AdjSav_pcGNI             574\n",
       "gni_g_anpc               665\n",
       "AdjSav_Engdep_usd         28\n",
       "AdjSav_CO2dmg_usd         46\n",
       "AdjSav_Ptcldmg_pcGNI     113\n",
       "Unemp_pcLF                62\n",
       "CO2ems_mTpCpt           2399\n",
       "dtype: int64"
      ]
     },
     "execution_count": 42,
     "metadata": {},
     "output_type": "execute_result"
    }
   ],
   "source": [
    "X.isnull().sum()"
   ]
  },
  {
   "cell_type": "markdown",
   "metadata": {},
   "source": [
    "Adding the newly measured Adjusted Saving feature (Vs that in % of GNI)"
   ]
  },
  {
   "cell_type": "code",
   "execution_count": 43,
   "metadata": {
    "ExecuteTime": {
     "end_time": "2020-05-30T18:56:35.107636Z",
     "start_time": "2020-05-30T18:56:35.101193Z"
    }
   },
   "outputs": [],
   "source": [
    "Adjsavs_usd.rename(columns = {'Adjusted savings: net national savings (current US$)': 'AdjNetNatSv_usd'}, inplace=True)"
   ]
  },
  {
   "cell_type": "markdown",
   "metadata": {},
   "source": [
    "I first experiment with a dataframe leaving out all missing values:"
   ]
  },
  {
   "cell_type": "code",
   "execution_count": 44,
   "metadata": {
    "ExecuteTime": {
     "end_time": "2020-05-30T18:56:36.091201Z",
     "start_time": "2020-05-30T18:56:36.077239Z"
    }
   },
   "outputs": [],
   "source": [
    "df2_nona = pd.merge(df, Adjsavs_usd, on = ['Country', 'Date'], how = 'left')"
   ]
  },
  {
   "cell_type": "code",
   "execution_count": 45,
   "metadata": {
    "ExecuteTime": {
     "end_time": "2020-05-30T18:56:36.441384Z",
     "start_time": "2020-05-30T18:56:36.430443Z"
    }
   },
   "outputs": [
    {
     "data": {
      "text/plain": [
       "(7178, 18)"
      ]
     },
     "execution_count": 45,
     "metadata": {},
     "output_type": "execute_result"
    }
   ],
   "source": [
    "df2 = df2[df2.Date >= '2000-01-01']\n",
    "df2.shape"
   ]
  },
  {
   "cell_type": "code",
   "execution_count": 46,
   "metadata": {
    "ExecuteTime": {
     "end_time": "2020-05-30T18:56:38.134587Z",
     "start_time": "2020-05-30T18:56:38.119102Z"
    }
   },
   "outputs": [
    {
     "data": {
      "text/plain": [
       "Index(['Country', 'Project', 'Date', 'Investor', 'Technology', 'Asset Class',\n",
       "       'Invested_USDM', 'Source', 'gdp_g_anpc', 'AdjSav_pcGNI', 'gni_g_anpc',\n",
       "       'AdjSav_Engdep_usd', 'AdjSav_CO2dmg_usd', 'AdjSav_Ptcldmg_pcGNI',\n",
       "       'Pvt_inv_USDM', 'Unemp_pcLF', 'CO2ems_mTpCpt', 'AdjNetNatSv_usd'],\n",
       "      dtype='object')"
      ]
     },
     "execution_count": 46,
     "metadata": {},
     "output_type": "execute_result"
    }
   ],
   "source": [
    "df2_nona = df2_nona[df2_nona.Date >= '2000-01-01']\n",
    "df2_nona.shape\n",
    "df2_nona.columns"
   ]
  },
  {
   "cell_type": "markdown",
   "metadata": {},
   "source": [
    "Eventually I decide to start more research with this dataframe:"
   ]
  },
  {
   "cell_type": "code",
   "execution_count": 47,
   "metadata": {
    "ExecuteTime": {
     "end_time": "2020-05-30T18:56:40.052636Z",
     "start_time": "2020-05-30T18:56:40.045643Z"
    }
   },
   "outputs": [],
   "source": [
    "\n",
    "df3 = df2_nona.copy()"
   ]
  },
  {
   "cell_type": "markdown",
   "metadata": {},
   "source": [
    "Explore different classes in several features, enquiring weather I could dummify or encode them for modelling: "
   ]
  },
  {
   "cell_type": "code",
   "execution_count": 48,
   "metadata": {
    "ExecuteTime": {
     "end_time": "2020-05-30T18:56:40.567703Z",
     "start_time": "2020-05-30T18:56:40.557842Z"
    }
   },
   "outputs": [
    {
     "data": {
      "text/plain": [
       "Grant                                       4707\n",
       "Loan                                        1809\n",
       "Other Official Flows (non Export Credit)     494\n",
       "Equity Investment                            104\n",
       "Private Development Finance                   33\n",
       "Insurance                                     13\n",
       "Guarantee                                     10\n",
       "Credit line                                    7\n",
       "Bond                                           1\n",
       "Name: Asset Class, dtype: int64"
      ]
     },
     "execution_count": 48,
     "metadata": {},
     "output_type": "execute_result"
    }
   ],
   "source": [
    "df3['Asset Class'].value_counts()"
   ]
  },
  {
   "cell_type": "code",
   "execution_count": 49,
   "metadata": {
    "ExecuteTime": {
     "end_time": "2020-05-30T18:56:43.328865Z",
     "start_time": "2020-05-30T18:56:43.319046Z"
    }
   },
   "outputs": [
    {
     "data": {
      "text/plain": [
       "Multiple renewables*      2741\n",
       "Solar energy              1590\n",
       "Renewable Hydropower      1084\n",
       "Wind energy                857\n",
       "Bioenergy                  634\n",
       "Geothermal energy          206\n",
       "Other renewable energy      56\n",
       "Marine energy               10\n",
       "Name: Technology, dtype: int64"
      ]
     },
     "execution_count": 49,
     "metadata": {},
     "output_type": "execute_result"
    }
   ],
   "source": [
    "df3.Technology.value_counts()"
   ]
  },
  {
   "cell_type": "markdown",
   "metadata": {},
   "source": [
    "Clean Technology column:"
   ]
  },
  {
   "cell_type": "code",
   "execution_count": 50,
   "metadata": {
    "ExecuteTime": {
     "end_time": "2020-05-30T18:56:44.030050Z",
     "start_time": "2020-05-30T18:56:44.021594Z"
    }
   },
   "outputs": [],
   "source": [
    "df3.Technology = df3.Technology.apply(lambda x: x.replace('*', ''))"
   ]
  },
  {
   "cell_type": "code",
   "execution_count": 51,
   "metadata": {
    "ExecuteTime": {
     "end_time": "2020-05-30T18:56:44.416014Z",
     "start_time": "2020-05-30T18:56:44.400545Z"
    }
   },
   "outputs": [
    {
     "data": {
      "text/plain": [
       "(Country                    0\n",
       " Project                    0\n",
       " Date                       0\n",
       " Investor                   0\n",
       " Technology                 0\n",
       " Asset Class                0\n",
       " Invested_USDM              0\n",
       " Source                     0\n",
       " gdp_g_anpc                 0\n",
       " AdjSav_pcGNI             574\n",
       " gni_g_anpc               665\n",
       " AdjSav_Engdep_usd         28\n",
       " AdjSav_CO2dmg_usd         46\n",
       " AdjSav_Ptcldmg_pcGNI     113\n",
       " Pvt_inv_USDM            3357\n",
       " Unemp_pcLF                62\n",
       " CO2ems_mTpCpt           2399\n",
       " AdjNetNatSv_usd          576\n",
       " dtype: int64, (7178, 18))"
      ]
     },
     "execution_count": 51,
     "metadata": {},
     "output_type": "execute_result"
    }
   ],
   "source": [
    "df3.isnull().sum(), df3.shape"
   ]
  },
  {
   "cell_type": "markdown",
   "metadata": {},
   "source": [
    "Given quantity of missing values, I collect private investment & CO2_emissions column though I drop from overall DF:"
   ]
  },
  {
   "cell_type": "code",
   "execution_count": 52,
   "metadata": {
    "ExecuteTime": {
     "end_time": "2020-05-06T16:21:16.962798Z",
     "start_time": "2020-05-06T16:21:16.958282Z"
    }
   },
   "outputs": [],
   "source": [
    "pvt_inv = df3.Pvt_inv_USDM\n",
    "CO2_ems = df3.CO2ems_mTpCpt"
   ]
  },
  {
   "cell_type": "code",
   "execution_count": 53,
   "metadata": {
    "ExecuteTime": {
     "end_time": "2020-05-06T16:21:48.369281Z",
     "start_time": "2020-05-06T16:21:48.360314Z"
    }
   },
   "outputs": [],
   "source": [
    "df3.drop(['Pvt_inv_USDM', 'CO2ems_mTpCpt'], axis=1, inplace=True)"
   ]
  },
  {
   "cell_type": "markdown",
   "metadata": {},
   "source": [
    "Also drop Adjusted Savings as % of GNI, replace with AdjNetNatSv_usd (current $):"
   ]
  },
  {
   "cell_type": "code",
   "execution_count": 54,
   "metadata": {
    "ExecuteTime": {
     "end_time": "2020-05-06T16:22:54.170306Z",
     "start_time": "2020-05-06T16:22:54.156139Z"
    }
   },
   "outputs": [],
   "source": [
    "\n",
    "df3.drop('AdjSav_pcGNI', axis=1, inplace=True)"
   ]
  },
  {
   "cell_type": "markdown",
   "metadata": {},
   "source": [
    "This is telling me 30 countries may provide nearly 4500 rows of data"
   ]
  },
  {
   "cell_type": "code",
   "execution_count": 80,
   "metadata": {
    "ExecuteTime": {
     "end_time": "2020-05-06T16:36:09.669642Z",
     "start_time": "2020-05-06T16:36:09.654762Z"
    }
   },
   "outputs": [
    {
     "data": {
      "text/plain": [
       "4498"
      ]
     },
     "execution_count": 80,
     "metadata": {},
     "output_type": "execute_result"
    }
   ],
   "source": [
    "\n",
    "df3.Country.value_counts().sort_values(ascending=False)[:30].sum()"
   ]
  },
  {
   "cell_type": "code",
   "execution_count": 81,
   "metadata": {
    "ExecuteTime": {
     "end_time": "2020-05-06T16:37:01.097142Z",
     "start_time": "2020-05-06T16:37:01.083545Z"
    }
   },
   "outputs": [
    {
     "data": {
      "text/plain": [
       "(6176, 15)"
      ]
     },
     "execution_count": 81,
     "metadata": {},
     "output_type": "execute_result"
    }
   ],
   "source": [
    "#Below, calculating what would result from dropping all null data: Results in 6000 rows.... Shall I go w/ this?\n",
    "df3.dropna().shape"
   ]
  },
  {
   "cell_type": "code",
   "execution_count": 82,
   "metadata": {
    "ExecuteTime": {
     "end_time": "2020-05-06T16:37:31.365834Z",
     "start_time": "2020-05-06T16:37:31.354954Z"
    }
   },
   "outputs": [],
   "source": [
    "df_nona = df3.dropna()"
   ]
  },
  {
   "cell_type": "code",
   "execution_count": 83,
   "metadata": {
    "ExecuteTime": {
     "end_time": "2020-05-06T16:37:43.856423Z",
     "start_time": "2020-05-06T16:37:43.843288Z"
    }
   },
   "outputs": [
    {
     "data": {
      "text/plain": [
       "Country                 0\n",
       "Project                 0\n",
       "Date                    0\n",
       "Investor                0\n",
       "Technology              0\n",
       "Asset Class             0\n",
       "Invested_USDM           0\n",
       "Source                  0\n",
       "gdp_g_anpc              0\n",
       "gni_g_anpc              0\n",
       "AdjSav_Engdep_usd       0\n",
       "AdjSav_CO2dmg_usd       0\n",
       "AdjSav_Ptcldmg_pcGNI    0\n",
       "Unemp_pcLF              0\n",
       "AdjNetNatSv_usd         0\n",
       "dtype: int64"
      ]
     },
     "execution_count": 83,
     "metadata": {},
     "output_type": "execute_result"
    }
   ],
   "source": [
    "df_nona.isnull().sum()"
   ]
  },
  {
   "cell_type": "code",
   "execution_count": 85,
   "metadata": {
    "ExecuteTime": {
     "end_time": "2020-05-06T16:46:03.309344Z",
     "start_time": "2020-05-06T16:46:03.101567Z"
    }
   },
   "outputs": [],
   "source": [
    "df_nona.to_csv('CSdf_nona.csv', index=False)"
   ]
  },
  {
   "cell_type": "code",
   "execution_count": 73,
   "metadata": {
    "ExecuteTime": {
     "end_time": "2020-05-06T16:35:05.284171Z",
     "start_time": "2020-05-06T16:35:05.249813Z"
    }
   },
   "outputs": [
    {
     "data": {
      "text/html": [
       "<div>\n",
       "<style scoped>\n",
       "    .dataframe tbody tr th:only-of-type {\n",
       "        vertical-align: middle;\n",
       "    }\n",
       "\n",
       "    .dataframe tbody tr th {\n",
       "        vertical-align: top;\n",
       "    }\n",
       "\n",
       "    .dataframe thead th {\n",
       "        text-align: right;\n",
       "    }\n",
       "</style>\n",
       "<table border=\"1\" class=\"dataframe\">\n",
       "  <thead>\n",
       "    <tr style=\"text-align: right;\">\n",
       "      <th></th>\n",
       "      <th>Project</th>\n",
       "      <th>Date</th>\n",
       "      <th>Investor</th>\n",
       "      <th>Technology</th>\n",
       "      <th>Asset Class</th>\n",
       "      <th>Invested_USDM</th>\n",
       "      <th>Source</th>\n",
       "      <th>gdp_g_anpc</th>\n",
       "      <th>gni_g_anpc</th>\n",
       "      <th>AdjSav_Engdep_usd</th>\n",
       "      <th>AdjSav_CO2dmg_usd</th>\n",
       "      <th>AdjSav_Ptcldmg_pcGNI</th>\n",
       "      <th>Unemp_pcLF</th>\n",
       "      <th>AdjNetNatSv_usd</th>\n",
       "    </tr>\n",
       "    <tr>\n",
       "      <th>Country</th>\n",
       "      <th></th>\n",
       "      <th></th>\n",
       "      <th></th>\n",
       "      <th></th>\n",
       "      <th></th>\n",
       "      <th></th>\n",
       "      <th></th>\n",
       "      <th></th>\n",
       "      <th></th>\n",
       "      <th></th>\n",
       "      <th></th>\n",
       "      <th></th>\n",
       "      <th></th>\n",
       "      <th></th>\n",
       "    </tr>\n",
       "  </thead>\n",
       "  <tbody>\n",
       "    <tr>\n",
       "      <td>Afghanistan</td>\n",
       "      <td>100</td>\n",
       "      <td>100</td>\n",
       "      <td>100</td>\n",
       "      <td>100</td>\n",
       "      <td>100</td>\n",
       "      <td>100</td>\n",
       "      <td>100</td>\n",
       "      <td>100</td>\n",
       "      <td>0</td>\n",
       "      <td>100</td>\n",
       "      <td>100</td>\n",
       "      <td>79</td>\n",
       "      <td>100</td>\n",
       "      <td>79</td>\n",
       "    </tr>\n",
       "    <tr>\n",
       "      <td>Albania</td>\n",
       "      <td>9</td>\n",
       "      <td>9</td>\n",
       "      <td>9</td>\n",
       "      <td>9</td>\n",
       "      <td>9</td>\n",
       "      <td>9</td>\n",
       "      <td>9</td>\n",
       "      <td>9</td>\n",
       "      <td>0</td>\n",
       "      <td>9</td>\n",
       "      <td>9</td>\n",
       "      <td>9</td>\n",
       "      <td>9</td>\n",
       "      <td>9</td>\n",
       "    </tr>\n",
       "    <tr>\n",
       "      <td>Azerbaijan</td>\n",
       "      <td>5</td>\n",
       "      <td>5</td>\n",
       "      <td>5</td>\n",
       "      <td>5</td>\n",
       "      <td>5</td>\n",
       "      <td>5</td>\n",
       "      <td>5</td>\n",
       "      <td>5</td>\n",
       "      <td>0</td>\n",
       "      <td>5</td>\n",
       "      <td>5</td>\n",
       "      <td>5</td>\n",
       "      <td>5</td>\n",
       "      <td>5</td>\n",
       "    </tr>\n",
       "    <tr>\n",
       "      <td>Barbados</td>\n",
       "      <td>2</td>\n",
       "      <td>2</td>\n",
       "      <td>2</td>\n",
       "      <td>2</td>\n",
       "      <td>2</td>\n",
       "      <td>2</td>\n",
       "      <td>2</td>\n",
       "      <td>2</td>\n",
       "      <td>0</td>\n",
       "      <td>2</td>\n",
       "      <td>2</td>\n",
       "      <td>2</td>\n",
       "      <td>2</td>\n",
       "      <td>0</td>\n",
       "    </tr>\n",
       "    <tr>\n",
       "      <td>Bhutan</td>\n",
       "      <td>3</td>\n",
       "      <td>3</td>\n",
       "      <td>3</td>\n",
       "      <td>3</td>\n",
       "      <td>3</td>\n",
       "      <td>3</td>\n",
       "      <td>3</td>\n",
       "      <td>3</td>\n",
       "      <td>0</td>\n",
       "      <td>3</td>\n",
       "      <td>3</td>\n",
       "      <td>3</td>\n",
       "      <td>3</td>\n",
       "      <td>0</td>\n",
       "    </tr>\n",
       "    <tr>\n",
       "      <td>Cabo Verde</td>\n",
       "      <td>2</td>\n",
       "      <td>2</td>\n",
       "      <td>2</td>\n",
       "      <td>2</td>\n",
       "      <td>2</td>\n",
       "      <td>2</td>\n",
       "      <td>2</td>\n",
       "      <td>2</td>\n",
       "      <td>0</td>\n",
       "      <td>2</td>\n",
       "      <td>2</td>\n",
       "      <td>2</td>\n",
       "      <td>2</td>\n",
       "      <td>0</td>\n",
       "    </tr>\n",
       "    <tr>\n",
       "      <td>Chad</td>\n",
       "      <td>1</td>\n",
       "      <td>1</td>\n",
       "      <td>1</td>\n",
       "      <td>1</td>\n",
       "      <td>1</td>\n",
       "      <td>1</td>\n",
       "      <td>1</td>\n",
       "      <td>1</td>\n",
       "      <td>0</td>\n",
       "      <td>1</td>\n",
       "      <td>1</td>\n",
       "      <td>1</td>\n",
       "      <td>1</td>\n",
       "      <td>0</td>\n",
       "    </tr>\n",
       "    <tr>\n",
       "      <td>Cuba</td>\n",
       "      <td>10</td>\n",
       "      <td>10</td>\n",
       "      <td>10</td>\n",
       "      <td>10</td>\n",
       "      <td>10</td>\n",
       "      <td>10</td>\n",
       "      <td>10</td>\n",
       "      <td>10</td>\n",
       "      <td>0</td>\n",
       "      <td>10</td>\n",
       "      <td>10</td>\n",
       "      <td>0</td>\n",
       "      <td>10</td>\n",
       "      <td>0</td>\n",
       "    </tr>\n",
       "    <tr>\n",
       "      <td>Dominica</td>\n",
       "      <td>5</td>\n",
       "      <td>5</td>\n",
       "      <td>5</td>\n",
       "      <td>5</td>\n",
       "      <td>5</td>\n",
       "      <td>5</td>\n",
       "      <td>5</td>\n",
       "      <td>5</td>\n",
       "      <td>0</td>\n",
       "      <td>5</td>\n",
       "      <td>5</td>\n",
       "      <td>0</td>\n",
       "      <td>0</td>\n",
       "      <td>0</td>\n",
       "    </tr>\n",
       "    <tr>\n",
       "      <td>Ethiopia</td>\n",
       "      <td>54</td>\n",
       "      <td>54</td>\n",
       "      <td>54</td>\n",
       "      <td>54</td>\n",
       "      <td>54</td>\n",
       "      <td>54</td>\n",
       "      <td>54</td>\n",
       "      <td>54</td>\n",
       "      <td>0</td>\n",
       "      <td>54</td>\n",
       "      <td>54</td>\n",
       "      <td>54</td>\n",
       "      <td>54</td>\n",
       "      <td>3</td>\n",
       "    </tr>\n",
       "    <tr>\n",
       "      <td>Fiji</td>\n",
       "      <td>23</td>\n",
       "      <td>23</td>\n",
       "      <td>23</td>\n",
       "      <td>23</td>\n",
       "      <td>23</td>\n",
       "      <td>23</td>\n",
       "      <td>23</td>\n",
       "      <td>23</td>\n",
       "      <td>0</td>\n",
       "      <td>23</td>\n",
       "      <td>23</td>\n",
       "      <td>23</td>\n",
       "      <td>23</td>\n",
       "      <td>20</td>\n",
       "    </tr>\n",
       "    <tr>\n",
       "      <td>Georgia</td>\n",
       "      <td>17</td>\n",
       "      <td>17</td>\n",
       "      <td>17</td>\n",
       "      <td>17</td>\n",
       "      <td>17</td>\n",
       "      <td>17</td>\n",
       "      <td>17</td>\n",
       "      <td>17</td>\n",
       "      <td>0</td>\n",
       "      <td>17</td>\n",
       "      <td>17</td>\n",
       "      <td>17</td>\n",
       "      <td>17</td>\n",
       "      <td>17</td>\n",
       "    </tr>\n",
       "    <tr>\n",
       "      <td>Ghana</td>\n",
       "      <td>14</td>\n",
       "      <td>14</td>\n",
       "      <td>14</td>\n",
       "      <td>14</td>\n",
       "      <td>14</td>\n",
       "      <td>14</td>\n",
       "      <td>14</td>\n",
       "      <td>14</td>\n",
       "      <td>0</td>\n",
       "      <td>14</td>\n",
       "      <td>14</td>\n",
       "      <td>14</td>\n",
       "      <td>14</td>\n",
       "      <td>14</td>\n",
       "    </tr>\n",
       "    <tr>\n",
       "      <td>Grenada</td>\n",
       "      <td>11</td>\n",
       "      <td>11</td>\n",
       "      <td>11</td>\n",
       "      <td>11</td>\n",
       "      <td>11</td>\n",
       "      <td>11</td>\n",
       "      <td>11</td>\n",
       "      <td>11</td>\n",
       "      <td>0</td>\n",
       "      <td>11</td>\n",
       "      <td>11</td>\n",
       "      <td>0</td>\n",
       "      <td>0</td>\n",
       "      <td>0</td>\n",
       "    </tr>\n",
       "    <tr>\n",
       "      <td>Guinea</td>\n",
       "      <td>6</td>\n",
       "      <td>6</td>\n",
       "      <td>6</td>\n",
       "      <td>6</td>\n",
       "      <td>6</td>\n",
       "      <td>6</td>\n",
       "      <td>6</td>\n",
       "      <td>6</td>\n",
       "      <td>0</td>\n",
       "      <td>6</td>\n",
       "      <td>6</td>\n",
       "      <td>6</td>\n",
       "      <td>6</td>\n",
       "      <td>6</td>\n",
       "    </tr>\n",
       "    <tr>\n",
       "      <td>Guyana</td>\n",
       "      <td>3</td>\n",
       "      <td>3</td>\n",
       "      <td>3</td>\n",
       "      <td>3</td>\n",
       "      <td>3</td>\n",
       "      <td>3</td>\n",
       "      <td>3</td>\n",
       "      <td>3</td>\n",
       "      <td>0</td>\n",
       "      <td>3</td>\n",
       "      <td>3</td>\n",
       "      <td>3</td>\n",
       "      <td>3</td>\n",
       "      <td>3</td>\n",
       "    </tr>\n",
       "    <tr>\n",
       "      <td>Iceland</td>\n",
       "      <td>7</td>\n",
       "      <td>7</td>\n",
       "      <td>7</td>\n",
       "      <td>7</td>\n",
       "      <td>7</td>\n",
       "      <td>7</td>\n",
       "      <td>7</td>\n",
       "      <td>7</td>\n",
       "      <td>0</td>\n",
       "      <td>7</td>\n",
       "      <td>7</td>\n",
       "      <td>7</td>\n",
       "      <td>7</td>\n",
       "      <td>7</td>\n",
       "    </tr>\n",
       "    <tr>\n",
       "      <td>Indonesia</td>\n",
       "      <td>67</td>\n",
       "      <td>67</td>\n",
       "      <td>67</td>\n",
       "      <td>67</td>\n",
       "      <td>67</td>\n",
       "      <td>67</td>\n",
       "      <td>67</td>\n",
       "      <td>67</td>\n",
       "      <td>0</td>\n",
       "      <td>67</td>\n",
       "      <td>67</td>\n",
       "      <td>67</td>\n",
       "      <td>67</td>\n",
       "      <td>67</td>\n",
       "    </tr>\n",
       "    <tr>\n",
       "      <td>Iraq</td>\n",
       "      <td>15</td>\n",
       "      <td>15</td>\n",
       "      <td>15</td>\n",
       "      <td>15</td>\n",
       "      <td>15</td>\n",
       "      <td>15</td>\n",
       "      <td>15</td>\n",
       "      <td>15</td>\n",
       "      <td>0</td>\n",
       "      <td>15</td>\n",
       "      <td>15</td>\n",
       "      <td>14</td>\n",
       "      <td>15</td>\n",
       "      <td>13</td>\n",
       "    </tr>\n",
       "    <tr>\n",
       "      <td>Jamaica</td>\n",
       "      <td>2</td>\n",
       "      <td>2</td>\n",
       "      <td>2</td>\n",
       "      <td>2</td>\n",
       "      <td>2</td>\n",
       "      <td>2</td>\n",
       "      <td>2</td>\n",
       "      <td>2</td>\n",
       "      <td>0</td>\n",
       "      <td>2</td>\n",
       "      <td>2</td>\n",
       "      <td>2</td>\n",
       "      <td>2</td>\n",
       "      <td>2</td>\n",
       "    </tr>\n",
       "    <tr>\n",
       "      <td>Kiribati</td>\n",
       "      <td>8</td>\n",
       "      <td>8</td>\n",
       "      <td>8</td>\n",
       "      <td>8</td>\n",
       "      <td>8</td>\n",
       "      <td>8</td>\n",
       "      <td>8</td>\n",
       "      <td>8</td>\n",
       "      <td>0</td>\n",
       "      <td>8</td>\n",
       "      <td>8</td>\n",
       "      <td>0</td>\n",
       "      <td>0</td>\n",
       "      <td>0</td>\n",
       "    </tr>\n",
       "    <tr>\n",
       "      <td>Lao PDR</td>\n",
       "      <td>10</td>\n",
       "      <td>10</td>\n",
       "      <td>10</td>\n",
       "      <td>10</td>\n",
       "      <td>10</td>\n",
       "      <td>10</td>\n",
       "      <td>10</td>\n",
       "      <td>10</td>\n",
       "      <td>0</td>\n",
       "      <td>10</td>\n",
       "      <td>10</td>\n",
       "      <td>10</td>\n",
       "      <td>10</td>\n",
       "      <td>10</td>\n",
       "    </tr>\n",
       "    <tr>\n",
       "      <td>Lesotho</td>\n",
       "      <td>5</td>\n",
       "      <td>5</td>\n",
       "      <td>5</td>\n",
       "      <td>5</td>\n",
       "      <td>5</td>\n",
       "      <td>5</td>\n",
       "      <td>5</td>\n",
       "      <td>5</td>\n",
       "      <td>0</td>\n",
       "      <td>5</td>\n",
       "      <td>5</td>\n",
       "      <td>5</td>\n",
       "      <td>5</td>\n",
       "      <td>1</td>\n",
       "    </tr>\n",
       "    <tr>\n",
       "      <td>Malawi</td>\n",
       "      <td>2</td>\n",
       "      <td>2</td>\n",
       "      <td>2</td>\n",
       "      <td>2</td>\n",
       "      <td>2</td>\n",
       "      <td>2</td>\n",
       "      <td>2</td>\n",
       "      <td>2</td>\n",
       "      <td>0</td>\n",
       "      <td>2</td>\n",
       "      <td>2</td>\n",
       "      <td>2</td>\n",
       "      <td>2</td>\n",
       "      <td>2</td>\n",
       "    </tr>\n",
       "    <tr>\n",
       "      <td>Maldives</td>\n",
       "      <td>18</td>\n",
       "      <td>18</td>\n",
       "      <td>18</td>\n",
       "      <td>18</td>\n",
       "      <td>18</td>\n",
       "      <td>18</td>\n",
       "      <td>18</td>\n",
       "      <td>18</td>\n",
       "      <td>0</td>\n",
       "      <td>18</td>\n",
       "      <td>18</td>\n",
       "      <td>18</td>\n",
       "      <td>18</td>\n",
       "      <td>0</td>\n",
       "    </tr>\n",
       "    <tr>\n",
       "      <td>Mongolia</td>\n",
       "      <td>23</td>\n",
       "      <td>23</td>\n",
       "      <td>23</td>\n",
       "      <td>23</td>\n",
       "      <td>23</td>\n",
       "      <td>23</td>\n",
       "      <td>23</td>\n",
       "      <td>23</td>\n",
       "      <td>0</td>\n",
       "      <td>23</td>\n",
       "      <td>23</td>\n",
       "      <td>23</td>\n",
       "      <td>23</td>\n",
       "      <td>23</td>\n",
       "    </tr>\n",
       "    <tr>\n",
       "      <td>Myanmar</td>\n",
       "      <td>6</td>\n",
       "      <td>6</td>\n",
       "      <td>6</td>\n",
       "      <td>6</td>\n",
       "      <td>6</td>\n",
       "      <td>6</td>\n",
       "      <td>6</td>\n",
       "      <td>6</td>\n",
       "      <td>0</td>\n",
       "      <td>6</td>\n",
       "      <td>6</td>\n",
       "      <td>6</td>\n",
       "      <td>6</td>\n",
       "      <td>2</td>\n",
       "    </tr>\n",
       "    <tr>\n",
       "      <td>Nauru</td>\n",
       "      <td>9</td>\n",
       "      <td>9</td>\n",
       "      <td>9</td>\n",
       "      <td>9</td>\n",
       "      <td>9</td>\n",
       "      <td>9</td>\n",
       "      <td>9</td>\n",
       "      <td>9</td>\n",
       "      <td>0</td>\n",
       "      <td>9</td>\n",
       "      <td>9</td>\n",
       "      <td>0</td>\n",
       "      <td>0</td>\n",
       "      <td>0</td>\n",
       "    </tr>\n",
       "    <tr>\n",
       "      <td>Nepal</td>\n",
       "      <td>8</td>\n",
       "      <td>8</td>\n",
       "      <td>8</td>\n",
       "      <td>8</td>\n",
       "      <td>8</td>\n",
       "      <td>8</td>\n",
       "      <td>8</td>\n",
       "      <td>8</td>\n",
       "      <td>0</td>\n",
       "      <td>8</td>\n",
       "      <td>8</td>\n",
       "      <td>8</td>\n",
       "      <td>8</td>\n",
       "      <td>8</td>\n",
       "    </tr>\n",
       "    <tr>\n",
       "      <td>Niger</td>\n",
       "      <td>6</td>\n",
       "      <td>6</td>\n",
       "      <td>6</td>\n",
       "      <td>6</td>\n",
       "      <td>6</td>\n",
       "      <td>6</td>\n",
       "      <td>6</td>\n",
       "      <td>6</td>\n",
       "      <td>0</td>\n",
       "      <td>6</td>\n",
       "      <td>6</td>\n",
       "      <td>6</td>\n",
       "      <td>6</td>\n",
       "      <td>6</td>\n",
       "    </tr>\n",
       "    <tr>\n",
       "      <td>Palau</td>\n",
       "      <td>1</td>\n",
       "      <td>1</td>\n",
       "      <td>1</td>\n",
       "      <td>1</td>\n",
       "      <td>1</td>\n",
       "      <td>1</td>\n",
       "      <td>1</td>\n",
       "      <td>1</td>\n",
       "      <td>0</td>\n",
       "      <td>0</td>\n",
       "      <td>1</td>\n",
       "      <td>0</td>\n",
       "      <td>0</td>\n",
       "      <td>1</td>\n",
       "    </tr>\n",
       "    <tr>\n",
       "      <td>Samoa</td>\n",
       "      <td>12</td>\n",
       "      <td>12</td>\n",
       "      <td>12</td>\n",
       "      <td>12</td>\n",
       "      <td>12</td>\n",
       "      <td>12</td>\n",
       "      <td>12</td>\n",
       "      <td>12</td>\n",
       "      <td>0</td>\n",
       "      <td>12</td>\n",
       "      <td>12</td>\n",
       "      <td>12</td>\n",
       "      <td>12</td>\n",
       "      <td>0</td>\n",
       "    </tr>\n",
       "    <tr>\n",
       "      <td>Seychelles</td>\n",
       "      <td>1</td>\n",
       "      <td>1</td>\n",
       "      <td>1</td>\n",
       "      <td>1</td>\n",
       "      <td>1</td>\n",
       "      <td>1</td>\n",
       "      <td>1</td>\n",
       "      <td>1</td>\n",
       "      <td>0</td>\n",
       "      <td>1</td>\n",
       "      <td>1</td>\n",
       "      <td>0</td>\n",
       "      <td>0</td>\n",
       "      <td>1</td>\n",
       "    </tr>\n",
       "    <tr>\n",
       "      <td>South Sudan</td>\n",
       "      <td>4</td>\n",
       "      <td>4</td>\n",
       "      <td>4</td>\n",
       "      <td>4</td>\n",
       "      <td>4</td>\n",
       "      <td>4</td>\n",
       "      <td>4</td>\n",
       "      <td>4</td>\n",
       "      <td>0</td>\n",
       "      <td>0</td>\n",
       "      <td>0</td>\n",
       "      <td>0</td>\n",
       "      <td>4</td>\n",
       "      <td>0</td>\n",
       "    </tr>\n",
       "    <tr>\n",
       "      <td>Suriname</td>\n",
       "      <td>5</td>\n",
       "      <td>5</td>\n",
       "      <td>5</td>\n",
       "      <td>5</td>\n",
       "      <td>5</td>\n",
       "      <td>5</td>\n",
       "      <td>5</td>\n",
       "      <td>5</td>\n",
       "      <td>0</td>\n",
       "      <td>5</td>\n",
       "      <td>5</td>\n",
       "      <td>5</td>\n",
       "      <td>5</td>\n",
       "      <td>1</td>\n",
       "    </tr>\n",
       "    <tr>\n",
       "      <td>Tajikistan</td>\n",
       "      <td>12</td>\n",
       "      <td>12</td>\n",
       "      <td>12</td>\n",
       "      <td>12</td>\n",
       "      <td>12</td>\n",
       "      <td>12</td>\n",
       "      <td>12</td>\n",
       "      <td>12</td>\n",
       "      <td>0</td>\n",
       "      <td>12</td>\n",
       "      <td>12</td>\n",
       "      <td>12</td>\n",
       "      <td>12</td>\n",
       "      <td>12</td>\n",
       "    </tr>\n",
       "    <tr>\n",
       "      <td>Tonga</td>\n",
       "      <td>31</td>\n",
       "      <td>31</td>\n",
       "      <td>31</td>\n",
       "      <td>31</td>\n",
       "      <td>31</td>\n",
       "      <td>31</td>\n",
       "      <td>31</td>\n",
       "      <td>31</td>\n",
       "      <td>0</td>\n",
       "      <td>31</td>\n",
       "      <td>31</td>\n",
       "      <td>31</td>\n",
       "      <td>31</td>\n",
       "      <td>13</td>\n",
       "    </tr>\n",
       "    <tr>\n",
       "      <td>Tunisia</td>\n",
       "      <td>20</td>\n",
       "      <td>20</td>\n",
       "      <td>20</td>\n",
       "      <td>20</td>\n",
       "      <td>20</td>\n",
       "      <td>20</td>\n",
       "      <td>20</td>\n",
       "      <td>20</td>\n",
       "      <td>0</td>\n",
       "      <td>20</td>\n",
       "      <td>20</td>\n",
       "      <td>20</td>\n",
       "      <td>20</td>\n",
       "      <td>20</td>\n",
       "    </tr>\n",
       "    <tr>\n",
       "      <td>Turkmenistan</td>\n",
       "      <td>11</td>\n",
       "      <td>11</td>\n",
       "      <td>11</td>\n",
       "      <td>11</td>\n",
       "      <td>11</td>\n",
       "      <td>11</td>\n",
       "      <td>11</td>\n",
       "      <td>11</td>\n",
       "      <td>0</td>\n",
       "      <td>11</td>\n",
       "      <td>11</td>\n",
       "      <td>11</td>\n",
       "      <td>11</td>\n",
       "      <td>0</td>\n",
       "    </tr>\n",
       "    <tr>\n",
       "      <td>Tuvalu</td>\n",
       "      <td>15</td>\n",
       "      <td>15</td>\n",
       "      <td>15</td>\n",
       "      <td>15</td>\n",
       "      <td>15</td>\n",
       "      <td>15</td>\n",
       "      <td>15</td>\n",
       "      <td>15</td>\n",
       "      <td>0</td>\n",
       "      <td>0</td>\n",
       "      <td>15</td>\n",
       "      <td>0</td>\n",
       "      <td>0</td>\n",
       "      <td>0</td>\n",
       "    </tr>\n",
       "    <tr>\n",
       "      <td>Uzbekistan</td>\n",
       "      <td>15</td>\n",
       "      <td>15</td>\n",
       "      <td>15</td>\n",
       "      <td>15</td>\n",
       "      <td>15</td>\n",
       "      <td>15</td>\n",
       "      <td>15</td>\n",
       "      <td>15</td>\n",
       "      <td>0</td>\n",
       "      <td>15</td>\n",
       "      <td>15</td>\n",
       "      <td>15</td>\n",
       "      <td>15</td>\n",
       "      <td>0</td>\n",
       "    </tr>\n",
       "    <tr>\n",
       "      <td>Vanuatu</td>\n",
       "      <td>11</td>\n",
       "      <td>11</td>\n",
       "      <td>11</td>\n",
       "      <td>11</td>\n",
       "      <td>11</td>\n",
       "      <td>11</td>\n",
       "      <td>11</td>\n",
       "      <td>11</td>\n",
       "      <td>0</td>\n",
       "      <td>11</td>\n",
       "      <td>11</td>\n",
       "      <td>11</td>\n",
       "      <td>11</td>\n",
       "      <td>0</td>\n",
       "    </tr>\n",
       "    <tr>\n",
       "      <td>Zambia</td>\n",
       "      <td>71</td>\n",
       "      <td>71</td>\n",
       "      <td>71</td>\n",
       "      <td>71</td>\n",
       "      <td>71</td>\n",
       "      <td>71</td>\n",
       "      <td>71</td>\n",
       "      <td>71</td>\n",
       "      <td>0</td>\n",
       "      <td>71</td>\n",
       "      <td>71</td>\n",
       "      <td>71</td>\n",
       "      <td>71</td>\n",
       "      <td>40</td>\n",
       "    </tr>\n",
       "    <tr>\n",
       "      <td>Zimbabwe</td>\n",
       "      <td>5</td>\n",
       "      <td>5</td>\n",
       "      <td>5</td>\n",
       "      <td>5</td>\n",
       "      <td>5</td>\n",
       "      <td>5</td>\n",
       "      <td>5</td>\n",
       "      <td>5</td>\n",
       "      <td>0</td>\n",
       "      <td>5</td>\n",
       "      <td>5</td>\n",
       "      <td>5</td>\n",
       "      <td>5</td>\n",
       "      <td>1</td>\n",
       "    </tr>\n",
       "  </tbody>\n",
       "</table>\n",
       "</div>"
      ],
      "text/plain": [
       "              Project  Date  Investor  Technology  Asset Class  Invested_USDM  \\\n",
       "Country                                                                         \n",
       "Afghanistan       100   100       100         100          100            100   \n",
       "Albania             9     9         9           9            9              9   \n",
       "Azerbaijan          5     5         5           5            5              5   \n",
       "Barbados            2     2         2           2            2              2   \n",
       "Bhutan              3     3         3           3            3              3   \n",
       "Cabo Verde          2     2         2           2            2              2   \n",
       "Chad                1     1         1           1            1              1   \n",
       "Cuba               10    10        10          10           10             10   \n",
       "Dominica            5     5         5           5            5              5   \n",
       "Ethiopia           54    54        54          54           54             54   \n",
       "Fiji               23    23        23          23           23             23   \n",
       "Georgia            17    17        17          17           17             17   \n",
       "Ghana              14    14        14          14           14             14   \n",
       "Grenada            11    11        11          11           11             11   \n",
       "Guinea              6     6         6           6            6              6   \n",
       "Guyana              3     3         3           3            3              3   \n",
       "Iceland             7     7         7           7            7              7   \n",
       "Indonesia          67    67        67          67           67             67   \n",
       "Iraq               15    15        15          15           15             15   \n",
       "Jamaica             2     2         2           2            2              2   \n",
       "Kiribati            8     8         8           8            8              8   \n",
       "Lao PDR            10    10        10          10           10             10   \n",
       "Lesotho             5     5         5           5            5              5   \n",
       "Malawi              2     2         2           2            2              2   \n",
       "Maldives           18    18        18          18           18             18   \n",
       "Mongolia           23    23        23          23           23             23   \n",
       "Myanmar             6     6         6           6            6              6   \n",
       "Nauru               9     9         9           9            9              9   \n",
       "Nepal               8     8         8           8            8              8   \n",
       "Niger               6     6         6           6            6              6   \n",
       "Palau               1     1         1           1            1              1   \n",
       "Samoa              12    12        12          12           12             12   \n",
       "Seychelles          1     1         1           1            1              1   \n",
       "South Sudan         4     4         4           4            4              4   \n",
       "Suriname            5     5         5           5            5              5   \n",
       "Tajikistan         12    12        12          12           12             12   \n",
       "Tonga              31    31        31          31           31             31   \n",
       "Tunisia            20    20        20          20           20             20   \n",
       "Turkmenistan       11    11        11          11           11             11   \n",
       "Tuvalu             15    15        15          15           15             15   \n",
       "Uzbekistan         15    15        15          15           15             15   \n",
       "Vanuatu            11    11        11          11           11             11   \n",
       "Zambia             71    71        71          71           71             71   \n",
       "Zimbabwe            5     5         5           5            5              5   \n",
       "\n",
       "              Source  gdp_g_anpc  gni_g_anpc  AdjSav_Engdep_usd  \\\n",
       "Country                                                           \n",
       "Afghanistan      100         100           0                100   \n",
       "Albania            9           9           0                  9   \n",
       "Azerbaijan         5           5           0                  5   \n",
       "Barbados           2           2           0                  2   \n",
       "Bhutan             3           3           0                  3   \n",
       "Cabo Verde         2           2           0                  2   \n",
       "Chad               1           1           0                  1   \n",
       "Cuba              10          10           0                 10   \n",
       "Dominica           5           5           0                  5   \n",
       "Ethiopia          54          54           0                 54   \n",
       "Fiji              23          23           0                 23   \n",
       "Georgia           17          17           0                 17   \n",
       "Ghana             14          14           0                 14   \n",
       "Grenada           11          11           0                 11   \n",
       "Guinea             6           6           0                  6   \n",
       "Guyana             3           3           0                  3   \n",
       "Iceland            7           7           0                  7   \n",
       "Indonesia         67          67           0                 67   \n",
       "Iraq              15          15           0                 15   \n",
       "Jamaica            2           2           0                  2   \n",
       "Kiribati           8           8           0                  8   \n",
       "Lao PDR           10          10           0                 10   \n",
       "Lesotho            5           5           0                  5   \n",
       "Malawi             2           2           0                  2   \n",
       "Maldives          18          18           0                 18   \n",
       "Mongolia          23          23           0                 23   \n",
       "Myanmar            6           6           0                  6   \n",
       "Nauru              9           9           0                  9   \n",
       "Nepal              8           8           0                  8   \n",
       "Niger              6           6           0                  6   \n",
       "Palau              1           1           0                  0   \n",
       "Samoa             12          12           0                 12   \n",
       "Seychelles         1           1           0                  1   \n",
       "South Sudan        4           4           0                  0   \n",
       "Suriname           5           5           0                  5   \n",
       "Tajikistan        12          12           0                 12   \n",
       "Tonga             31          31           0                 31   \n",
       "Tunisia           20          20           0                 20   \n",
       "Turkmenistan      11          11           0                 11   \n",
       "Tuvalu            15          15           0                  0   \n",
       "Uzbekistan        15          15           0                 15   \n",
       "Vanuatu           11          11           0                 11   \n",
       "Zambia            71          71           0                 71   \n",
       "Zimbabwe           5           5           0                  5   \n",
       "\n",
       "              AdjSav_CO2dmg_usd  AdjSav_Ptcldmg_pcGNI  Unemp_pcLF  \\\n",
       "Country                                                             \n",
       "Afghanistan                 100                    79         100   \n",
       "Albania                       9                     9           9   \n",
       "Azerbaijan                    5                     5           5   \n",
       "Barbados                      2                     2           2   \n",
       "Bhutan                        3                     3           3   \n",
       "Cabo Verde                    2                     2           2   \n",
       "Chad                          1                     1           1   \n",
       "Cuba                         10                     0          10   \n",
       "Dominica                      5                     0           0   \n",
       "Ethiopia                     54                    54          54   \n",
       "Fiji                         23                    23          23   \n",
       "Georgia                      17                    17          17   \n",
       "Ghana                        14                    14          14   \n",
       "Grenada                      11                     0           0   \n",
       "Guinea                        6                     6           6   \n",
       "Guyana                        3                     3           3   \n",
       "Iceland                       7                     7           7   \n",
       "Indonesia                    67                    67          67   \n",
       "Iraq                         15                    14          15   \n",
       "Jamaica                       2                     2           2   \n",
       "Kiribati                      8                     0           0   \n",
       "Lao PDR                      10                    10          10   \n",
       "Lesotho                       5                     5           5   \n",
       "Malawi                        2                     2           2   \n",
       "Maldives                     18                    18          18   \n",
       "Mongolia                     23                    23          23   \n",
       "Myanmar                       6                     6           6   \n",
       "Nauru                         9                     0           0   \n",
       "Nepal                         8                     8           8   \n",
       "Niger                         6                     6           6   \n",
       "Palau                         1                     0           0   \n",
       "Samoa                        12                    12          12   \n",
       "Seychelles                    1                     0           0   \n",
       "South Sudan                   0                     0           4   \n",
       "Suriname                      5                     5           5   \n",
       "Tajikistan                   12                    12          12   \n",
       "Tonga                        31                    31          31   \n",
       "Tunisia                      20                    20          20   \n",
       "Turkmenistan                 11                    11          11   \n",
       "Tuvalu                       15                     0           0   \n",
       "Uzbekistan                   15                    15          15   \n",
       "Vanuatu                      11                    11          11   \n",
       "Zambia                       71                    71          71   \n",
       "Zimbabwe                      5                     5           5   \n",
       "\n",
       "              AdjNetNatSv_usd  \n",
       "Country                        \n",
       "Afghanistan                79  \n",
       "Albania                     9  \n",
       "Azerbaijan                  5  \n",
       "Barbados                    0  \n",
       "Bhutan                      0  \n",
       "Cabo Verde                  0  \n",
       "Chad                        0  \n",
       "Cuba                        0  \n",
       "Dominica                    0  \n",
       "Ethiopia                    3  \n",
       "Fiji                       20  \n",
       "Georgia                    17  \n",
       "Ghana                      14  \n",
       "Grenada                     0  \n",
       "Guinea                      6  \n",
       "Guyana                      3  \n",
       "Iceland                     7  \n",
       "Indonesia                  67  \n",
       "Iraq                       13  \n",
       "Jamaica                     2  \n",
       "Kiribati                    0  \n",
       "Lao PDR                    10  \n",
       "Lesotho                     1  \n",
       "Malawi                      2  \n",
       "Maldives                    0  \n",
       "Mongolia                   23  \n",
       "Myanmar                     2  \n",
       "Nauru                       0  \n",
       "Nepal                       8  \n",
       "Niger                       6  \n",
       "Palau                       1  \n",
       "Samoa                       0  \n",
       "Seychelles                  1  \n",
       "South Sudan                 0  \n",
       "Suriname                    1  \n",
       "Tajikistan                 12  \n",
       "Tonga                      13  \n",
       "Tunisia                    20  \n",
       "Turkmenistan                0  \n",
       "Tuvalu                      0  \n",
       "Uzbekistan                  0  \n",
       "Vanuatu                     0  \n",
       "Zambia                     40  \n",
       "Zimbabwe                    1  "
      ]
     },
     "execution_count": 73,
     "metadata": {},
     "output_type": "execute_result"
    }
   ],
   "source": [
    "#Attending GNI growth as annual %: Below list of countries w/ missing gni_g: \n",
    "df3[df3.gni_g_anpc.isnull()].groupby('Country').count()\n",
    "\n",
    "#Issue is that they do contain other measures. I'm therefore reluctant to remove it"
   ]
  },
  {
   "cell_type": "code",
   "execution_count": 94,
   "metadata": {
    "ExecuteTime": {
     "end_time": "2020-05-06T16:48:56.263867Z",
     "start_time": "2020-05-06T16:48:56.254429Z"
    }
   },
   "outputs": [
    {
     "data": {
      "text/plain": [
       "array([779, 383, 240, 181, 175, 174, 160, 153, 147, 132, 128, 123, 116,\n",
       "       112, 109, 106, 105, 100,  95,  92,  89,  88,  86,  81,  78,  77,\n",
       "        75,  74,  72,  71,  69,  68,  67,  64,  63,  62,  61,  58,  56,\n",
       "        55,  51,  50,  45,  44,  43,  42,  41,  40,  39,  36,  34,  33,\n",
       "        32,  31,  30,  27,  26,  25,  24,  23,  22,  21,  19,  18,  17,\n",
       "        16,  15,  14,  12,  11,  10,   9,   8,   7,   6,   5,   4,   3,\n",
       "         2,   1])"
      ]
     },
     "execution_count": 94,
     "metadata": {},
     "output_type": "execute_result"
    }
   ],
   "source": [
    "df3.Country.value_counts().unique()"
   ]
  },
  {
   "cell_type": "code",
   "execution_count": 59,
   "metadata": {
    "ExecuteTime": {
     "end_time": "2020-05-06T16:26:23.218265Z",
     "start_time": "2020-05-06T16:26:23.189205Z"
    }
   },
   "outputs": [
    {
     "data": {
      "text/html": [
       "<div>\n",
       "<style scoped>\n",
       "    .dataframe tbody tr th:only-of-type {\n",
       "        vertical-align: middle;\n",
       "    }\n",
       "\n",
       "    .dataframe tbody tr th {\n",
       "        vertical-align: top;\n",
       "    }\n",
       "\n",
       "    .dataframe thead th {\n",
       "        text-align: right;\n",
       "    }\n",
       "</style>\n",
       "<table border=\"1\" class=\"dataframe\">\n",
       "  <thead>\n",
       "    <tr style=\"text-align: right;\">\n",
       "      <th></th>\n",
       "      <th>Project</th>\n",
       "      <th>Date</th>\n",
       "      <th>Investor</th>\n",
       "      <th>Technology</th>\n",
       "      <th>Asset Class</th>\n",
       "      <th>Invested_USDM</th>\n",
       "      <th>Source</th>\n",
       "      <th>gdp_g_anpc</th>\n",
       "      <th>gni_g_anpc</th>\n",
       "      <th>AdjSav_Engdep_usd</th>\n",
       "      <th>AdjSav_CO2dmg_usd</th>\n",
       "      <th>AdjSav_Ptcldmg_pcGNI</th>\n",
       "      <th>Unemp_pcLF</th>\n",
       "      <th>AdjNetNatSv_usd</th>\n",
       "    </tr>\n",
       "    <tr>\n",
       "      <th>Country</th>\n",
       "      <th></th>\n",
       "      <th></th>\n",
       "      <th></th>\n",
       "      <th></th>\n",
       "      <th></th>\n",
       "      <th></th>\n",
       "      <th></th>\n",
       "      <th></th>\n",
       "      <th></th>\n",
       "      <th></th>\n",
       "      <th></th>\n",
       "      <th></th>\n",
       "      <th></th>\n",
       "      <th></th>\n",
       "    </tr>\n",
       "  </thead>\n",
       "  <tbody>\n",
       "    <tr>\n",
       "      <td>Afghanistan</td>\n",
       "      <td>100</td>\n",
       "      <td>100</td>\n",
       "      <td>100</td>\n",
       "      <td>100</td>\n",
       "      <td>100</td>\n",
       "      <td>100</td>\n",
       "      <td>100</td>\n",
       "      <td>100</td>\n",
       "      <td>0</td>\n",
       "      <td>100</td>\n",
       "      <td>100</td>\n",
       "      <td>79</td>\n",
       "      <td>100</td>\n",
       "      <td>79</td>\n",
       "    </tr>\n",
       "    <tr>\n",
       "      <td>Albania</td>\n",
       "      <td>26</td>\n",
       "      <td>26</td>\n",
       "      <td>26</td>\n",
       "      <td>26</td>\n",
       "      <td>26</td>\n",
       "      <td>26</td>\n",
       "      <td>26</td>\n",
       "      <td>26</td>\n",
       "      <td>17</td>\n",
       "      <td>26</td>\n",
       "      <td>26</td>\n",
       "      <td>26</td>\n",
       "      <td>26</td>\n",
       "      <td>26</td>\n",
       "    </tr>\n",
       "    <tr>\n",
       "      <td>Algeria</td>\n",
       "      <td>32</td>\n",
       "      <td>32</td>\n",
       "      <td>32</td>\n",
       "      <td>32</td>\n",
       "      <td>32</td>\n",
       "      <td>32</td>\n",
       "      <td>32</td>\n",
       "      <td>32</td>\n",
       "      <td>32</td>\n",
       "      <td>32</td>\n",
       "      <td>32</td>\n",
       "      <td>32</td>\n",
       "      <td>32</td>\n",
       "      <td>24</td>\n",
       "    </tr>\n",
       "    <tr>\n",
       "      <td>Angola</td>\n",
       "      <td>16</td>\n",
       "      <td>16</td>\n",
       "      <td>16</td>\n",
       "      <td>16</td>\n",
       "      <td>16</td>\n",
       "      <td>16</td>\n",
       "      <td>16</td>\n",
       "      <td>16</td>\n",
       "      <td>16</td>\n",
       "      <td>16</td>\n",
       "      <td>16</td>\n",
       "      <td>16</td>\n",
       "      <td>16</td>\n",
       "      <td>16</td>\n",
       "    </tr>\n",
       "    <tr>\n",
       "      <td>Argentina</td>\n",
       "      <td>95</td>\n",
       "      <td>95</td>\n",
       "      <td>95</td>\n",
       "      <td>95</td>\n",
       "      <td>95</td>\n",
       "      <td>95</td>\n",
       "      <td>95</td>\n",
       "      <td>95</td>\n",
       "      <td>95</td>\n",
       "      <td>95</td>\n",
       "      <td>95</td>\n",
       "      <td>95</td>\n",
       "      <td>95</td>\n",
       "      <td>95</td>\n",
       "    </tr>\n",
       "    <tr>\n",
       "      <td>...</td>\n",
       "      <td>...</td>\n",
       "      <td>...</td>\n",
       "      <td>...</td>\n",
       "      <td>...</td>\n",
       "      <td>...</td>\n",
       "      <td>...</td>\n",
       "      <td>...</td>\n",
       "      <td>...</td>\n",
       "      <td>...</td>\n",
       "      <td>...</td>\n",
       "      <td>...</td>\n",
       "      <td>...</td>\n",
       "      <td>...</td>\n",
       "      <td>...</td>\n",
       "    </tr>\n",
       "    <tr>\n",
       "      <td>Uruguay</td>\n",
       "      <td>36</td>\n",
       "      <td>36</td>\n",
       "      <td>36</td>\n",
       "      <td>36</td>\n",
       "      <td>36</td>\n",
       "      <td>36</td>\n",
       "      <td>36</td>\n",
       "      <td>36</td>\n",
       "      <td>36</td>\n",
       "      <td>36</td>\n",
       "      <td>36</td>\n",
       "      <td>36</td>\n",
       "      <td>36</td>\n",
       "      <td>36</td>\n",
       "    </tr>\n",
       "    <tr>\n",
       "      <td>Uzbekistan</td>\n",
       "      <td>16</td>\n",
       "      <td>16</td>\n",
       "      <td>16</td>\n",
       "      <td>16</td>\n",
       "      <td>16</td>\n",
       "      <td>16</td>\n",
       "      <td>16</td>\n",
       "      <td>16</td>\n",
       "      <td>1</td>\n",
       "      <td>16</td>\n",
       "      <td>16</td>\n",
       "      <td>16</td>\n",
       "      <td>16</td>\n",
       "      <td>0</td>\n",
       "    </tr>\n",
       "    <tr>\n",
       "      <td>Vanuatu</td>\n",
       "      <td>22</td>\n",
       "      <td>22</td>\n",
       "      <td>22</td>\n",
       "      <td>22</td>\n",
       "      <td>22</td>\n",
       "      <td>22</td>\n",
       "      <td>22</td>\n",
       "      <td>22</td>\n",
       "      <td>11</td>\n",
       "      <td>22</td>\n",
       "      <td>22</td>\n",
       "      <td>22</td>\n",
       "      <td>22</td>\n",
       "      <td>11</td>\n",
       "    </tr>\n",
       "    <tr>\n",
       "      <td>Zambia</td>\n",
       "      <td>71</td>\n",
       "      <td>71</td>\n",
       "      <td>71</td>\n",
       "      <td>71</td>\n",
       "      <td>71</td>\n",
       "      <td>71</td>\n",
       "      <td>71</td>\n",
       "      <td>71</td>\n",
       "      <td>0</td>\n",
       "      <td>71</td>\n",
       "      <td>71</td>\n",
       "      <td>71</td>\n",
       "      <td>71</td>\n",
       "      <td>40</td>\n",
       "    </tr>\n",
       "    <tr>\n",
       "      <td>Zimbabwe</td>\n",
       "      <td>16</td>\n",
       "      <td>16</td>\n",
       "      <td>16</td>\n",
       "      <td>16</td>\n",
       "      <td>16</td>\n",
       "      <td>16</td>\n",
       "      <td>16</td>\n",
       "      <td>16</td>\n",
       "      <td>11</td>\n",
       "      <td>16</td>\n",
       "      <td>16</td>\n",
       "      <td>16</td>\n",
       "      <td>16</td>\n",
       "      <td>12</td>\n",
       "    </tr>\n",
       "  </tbody>\n",
       "</table>\n",
       "<p>136 rows × 14 columns</p>\n",
       "</div>"
      ],
      "text/plain": [
       "             Project  Date  Investor  Technology  Asset Class  Invested_USDM  \\\n",
       "Country                                                                        \n",
       "Afghanistan      100   100       100         100          100            100   \n",
       "Albania           26    26        26          26           26             26   \n",
       "Algeria           32    32        32          32           32             32   \n",
       "Angola            16    16        16          16           16             16   \n",
       "Argentina         95    95        95          95           95             95   \n",
       "...              ...   ...       ...         ...          ...            ...   \n",
       "Uruguay           36    36        36          36           36             36   \n",
       "Uzbekistan        16    16        16          16           16             16   \n",
       "Vanuatu           22    22        22          22           22             22   \n",
       "Zambia            71    71        71          71           71             71   \n",
       "Zimbabwe          16    16        16          16           16             16   \n",
       "\n",
       "             Source  gdp_g_anpc  gni_g_anpc  AdjSav_Engdep_usd  \\\n",
       "Country                                                          \n",
       "Afghanistan     100         100           0                100   \n",
       "Albania          26          26          17                 26   \n",
       "Algeria          32          32          32                 32   \n",
       "Angola           16          16          16                 16   \n",
       "Argentina        95          95          95                 95   \n",
       "...             ...         ...         ...                ...   \n",
       "Uruguay          36          36          36                 36   \n",
       "Uzbekistan       16          16           1                 16   \n",
       "Vanuatu          22          22          11                 22   \n",
       "Zambia           71          71           0                 71   \n",
       "Zimbabwe         16          16          11                 16   \n",
       "\n",
       "             AdjSav_CO2dmg_usd  AdjSav_Ptcldmg_pcGNI  Unemp_pcLF  \\\n",
       "Country                                                            \n",
       "Afghanistan                100                    79         100   \n",
       "Albania                     26                    26          26   \n",
       "Algeria                     32                    32          32   \n",
       "Angola                      16                    16          16   \n",
       "Argentina                   95                    95          95   \n",
       "...                        ...                   ...         ...   \n",
       "Uruguay                     36                    36          36   \n",
       "Uzbekistan                  16                    16          16   \n",
       "Vanuatu                     22                    22          22   \n",
       "Zambia                      71                    71          71   \n",
       "Zimbabwe                    16                    16          16   \n",
       "\n",
       "             AdjNetNatSv_usd  \n",
       "Country                       \n",
       "Afghanistan               79  \n",
       "Albania                   26  \n",
       "Algeria                   24  \n",
       "Angola                    16  \n",
       "Argentina                 95  \n",
       "...                      ...  \n",
       "Uruguay                   36  \n",
       "Uzbekistan                 0  \n",
       "Vanuatu                   11  \n",
       "Zambia                    40  \n",
       "Zimbabwe                  12  \n",
       "\n",
       "[136 rows x 14 columns]"
      ]
     },
     "execution_count": 59,
     "metadata": {},
     "output_type": "execute_result"
    }
   ],
   "source": [
    "#I have values for 136 countries: how many for each? \n",
    "df3.groupby('Country').count()"
   ]
  },
  {
   "cell_type": "code",
   "execution_count": 63,
   "metadata": {
    "ExecuteTime": {
     "end_time": "2020-05-06T16:27:35.351444Z",
     "start_time": "2020-05-06T16:27:35.335829Z"
    }
   },
   "outputs": [
    {
     "data": {
      "text/plain": [
       "Project                 52.779412\n",
       "Date                    52.779412\n",
       "Investor                52.779412\n",
       "Technology              52.779412\n",
       "Asset Class             52.779412\n",
       "Invested_USDM           52.779412\n",
       "Source                  52.779412\n",
       "gdp_g_anpc              52.779412\n",
       "gni_g_anpc              47.889706\n",
       "AdjSav_Engdep_usd       52.573529\n",
       "AdjSav_CO2dmg_usd       52.441176\n",
       "AdjSav_Ptcldmg_pcGNI    51.948529\n",
       "Unemp_pcLF              52.323529\n",
       "AdjNetNatSv_usd         48.544118\n",
       "dtype: float64"
      ]
     },
     "execution_count": 63,
     "metadata": {},
     "output_type": "execute_result"
    }
   ],
   "source": [
    "#Is the below saying that I have these many values per country, on average? \n",
    "df3.groupby('Country').count().mean()"
   ]
  },
  {
   "cell_type": "code",
   "execution_count": 70,
   "metadata": {
    "ExecuteTime": {
     "end_time": "2020-05-06T16:29:44.622235Z",
     "start_time": "2020-05-06T16:29:44.609042Z"
    }
   },
   "outputs": [
    {
     "data": {
      "text/plain": [
       "gdp_g_anpc              2.282023e+02\n",
       "gni_g_anpc              2.021937e+02\n",
       "AdjSav_Engdep_usd       4.393649e+11\n",
       "AdjSav_CO2dmg_usd       7.337827e+11\n",
       "AdjSav_Ptcldmg_pcGNI    3.001952e+01\n",
       "Unemp_pcLF              3.625279e+02\n",
       "dtype: float64"
      ]
     },
     "execution_count": 70,
     "metadata": {},
     "output_type": "execute_result"
    }
   ],
   "source": [
    "df3.groupby('Country').sum().mean()"
   ]
  },
  {
   "cell_type": "code",
   "execution_count": 64,
   "metadata": {
    "ExecuteTime": {
     "end_time": "2020-05-06T16:28:43.369913Z",
     "start_time": "2020-05-06T16:28:43.229807Z"
    }
   },
   "outputs": [
    {
     "data": {
      "text/plain": [
       "Technology   Country    \n",
       "Bioenergy    Afghanistan                                         1.23041.6391\n",
       "             Albania                                                   0.8805\n",
       "             Angola                                                   17.5000\n",
       "             Argentina      0.03410.04800.07290.09240.11370.07190.098066.3...\n",
       "             Armenia        0.20960.50860.46751.11670.36010.17610.10160.00...\n",
       "                                                  ...                        \n",
       "Wind energy  Turkey         13.35601.594744.88100.076536.49230.057118.3824...\n",
       "             Uganda                                                    0.0500\n",
       "             Ukraine                                            0.117818.2638\n",
       "             Uruguay        100.042921.150952.06209.066068.584571.686371.6863\n",
       "             Zambia                                                    1.0354\n",
       "Name: Invested_USDM, Length: 561, dtype: object"
      ]
     },
     "execution_count": 64,
     "metadata": {},
     "output_type": "execute_result"
    }
   ],
   "source": [
    "df3.groupby(['Technology', 'Country'])['Invested_USDM'].sum()"
   ]
  },
  {
   "cell_type": "code",
   "execution_count": 51,
   "metadata": {
    "ExecuteTime": {
     "end_time": "2020-05-06T16:19:54.418367Z",
     "start_time": "2020-05-06T16:19:54.379378Z"
    }
   },
   "outputs": [
    {
     "data": {
      "text/html": [
       "<div>\n",
       "<style scoped>\n",
       "    .dataframe tbody tr th:only-of-type {\n",
       "        vertical-align: middle;\n",
       "    }\n",
       "\n",
       "    .dataframe tbody tr th {\n",
       "        vertical-align: top;\n",
       "    }\n",
       "\n",
       "    .dataframe thead th {\n",
       "        text-align: right;\n",
       "    }\n",
       "</style>\n",
       "<table border=\"1\" class=\"dataframe\">\n",
       "  <thead>\n",
       "    <tr style=\"text-align: right;\">\n",
       "      <th></th>\n",
       "      <th>Country</th>\n",
       "      <th>Project</th>\n",
       "      <th>Date</th>\n",
       "      <th>Investor</th>\n",
       "      <th>Technology</th>\n",
       "      <th>Asset Class</th>\n",
       "      <th>Invested_USDM</th>\n",
       "      <th>Source</th>\n",
       "      <th>gdp_g_anpc</th>\n",
       "      <th>AdjSav_pcGNI</th>\n",
       "      <th>gni_g_anpc</th>\n",
       "      <th>AdjSav_Engdep_usd</th>\n",
       "      <th>AdjSav_CO2dmg_usd</th>\n",
       "      <th>AdjSav_Ptcldmg_pcGNI</th>\n",
       "      <th>Pvt_inv_USDM</th>\n",
       "      <th>Unemp_pcLF</th>\n",
       "      <th>CO2ems_mTpCpt</th>\n",
       "      <th>AdjNetNatSv_usd</th>\n",
       "    </tr>\n",
       "  </thead>\n",
       "  <tbody>\n",
       "    <tr>\n",
       "      <td>0</td>\n",
       "      <td>Afghanistan</td>\n",
       "      <td>afghanistan: emergency national solidarity pro...</td>\n",
       "      <td>2003-01-01</td>\n",
       "      <td>WBG</td>\n",
       "      <td>Multiple renewables</td>\n",
       "      <td>Grant</td>\n",
       "      <td>22.6498</td>\n",
       "      <td>2002-03 OECD Credit Report System (CRS) Database</td>\n",
       "      <td>8.832278</td>\n",
       "      <td>NaN</td>\n",
       "      <td>NaN</td>\n",
       "      <td>9.581553e+05</td>\n",
       "      <td>1.998357e+07</td>\n",
       "      <td>NaN</td>\n",
       "      <td>1.58</td>\n",
       "      <td>11.604</td>\n",
       "      <td>0.050481</td>\n",
       "      <td>NaN</td>\n",
       "    </tr>\n",
       "    <tr>\n",
       "      <td>1</td>\n",
       "      <td>Afghanistan</td>\n",
       "      <td>hydrocarbon resource survey — stage 1</td>\n",
       "      <td>2003-01-01</td>\n",
       "      <td>Others</td>\n",
       "      <td>Renewable Hydropower</td>\n",
       "      <td>Grant</td>\n",
       "      <td>0.2698</td>\n",
       "      <td>2002-03 OECD Credit Report System (CRS) Database</td>\n",
       "      <td>8.832278</td>\n",
       "      <td>NaN</td>\n",
       "      <td>NaN</td>\n",
       "      <td>9.581553e+05</td>\n",
       "      <td>1.998357e+07</td>\n",
       "      <td>NaN</td>\n",
       "      <td>1.58</td>\n",
       "      <td>11.604</td>\n",
       "      <td>0.050481</td>\n",
       "      <td>NaN</td>\n",
       "    </tr>\n",
       "    <tr>\n",
       "      <td>2</td>\n",
       "      <td>Afghanistan</td>\n",
       "      <td>support to the electricity sector and dissemin...</td>\n",
       "      <td>2003-01-01</td>\n",
       "      <td>Others</td>\n",
       "      <td>Multiple renewables</td>\n",
       "      <td>Grant</td>\n",
       "      <td>1.9594</td>\n",
       "      <td>2002-03 OECD Credit Report System (CRS) Database</td>\n",
       "      <td>8.832278</td>\n",
       "      <td>NaN</td>\n",
       "      <td>NaN</td>\n",
       "      <td>9.581553e+05</td>\n",
       "      <td>1.998357e+07</td>\n",
       "      <td>NaN</td>\n",
       "      <td>1.58</td>\n",
       "      <td>11.604</td>\n",
       "      <td>0.050481</td>\n",
       "      <td>NaN</td>\n",
       "    </tr>\n",
       "    <tr>\n",
       "      <td>3</td>\n",
       "      <td>Afghanistan</td>\n",
       "      <td>afghanistan: emergency national solidarity pro...</td>\n",
       "      <td>2005-01-01</td>\n",
       "      <td>WBG</td>\n",
       "      <td>Multiple renewables</td>\n",
       "      <td>Grant</td>\n",
       "      <td>5.9994</td>\n",
       "      <td>2004-05 OECD Credit Report System (CRS) Database</td>\n",
       "      <td>11.229715</td>\n",
       "      <td>NaN</td>\n",
       "      <td>NaN</td>\n",
       "      <td>1.472570e+06</td>\n",
       "      <td>2.495481e+07</td>\n",
       "      <td>NaN</td>\n",
       "      <td>NaN</td>\n",
       "      <td>11.429</td>\n",
       "      <td>0.051744</td>\n",
       "      <td>NaN</td>\n",
       "    </tr>\n",
       "    <tr>\n",
       "      <td>4</td>\n",
       "      <td>Afghanistan</td>\n",
       "      <td>development worker</td>\n",
       "      <td>2005-01-01</td>\n",
       "      <td>Others</td>\n",
       "      <td>Multiple renewables</td>\n",
       "      <td>Grant</td>\n",
       "      <td>0.1376</td>\n",
       "      <td>2004-05 OECD Credit Report System (CRS) Database</td>\n",
       "      <td>11.229715</td>\n",
       "      <td>NaN</td>\n",
       "      <td>NaN</td>\n",
       "      <td>1.472570e+06</td>\n",
       "      <td>2.495481e+07</td>\n",
       "      <td>NaN</td>\n",
       "      <td>NaN</td>\n",
       "      <td>11.429</td>\n",
       "      <td>0.051744</td>\n",
       "      <td>NaN</td>\n",
       "    </tr>\n",
       "    <tr>\n",
       "      <td>...</td>\n",
       "      <td>...</td>\n",
       "      <td>...</td>\n",
       "      <td>...</td>\n",
       "      <td>...</td>\n",
       "      <td>...</td>\n",
       "      <td>...</td>\n",
       "      <td>...</td>\n",
       "      <td>...</td>\n",
       "      <td>...</td>\n",
       "      <td>...</td>\n",
       "      <td>...</td>\n",
       "      <td>...</td>\n",
       "      <td>...</td>\n",
       "      <td>...</td>\n",
       "      <td>...</td>\n",
       "      <td>...</td>\n",
       "      <td>...</td>\n",
       "      <td>...</td>\n",
       "    </tr>\n",
       "    <tr>\n",
       "      <td>7162</td>\n",
       "      <td>Zimbabwe</td>\n",
       "      <td>multiple renewables*</td>\n",
       "      <td>2000-01-01</td>\n",
       "      <td>Others</td>\n",
       "      <td>Multiple renewables</td>\n",
       "      <td>Grant</td>\n",
       "      <td>0.0344</td>\n",
       "      <td>2000-01 OECD Credit Report System (CRS) Database</td>\n",
       "      <td>-3.059190</td>\n",
       "      <td>NaN</td>\n",
       "      <td>NaN</td>\n",
       "      <td>1.422838e+07</td>\n",
       "      <td>2.012912e+08</td>\n",
       "      <td>0.877781</td>\n",
       "      <td>NaN</td>\n",
       "      <td>5.640</td>\n",
       "      <td>1.171874</td>\n",
       "      <td>NaN</td>\n",
       "    </tr>\n",
       "    <tr>\n",
       "      <td>7163</td>\n",
       "      <td>Zimbabwe</td>\n",
       "      <td>solarenergie zimbabwe; phase 3</td>\n",
       "      <td>2001-01-01</td>\n",
       "      <td>Others</td>\n",
       "      <td>Solar energy</td>\n",
       "      <td>Grant</td>\n",
       "      <td>0.2663</td>\n",
       "      <td>2000-01 OECD Credit Report System (CRS) Database</td>\n",
       "      <td>1.439615</td>\n",
       "      <td>NaN</td>\n",
       "      <td>NaN</td>\n",
       "      <td>2.456323e+07</td>\n",
       "      <td>1.915185e+08</td>\n",
       "      <td>0.903919</td>\n",
       "      <td>NaN</td>\n",
       "      <td>5.309</td>\n",
       "      <td>1.056377</td>\n",
       "      <td>NaN</td>\n",
       "    </tr>\n",
       "    <tr>\n",
       "      <td>7164</td>\n",
       "      <td>Zimbabwe</td>\n",
       "      <td>multiple renewables*</td>\n",
       "      <td>2003-01-01</td>\n",
       "      <td>JICA</td>\n",
       "      <td>Multiple renewables</td>\n",
       "      <td>Grant</td>\n",
       "      <td>0.0112</td>\n",
       "      <td>2002-03 OECD Credit Report System (CRS) Database</td>\n",
       "      <td>-16.995075</td>\n",
       "      <td>NaN</td>\n",
       "      <td>NaN</td>\n",
       "      <td>1.536121e+07</td>\n",
       "      <td>1.781357e+08</td>\n",
       "      <td>1.173595</td>\n",
       "      <td>NaN</td>\n",
       "      <td>4.733</td>\n",
       "      <td>0.889343</td>\n",
       "      <td>NaN</td>\n",
       "    </tr>\n",
       "    <tr>\n",
       "      <td>7165</td>\n",
       "      <td>Zimbabwe</td>\n",
       "      <td>strengthen productive capacity for solar therm...</td>\n",
       "      <td>2005-01-01</td>\n",
       "      <td>Others</td>\n",
       "      <td>Solar energy</td>\n",
       "      <td>Grant</td>\n",
       "      <td>0.4697</td>\n",
       "      <td>2004-05 OECD Credit Report System (CRS) Database</td>\n",
       "      <td>-5.711084</td>\n",
       "      <td>NaN</td>\n",
       "      <td>NaN</td>\n",
       "      <td>3.814749e+07</td>\n",
       "      <td>2.024648e+08</td>\n",
       "      <td>1.151598</td>\n",
       "      <td>NaN</td>\n",
       "      <td>4.474</td>\n",
       "      <td>0.891798</td>\n",
       "      <td>NaN</td>\n",
       "    </tr>\n",
       "    <tr>\n",
       "      <td>7166</td>\n",
       "      <td>Zimbabwe</td>\n",
       "      <td>construction of a photovoltaic plant in siabuwa</td>\n",
       "      <td>2009-01-01</td>\n",
       "      <td>Others</td>\n",
       "      <td>Solar energy</td>\n",
       "      <td>Grant</td>\n",
       "      <td>0.0160</td>\n",
       "      <td>2009 OECD Credit Report System (CRS) Database</td>\n",
       "      <td>12.019560</td>\n",
       "      <td>-11.389336</td>\n",
       "      <td>NaN</td>\n",
       "      <td>3.173353e+07</td>\n",
       "      <td>1.285342e+08</td>\n",
       "      <td>1.111759</td>\n",
       "      <td>NaN</td>\n",
       "      <td>5.009</td>\n",
       "      <td>0.447289</td>\n",
       "      <td>-1231651078.52804</td>\n",
       "    </tr>\n",
       "  </tbody>\n",
       "</table>\n",
       "<p>665 rows × 18 columns</p>\n",
       "</div>"
      ],
      "text/plain": [
       "          Country                                            Project  \\\n",
       "0     Afghanistan  afghanistan: emergency national solidarity pro...   \n",
       "1     Afghanistan              hydrocarbon resource survey — stage 1   \n",
       "2     Afghanistan  support to the electricity sector and dissemin...   \n",
       "3     Afghanistan  afghanistan: emergency national solidarity pro...   \n",
       "4     Afghanistan                                 development worker   \n",
       "...           ...                                                ...   \n",
       "7162     Zimbabwe                               multiple renewables*   \n",
       "7163     Zimbabwe                     solarenergie zimbabwe; phase 3   \n",
       "7164     Zimbabwe                               multiple renewables*   \n",
       "7165     Zimbabwe  strengthen productive capacity for solar therm...   \n",
       "7166     Zimbabwe    construction of a photovoltaic plant in siabuwa   \n",
       "\n",
       "            Date Investor            Technology Asset Class Invested_USDM  \\\n",
       "0     2003-01-01      WBG   Multiple renewables       Grant       22.6498   \n",
       "1     2003-01-01   Others  Renewable Hydropower       Grant        0.2698   \n",
       "2     2003-01-01   Others   Multiple renewables       Grant        1.9594   \n",
       "3     2005-01-01      WBG   Multiple renewables       Grant        5.9994   \n",
       "4     2005-01-01   Others   Multiple renewables       Grant        0.1376   \n",
       "...          ...      ...                   ...         ...           ...   \n",
       "7162  2000-01-01   Others   Multiple renewables       Grant        0.0344   \n",
       "7163  2001-01-01   Others          Solar energy       Grant        0.2663   \n",
       "7164  2003-01-01     JICA   Multiple renewables       Grant        0.0112   \n",
       "7165  2005-01-01   Others          Solar energy       Grant        0.4697   \n",
       "7166  2009-01-01   Others          Solar energy       Grant        0.0160   \n",
       "\n",
       "                                                Source  gdp_g_anpc  \\\n",
       "0     2002-03 OECD Credit Report System (CRS) Database    8.832278   \n",
       "1     2002-03 OECD Credit Report System (CRS) Database    8.832278   \n",
       "2     2002-03 OECD Credit Report System (CRS) Database    8.832278   \n",
       "3     2004-05 OECD Credit Report System (CRS) Database   11.229715   \n",
       "4     2004-05 OECD Credit Report System (CRS) Database   11.229715   \n",
       "...                                                ...         ...   \n",
       "7162  2000-01 OECD Credit Report System (CRS) Database   -3.059190   \n",
       "7163  2000-01 OECD Credit Report System (CRS) Database    1.439615   \n",
       "7164  2002-03 OECD Credit Report System (CRS) Database  -16.995075   \n",
       "7165  2004-05 OECD Credit Report System (CRS) Database   -5.711084   \n",
       "7166     2009 OECD Credit Report System (CRS) Database   12.019560   \n",
       "\n",
       "      AdjSav_pcGNI  gni_g_anpc  AdjSav_Engdep_usd  AdjSav_CO2dmg_usd  \\\n",
       "0              NaN         NaN       9.581553e+05       1.998357e+07   \n",
       "1              NaN         NaN       9.581553e+05       1.998357e+07   \n",
       "2              NaN         NaN       9.581553e+05       1.998357e+07   \n",
       "3              NaN         NaN       1.472570e+06       2.495481e+07   \n",
       "4              NaN         NaN       1.472570e+06       2.495481e+07   \n",
       "...            ...         ...                ...                ...   \n",
       "7162           NaN         NaN       1.422838e+07       2.012912e+08   \n",
       "7163           NaN         NaN       2.456323e+07       1.915185e+08   \n",
       "7164           NaN         NaN       1.536121e+07       1.781357e+08   \n",
       "7165           NaN         NaN       3.814749e+07       2.024648e+08   \n",
       "7166    -11.389336         NaN       3.173353e+07       1.285342e+08   \n",
       "\n",
       "      AdjSav_Ptcldmg_pcGNI  Pvt_inv_USDM  Unemp_pcLF  CO2ems_mTpCpt  \\\n",
       "0                      NaN          1.58      11.604       0.050481   \n",
       "1                      NaN          1.58      11.604       0.050481   \n",
       "2                      NaN          1.58      11.604       0.050481   \n",
       "3                      NaN           NaN      11.429       0.051744   \n",
       "4                      NaN           NaN      11.429       0.051744   \n",
       "...                    ...           ...         ...            ...   \n",
       "7162              0.877781           NaN       5.640       1.171874   \n",
       "7163              0.903919           NaN       5.309       1.056377   \n",
       "7164              1.173595           NaN       4.733       0.889343   \n",
       "7165              1.151598           NaN       4.474       0.891798   \n",
       "7166              1.111759           NaN       5.009       0.447289   \n",
       "\n",
       "        AdjNetNatSv_usd  \n",
       "0                   NaN  \n",
       "1                   NaN  \n",
       "2                   NaN  \n",
       "3                   NaN  \n",
       "4                   NaN  \n",
       "...                 ...  \n",
       "7162                NaN  \n",
       "7163                NaN  \n",
       "7164                NaN  \n",
       "7165                NaN  \n",
       "7166  -1231651078.52804  \n",
       "\n",
       "[665 rows x 18 columns]"
      ]
     },
     "execution_count": 51,
     "metadata": {},
     "output_type": "execute_result"
    }
   ],
   "source": [
    "df3[df3.gni_g_anpc.isnull()]"
   ]
  },
  {
   "cell_type": "code",
   "execution_count": 40,
   "metadata": {
    "ExecuteTime": {
     "end_time": "2020-05-06T16:14:41.539913Z",
     "start_time": "2020-05-06T16:14:41.532503Z"
    }
   },
   "outputs": [],
   "source": [
    "X = df3.copy()"
   ]
  },
  {
   "cell_type": "code",
   "execution_count": 41,
   "metadata": {
    "ExecuteTime": {
     "end_time": "2020-05-06T16:15:50.991701Z",
     "start_time": "2020-05-06T16:15:50.982680Z"
    }
   },
   "outputs": [
    {
     "data": {
      "text/plain": [
       "Index(['Country', 'Project', 'Date', 'Investor', 'Technology', 'Asset Class',\n",
       "       'Invested_USDM', 'Source', 'gdp_g_anpc', 'AdjSav_pcGNI', 'gni_g_anpc',\n",
       "       'AdjSav_Engdep_usd', 'AdjSav_CO2dmg_usd', 'AdjSav_Ptcldmg_pcGNI',\n",
       "       'Pvt_inv_USDM', 'Unemp_pcLF', 'CO2ems_mTpCpt', 'AdjNetNatSv_usd'],\n",
       "      dtype='object')"
      ]
     },
     "execution_count": 41,
     "metadata": {},
     "output_type": "execute_result"
    }
   ],
   "source": [
    "X.columns"
   ]
  },
  {
   "cell_type": "code",
   "execution_count": 42,
   "metadata": {
    "ExecuteTime": {
     "end_time": "2020-05-06T16:15:51.886058Z",
     "start_time": "2020-05-06T16:15:51.869284Z"
    }
   },
   "outputs": [],
   "source": [
    "y = X.pop('Invested_USDM')"
   ]
  },
  {
   "cell_type": "code",
   "execution_count": 43,
   "metadata": {
    "ExecuteTime": {
     "end_time": "2020-05-06T16:16:37.506668Z",
     "start_time": "2020-05-06T16:16:37.457976Z"
    }
   },
   "outputs": [
    {
     "data": {
      "text/html": [
       "<div>\n",
       "<style scoped>\n",
       "    .dataframe tbody tr th:only-of-type {\n",
       "        vertical-align: middle;\n",
       "    }\n",
       "\n",
       "    .dataframe tbody tr th {\n",
       "        vertical-align: top;\n",
       "    }\n",
       "\n",
       "    .dataframe thead th {\n",
       "        text-align: right;\n",
       "    }\n",
       "</style>\n",
       "<table border=\"1\" class=\"dataframe\">\n",
       "  <thead>\n",
       "    <tr style=\"text-align: right;\">\n",
       "      <th></th>\n",
       "      <th>Country</th>\n",
       "      <th>Project</th>\n",
       "      <th>Date</th>\n",
       "      <th>Investor</th>\n",
       "      <th>Source</th>\n",
       "      <th>gdp_g_anpc</th>\n",
       "      <th>AdjSav_pcGNI</th>\n",
       "      <th>gni_g_anpc</th>\n",
       "      <th>AdjSav_Engdep_usd</th>\n",
       "      <th>AdjSav_CO2dmg_usd</th>\n",
       "      <th>...</th>\n",
       "      <th>Technology_Solar energy</th>\n",
       "      <th>Technology_Wind energy</th>\n",
       "      <th>Asset Class_Credit line</th>\n",
       "      <th>Asset Class_Equity Investment</th>\n",
       "      <th>Asset Class_Grant</th>\n",
       "      <th>Asset Class_Guarantee</th>\n",
       "      <th>Asset Class_Insurance</th>\n",
       "      <th>Asset Class_Loan</th>\n",
       "      <th>Asset Class_Other Official Flows (non Export Credit)</th>\n",
       "      <th>Asset Class_Private Development Finance</th>\n",
       "    </tr>\n",
       "  </thead>\n",
       "  <tbody>\n",
       "    <tr>\n",
       "      <td>0</td>\n",
       "      <td>Afghanistan</td>\n",
       "      <td>afghanistan: emergency national solidarity pro...</td>\n",
       "      <td>2003-01-01</td>\n",
       "      <td>WBG</td>\n",
       "      <td>2002-03 OECD Credit Report System (CRS) Database</td>\n",
       "      <td>8.832278</td>\n",
       "      <td>NaN</td>\n",
       "      <td>NaN</td>\n",
       "      <td>9.581553e+05</td>\n",
       "      <td>1.998357e+07</td>\n",
       "      <td>...</td>\n",
       "      <td>0</td>\n",
       "      <td>0</td>\n",
       "      <td>0</td>\n",
       "      <td>0</td>\n",
       "      <td>1</td>\n",
       "      <td>0</td>\n",
       "      <td>0</td>\n",
       "      <td>0</td>\n",
       "      <td>0</td>\n",
       "      <td>0</td>\n",
       "    </tr>\n",
       "    <tr>\n",
       "      <td>1</td>\n",
       "      <td>Afghanistan</td>\n",
       "      <td>hydrocarbon resource survey — stage 1</td>\n",
       "      <td>2003-01-01</td>\n",
       "      <td>Others</td>\n",
       "      <td>2002-03 OECD Credit Report System (CRS) Database</td>\n",
       "      <td>8.832278</td>\n",
       "      <td>NaN</td>\n",
       "      <td>NaN</td>\n",
       "      <td>9.581553e+05</td>\n",
       "      <td>1.998357e+07</td>\n",
       "      <td>...</td>\n",
       "      <td>0</td>\n",
       "      <td>0</td>\n",
       "      <td>0</td>\n",
       "      <td>0</td>\n",
       "      <td>1</td>\n",
       "      <td>0</td>\n",
       "      <td>0</td>\n",
       "      <td>0</td>\n",
       "      <td>0</td>\n",
       "      <td>0</td>\n",
       "    </tr>\n",
       "    <tr>\n",
       "      <td>2</td>\n",
       "      <td>Afghanistan</td>\n",
       "      <td>support to the electricity sector and dissemin...</td>\n",
       "      <td>2003-01-01</td>\n",
       "      <td>Others</td>\n",
       "      <td>2002-03 OECD Credit Report System (CRS) Database</td>\n",
       "      <td>8.832278</td>\n",
       "      <td>NaN</td>\n",
       "      <td>NaN</td>\n",
       "      <td>9.581553e+05</td>\n",
       "      <td>1.998357e+07</td>\n",
       "      <td>...</td>\n",
       "      <td>0</td>\n",
       "      <td>0</td>\n",
       "      <td>0</td>\n",
       "      <td>0</td>\n",
       "      <td>1</td>\n",
       "      <td>0</td>\n",
       "      <td>0</td>\n",
       "      <td>0</td>\n",
       "      <td>0</td>\n",
       "      <td>0</td>\n",
       "    </tr>\n",
       "    <tr>\n",
       "      <td>3</td>\n",
       "      <td>Afghanistan</td>\n",
       "      <td>afghanistan: emergency national solidarity pro...</td>\n",
       "      <td>2005-01-01</td>\n",
       "      <td>WBG</td>\n",
       "      <td>2004-05 OECD Credit Report System (CRS) Database</td>\n",
       "      <td>11.229715</td>\n",
       "      <td>NaN</td>\n",
       "      <td>NaN</td>\n",
       "      <td>1.472570e+06</td>\n",
       "      <td>2.495481e+07</td>\n",
       "      <td>...</td>\n",
       "      <td>0</td>\n",
       "      <td>0</td>\n",
       "      <td>0</td>\n",
       "      <td>0</td>\n",
       "      <td>1</td>\n",
       "      <td>0</td>\n",
       "      <td>0</td>\n",
       "      <td>0</td>\n",
       "      <td>0</td>\n",
       "      <td>0</td>\n",
       "    </tr>\n",
       "    <tr>\n",
       "      <td>4</td>\n",
       "      <td>Afghanistan</td>\n",
       "      <td>development worker</td>\n",
       "      <td>2005-01-01</td>\n",
       "      <td>Others</td>\n",
       "      <td>2004-05 OECD Credit Report System (CRS) Database</td>\n",
       "      <td>11.229715</td>\n",
       "      <td>NaN</td>\n",
       "      <td>NaN</td>\n",
       "      <td>1.472570e+06</td>\n",
       "      <td>2.495481e+07</td>\n",
       "      <td>...</td>\n",
       "      <td>0</td>\n",
       "      <td>0</td>\n",
       "      <td>0</td>\n",
       "      <td>0</td>\n",
       "      <td>1</td>\n",
       "      <td>0</td>\n",
       "      <td>0</td>\n",
       "      <td>0</td>\n",
       "      <td>0</td>\n",
       "      <td>0</td>\n",
       "    </tr>\n",
       "    <tr>\n",
       "      <td>...</td>\n",
       "      <td>...</td>\n",
       "      <td>...</td>\n",
       "      <td>...</td>\n",
       "      <td>...</td>\n",
       "      <td>...</td>\n",
       "      <td>...</td>\n",
       "      <td>...</td>\n",
       "      <td>...</td>\n",
       "      <td>...</td>\n",
       "      <td>...</td>\n",
       "      <td>...</td>\n",
       "      <td>...</td>\n",
       "      <td>...</td>\n",
       "      <td>...</td>\n",
       "      <td>...</td>\n",
       "      <td>...</td>\n",
       "      <td>...</td>\n",
       "      <td>...</td>\n",
       "      <td>...</td>\n",
       "      <td>...</td>\n",
       "      <td>...</td>\n",
       "    </tr>\n",
       "    <tr>\n",
       "      <td>7173</td>\n",
       "      <td>Zimbabwe</td>\n",
       "      <td>tc aggregated activities</td>\n",
       "      <td>2016-01-01</td>\n",
       "      <td>JICA</td>\n",
       "      <td>2016 OECD Credit Report System (CRS) Database</td>\n",
       "      <td>0.755869</td>\n",
       "      <td>-1.334158</td>\n",
       "      <td>2.468722</td>\n",
       "      <td>1.347917e+07</td>\n",
       "      <td>3.535575e+08</td>\n",
       "      <td>...</td>\n",
       "      <td>0</td>\n",
       "      <td>0</td>\n",
       "      <td>0</td>\n",
       "      <td>0</td>\n",
       "      <td>1</td>\n",
       "      <td>0</td>\n",
       "      <td>0</td>\n",
       "      <td>0</td>\n",
       "      <td>0</td>\n",
       "      <td>0</td>\n",
       "    </tr>\n",
       "    <tr>\n",
       "      <td>7174</td>\n",
       "      <td>Zimbabwe</td>\n",
       "      <td>yali - rugare global solar private limited</td>\n",
       "      <td>2016-01-01</td>\n",
       "      <td>Others</td>\n",
       "      <td>2016 OECD Credit Report System (CRS) Database</td>\n",
       "      <td>0.755869</td>\n",
       "      <td>-1.334158</td>\n",
       "      <td>2.468722</td>\n",
       "      <td>1.347917e+07</td>\n",
       "      <td>3.535575e+08</td>\n",
       "      <td>...</td>\n",
       "      <td>1</td>\n",
       "      <td>0</td>\n",
       "      <td>0</td>\n",
       "      <td>0</td>\n",
       "      <td>1</td>\n",
       "      <td>0</td>\n",
       "      <td>0</td>\n",
       "      <td>0</td>\n",
       "      <td>0</td>\n",
       "      <td>0</td>\n",
       "    </tr>\n",
       "    <tr>\n",
       "      <td>7175</td>\n",
       "      <td>Zimbabwe</td>\n",
       "      <td>aecf 2017-22 renewable energy and adaptation t...</td>\n",
       "      <td>2017-01-01</td>\n",
       "      <td>Others</td>\n",
       "      <td>2017 OECD Credit Report System (CRS) Database</td>\n",
       "      <td>4.704035</td>\n",
       "      <td>-2.423259</td>\n",
       "      <td>4.744133</td>\n",
       "      <td>3.132278e+07</td>\n",
       "      <td>3.730322e+08</td>\n",
       "      <td>...</td>\n",
       "      <td>0</td>\n",
       "      <td>0</td>\n",
       "      <td>0</td>\n",
       "      <td>0</td>\n",
       "      <td>1</td>\n",
       "      <td>0</td>\n",
       "      <td>0</td>\n",
       "      <td>0</td>\n",
       "      <td>0</td>\n",
       "      <td>0</td>\n",
       "    </tr>\n",
       "    <tr>\n",
       "      <td>7176</td>\n",
       "      <td>Zimbabwe</td>\n",
       "      <td>construction and equipment for education centr...</td>\n",
       "      <td>2017-01-01</td>\n",
       "      <td>Others</td>\n",
       "      <td>2017 OECD Credit Report System (CRS) Database</td>\n",
       "      <td>4.704035</td>\n",
       "      <td>-2.423259</td>\n",
       "      <td>4.744133</td>\n",
       "      <td>3.132278e+07</td>\n",
       "      <td>3.730322e+08</td>\n",
       "      <td>...</td>\n",
       "      <td>1</td>\n",
       "      <td>0</td>\n",
       "      <td>0</td>\n",
       "      <td>0</td>\n",
       "      <td>1</td>\n",
       "      <td>0</td>\n",
       "      <td>0</td>\n",
       "      <td>0</td>\n",
       "      <td>0</td>\n",
       "      <td>0</td>\n",
       "    </tr>\n",
       "    <tr>\n",
       "      <td>7177</td>\n",
       "      <td>Zimbabwe</td>\n",
       "      <td>tc aggregated activities</td>\n",
       "      <td>2017-01-01</td>\n",
       "      <td>JICA</td>\n",
       "      <td>2017 OECD Credit Report System (CRS) Database</td>\n",
       "      <td>4.704035</td>\n",
       "      <td>-2.423259</td>\n",
       "      <td>4.744133</td>\n",
       "      <td>3.132278e+07</td>\n",
       "      <td>3.730322e+08</td>\n",
       "      <td>...</td>\n",
       "      <td>0</td>\n",
       "      <td>0</td>\n",
       "      <td>0</td>\n",
       "      <td>0</td>\n",
       "      <td>1</td>\n",
       "      <td>0</td>\n",
       "      <td>0</td>\n",
       "      <td>0</td>\n",
       "      <td>0</td>\n",
       "      <td>0</td>\n",
       "    </tr>\n",
       "  </tbody>\n",
       "</table>\n",
       "<p>7178 rows × 30 columns</p>\n",
       "</div>"
      ],
      "text/plain": [
       "          Country                                            Project  \\\n",
       "0     Afghanistan  afghanistan: emergency national solidarity pro...   \n",
       "1     Afghanistan              hydrocarbon resource survey — stage 1   \n",
       "2     Afghanistan  support to the electricity sector and dissemin...   \n",
       "3     Afghanistan  afghanistan: emergency national solidarity pro...   \n",
       "4     Afghanistan                                 development worker   \n",
       "...           ...                                                ...   \n",
       "7173     Zimbabwe                           tc aggregated activities   \n",
       "7174     Zimbabwe         yali - rugare global solar private limited   \n",
       "7175     Zimbabwe  aecf 2017-22 renewable energy and adaptation t...   \n",
       "7176     Zimbabwe  construction and equipment for education centr...   \n",
       "7177     Zimbabwe                           tc aggregated activities   \n",
       "\n",
       "            Date Investor                                            Source  \\\n",
       "0     2003-01-01      WBG  2002-03 OECD Credit Report System (CRS) Database   \n",
       "1     2003-01-01   Others  2002-03 OECD Credit Report System (CRS) Database   \n",
       "2     2003-01-01   Others  2002-03 OECD Credit Report System (CRS) Database   \n",
       "3     2005-01-01      WBG  2004-05 OECD Credit Report System (CRS) Database   \n",
       "4     2005-01-01   Others  2004-05 OECD Credit Report System (CRS) Database   \n",
       "...          ...      ...                                               ...   \n",
       "7173  2016-01-01     JICA     2016 OECD Credit Report System (CRS) Database   \n",
       "7174  2016-01-01   Others     2016 OECD Credit Report System (CRS) Database   \n",
       "7175  2017-01-01   Others     2017 OECD Credit Report System (CRS) Database   \n",
       "7176  2017-01-01   Others     2017 OECD Credit Report System (CRS) Database   \n",
       "7177  2017-01-01     JICA     2017 OECD Credit Report System (CRS) Database   \n",
       "\n",
       "      gdp_g_anpc  AdjSav_pcGNI  gni_g_anpc  AdjSav_Engdep_usd  \\\n",
       "0       8.832278           NaN         NaN       9.581553e+05   \n",
       "1       8.832278           NaN         NaN       9.581553e+05   \n",
       "2       8.832278           NaN         NaN       9.581553e+05   \n",
       "3      11.229715           NaN         NaN       1.472570e+06   \n",
       "4      11.229715           NaN         NaN       1.472570e+06   \n",
       "...          ...           ...         ...                ...   \n",
       "7173    0.755869     -1.334158    2.468722       1.347917e+07   \n",
       "7174    0.755869     -1.334158    2.468722       1.347917e+07   \n",
       "7175    4.704035     -2.423259    4.744133       3.132278e+07   \n",
       "7176    4.704035     -2.423259    4.744133       3.132278e+07   \n",
       "7177    4.704035     -2.423259    4.744133       3.132278e+07   \n",
       "\n",
       "      AdjSav_CO2dmg_usd  ...  Technology_Solar energy  Technology_Wind energy  \\\n",
       "0          1.998357e+07  ...                        0                       0   \n",
       "1          1.998357e+07  ...                        0                       0   \n",
       "2          1.998357e+07  ...                        0                       0   \n",
       "3          2.495481e+07  ...                        0                       0   \n",
       "4          2.495481e+07  ...                        0                       0   \n",
       "...                 ...  ...                      ...                     ...   \n",
       "7173       3.535575e+08  ...                        0                       0   \n",
       "7174       3.535575e+08  ...                        1                       0   \n",
       "7175       3.730322e+08  ...                        0                       0   \n",
       "7176       3.730322e+08  ...                        1                       0   \n",
       "7177       3.730322e+08  ...                        0                       0   \n",
       "\n",
       "      Asset Class_Credit line  Asset Class_Equity Investment  \\\n",
       "0                           0                              0   \n",
       "1                           0                              0   \n",
       "2                           0                              0   \n",
       "3                           0                              0   \n",
       "4                           0                              0   \n",
       "...                       ...                            ...   \n",
       "7173                        0                              0   \n",
       "7174                        0                              0   \n",
       "7175                        0                              0   \n",
       "7176                        0                              0   \n",
       "7177                        0                              0   \n",
       "\n",
       "     Asset Class_Grant  Asset Class_Guarantee  Asset Class_Insurance  \\\n",
       "0                    1                      0                      0   \n",
       "1                    1                      0                      0   \n",
       "2                    1                      0                      0   \n",
       "3                    1                      0                      0   \n",
       "4                    1                      0                      0   \n",
       "...                ...                    ...                    ...   \n",
       "7173                 1                      0                      0   \n",
       "7174                 1                      0                      0   \n",
       "7175                 1                      0                      0   \n",
       "7176                 1                      0                      0   \n",
       "7177                 1                      0                      0   \n",
       "\n",
       "      Asset Class_Loan  Asset Class_Other Official Flows (non Export Credit)  \\\n",
       "0                    0                                                  0      \n",
       "1                    0                                                  0      \n",
       "2                    0                                                  0      \n",
       "3                    0                                                  0      \n",
       "4                    0                                                  0      \n",
       "...                ...                                                ...      \n",
       "7173                 0                                                  0      \n",
       "7174                 0                                                  0      \n",
       "7175                 0                                                  0      \n",
       "7176                 0                                                  0      \n",
       "7177                 0                                                  0      \n",
       "\n",
       "      Asset Class_Private Development Finance  \n",
       "0                                           0  \n",
       "1                                           0  \n",
       "2                                           0  \n",
       "3                                           0  \n",
       "4                                           0  \n",
       "...                                       ...  \n",
       "7173                                        0  \n",
       "7174                                        0  \n",
       "7175                                        0  \n",
       "7176                                        0  \n",
       "7177                                        0  \n",
       "\n",
       "[7178 rows x 30 columns]"
      ]
     },
     "execution_count": 43,
     "metadata": {},
     "output_type": "execute_result"
    }
   ],
   "source": [
    "#Can now carry out TFIdf on Project & dummification of Technology & Asset: \n",
    "df1_dum = pd.get_dummies(X, columns = ['Technology', 'Asset Class'], drop_first = True)\n",
    "df1_dum\n",
    "                                  \n",
    "#Returning to DF1 as DFs_pt only to study relation btw numerical values. "
   ]
  },
  {
   "cell_type": "code",
   "execution_count": null,
   "metadata": {},
   "outputs": [],
   "source": []
  },
  {
   "cell_type": "markdown",
   "metadata": {},
   "source": []
  }
 ],
 "metadata": {
  "kernelspec": {
   "display_name": "Python 3",
   "language": "python",
   "name": "python3"
  },
  "language_info": {
   "codemirror_mode": {
    "name": "ipython",
    "version": 3
   },
   "file_extension": ".py",
   "mimetype": "text/x-python",
   "name": "python",
   "nbconvert_exporter": "python",
   "pygments_lexer": "ipython3",
   "version": "3.7.4"
  },
  "toc": {
   "base_numbering": 1,
   "nav_menu": {},
   "number_sections": true,
   "sideBar": true,
   "skip_h1_title": false,
   "title_cell": "Table of Contents",
   "title_sidebar": "Contents",
   "toc_cell": false,
   "toc_position": {},
   "toc_section_display": true,
   "toc_window_display": false
  }
 },
 "nbformat": 4,
 "nbformat_minor": 2
}
